{
 "cells": [
  {
   "cell_type": "code",
   "execution_count": 1,
   "metadata": {
    "execution": {
     "iopub.execute_input": "2024-05-08T08:42:39.437397Z",
     "iopub.status.busy": "2024-05-08T08:42:39.437325Z",
     "iopub.status.idle": "2024-05-08T08:42:40.012943Z",
     "shell.execute_reply": "2024-05-08T08:42:40.012658Z",
     "shell.execute_reply.started": "2024-05-08T08:42:39.437387Z"
    },
    "id": "UBt1XYXhaqmG",
    "tags": []
   },
   "outputs": [],
   "source": [
    "import os\n",
    "from functools import wraps\n",
    "from collections import defaultdict\n",
    "from tqdm import tqdm\n",
    "\n",
    "import numpy as np\n",
    "# import matplotlib\n",
    "# import matplotlib.pyplot as plt\n",
    "import copy\n",
    "import random\n",
    "import time\n",
    "import torchvision\n",
    "import torch\n",
    "import torch.nn as nn\n",
    "import torch.nn.functional as F\n",
    "from torchvision.models import resnet\n",
    "from torch.utils.data import Dataset, DataLoader\n",
    "from torch.utils.tensorboard import SummaryWriter\n",
    "from torchvision import transforms, utils, datasets\n",
    "from argparse import ArgumentParser\n",
    "from torchvision import transforms as tt\n",
    "from PIL import Image\n",
    "from utils import AverageMeter\n",
    "from eval.finetune import *"
   ]
  },
  {
   "cell_type": "code",
   "execution_count": 2,
   "metadata": {
    "execution": {
     "iopub.execute_input": "2024-05-08T08:42:40.013654Z",
     "iopub.status.busy": "2024-05-08T08:42:40.013538Z",
     "iopub.status.idle": "2024-05-08T08:42:40.015106Z",
     "shell.execute_reply": "2024-05-08T08:42:40.014906Z",
     "shell.execute_reply.started": "2024-05-08T08:42:40.013645Z"
    },
    "id": "80RsLgxtasod",
    "tags": []
   },
   "outputs": [],
   "source": [
    "# set manual seed for reproducibility\n",
    "seed = 1234"
   ]
  },
  {
   "cell_type": "code",
   "execution_count": 3,
   "metadata": {
    "colab": {
     "base_uri": "https://localhost:8080/"
    },
    "execution": {
     "iopub.execute_input": "2024-05-08T08:42:40.015464Z",
     "iopub.status.busy": "2024-05-08T08:42:40.015372Z",
     "iopub.status.idle": "2024-05-08T08:42:40.027022Z",
     "shell.execute_reply": "2024-05-08T08:42:40.026818Z",
     "shell.execute_reply.started": "2024-05-08T08:42:40.015457Z"
    },
    "id": "iIARTSyVa0xH",
    "outputId": "7103c049-17fa-4339-a8a2-d2884cac6bf3",
    "tags": []
   },
   "outputs": [
    {
     "data": {
      "text/plain": [
       "<torch._C.Generator at 0x7f9263f22190>"
      ]
     },
     "execution_count": 3,
     "metadata": {},
     "output_type": "execute_result"
    }
   ],
   "source": [
    "# general reproducibility\n",
    "random.seed(seed)\n",
    "np.random.seed(seed)\n",
    "torch.manual_seed(seed)"
   ]
  },
  {
   "cell_type": "code",
   "execution_count": 4,
   "metadata": {
    "execution": {
     "iopub.execute_input": "2024-05-08T08:42:40.027369Z",
     "iopub.status.busy": "2024-05-08T08:42:40.027292Z",
     "iopub.status.idle": "2024-05-08T08:42:40.028819Z",
     "shell.execute_reply": "2024-05-08T08:42:40.028613Z",
     "shell.execute_reply.started": "2024-05-08T08:42:40.027361Z"
    },
    "id": "Vv3ALBpva13d",
    "tags": []
   },
   "outputs": [],
   "source": [
    "# gpu training specific\n",
    "torch.backends.cudnn.deterministic = True\n",
    "torch.backends.cudnn.benchmark = False"
   ]
  },
  {
   "cell_type": "code",
   "execution_count": 5,
   "metadata": {
    "execution": {
     "iopub.execute_input": "2024-05-08T08:42:40.029265Z",
     "iopub.status.busy": "2024-05-08T08:42:40.029124Z",
     "iopub.status.idle": "2024-05-08T08:42:40.030750Z",
     "shell.execute_reply": "2024-05-08T08:42:40.030565Z",
     "shell.execute_reply.started": "2024-05-08T08:42:40.029257Z"
    }
   },
   "outputs": [],
   "source": [
    "# ('mnist', 'femnist', 'fmnist', 'cifar10', 'cifar100', 'svhn')\n",
    "data_path = \"./data\"\n",
    "dataset = \"cifar10\"\n",
    "# ('noniid-labeldir', 'noniid-label#2', 'noniid-label#3','iid', 'default') default only for femnist\n",
    "partition = \"noniid-label#2\"\n",
    "client_num = 5\n",
    "batch_size = 32\n",
    "test_batch = 128\n",
    "# ('linear', 'exp')\n",
    "avg_freq = 10\n",
    "# avg_freq = \"linear\"\n",
    "sim_weight = True"
   ]
  },
  {
   "cell_type": "code",
   "execution_count": 6,
   "metadata": {
    "execution": {
     "iopub.execute_input": "2024-05-08T08:42:40.031087Z",
     "iopub.status.busy": "2024-05-08T08:42:40.031014Z",
     "iopub.status.idle": "2024-05-08T08:42:40.032532Z",
     "shell.execute_reply": "2024-05-08T08:42:40.032345Z",
     "shell.execute_reply.started": "2024-05-08T08:42:40.031080Z"
    },
    "tags": []
   },
   "outputs": [],
   "source": [
    "\n",
    "# save_path = f\"./model/SplitFSSL_resnet18/resnet18_cifar10_noniid_{batch_size}_{noniid_ratio}_{client_num}\"\n",
    "# save_path = f\"./model/SplitFSSLMaxpool_resnet18/resnet18Maxpooling_cifar10_{batch_size}_{noniid_ratio}_{client_num}\"\n",
    "# save_path = f\"./model/SplitFSSL_SimCLR/resnet18_simclr_{batch_size}_{noniid_ratio}_{client_num}\"\n",
    "# save_path = f\"./model/SplitFSSL_SimSiam/resnet18_simsiam_{batch_size}_{noniid_ratio}_{client_num}\"\n",
    "# save_path = f\"./model/SplitFSSL_BYOL_Avg25times/resnet18Maxpooling_cifar10_{batch_size}_{avg_freq}_{partition}_{client_num}\"\n",
    "# save_path = f\"./model/SplitFSSL_BYOL32_DifAvgtimes/resnet18Maxpooling_{dataset}_{batch_size}_{avg_freq}_{partition}_{client_num}\"\n",
    "# save_path = f\"./model/SplitFSSL_BYOL_Cluster/resnet18Maxpooling_cifar10_{batch_size}_{avg_freq}_{noniid_ratio}_{client_num}\""
   ]
  },
  {
   "cell_type": "code",
   "execution_count": 7,
   "metadata": {
    "execution": {
     "iopub.execute_input": "2024-05-08T08:42:40.033405Z",
     "iopub.status.busy": "2024-05-08T08:42:40.033278Z",
     "iopub.status.idle": "2024-05-08T08:42:40.034981Z",
     "shell.execute_reply": "2024-05-08T08:42:40.034786Z",
     "shell.execute_reply.started": "2024-05-08T08:42:40.033398Z"
    }
   },
   "outputs": [
    {
     "name": "stdout",
     "output_type": "stream",
     "text": [
      "./model/SplitFSSL_BYOL32_similarity/resnet18Maxpooling_sim_weight_softmax(True)_cifar10_32_10_noniid-label#2_5\n"
     ]
    }
   ],
   "source": [
    "save_path = f\"./model/SplitFSSL_BYOL32_similarity/resnet18Maxpooling_sim_weight_softmax({sim_weight})_{dataset}_{batch_size}_{avg_freq}_{partition}_{client_num}\"\n",
    "print(save_path)"
   ]
  },
  {
   "cell_type": "code",
   "execution_count": 8,
   "metadata": {
    "execution": {
     "iopub.execute_input": "2024-05-08T08:42:40.035302Z",
     "iopub.status.busy": "2024-05-08T08:42:40.035231Z",
     "iopub.status.idle": "2024-05-08T08:42:40.878829Z",
     "shell.execute_reply": "2024-05-08T08:42:40.878516Z",
     "shell.execute_reply.started": "2024-05-08T08:42:40.035295Z"
    },
    "id": "eGo1vx4oAZBq",
    "tags": []
   },
   "outputs": [
    {
     "name": "stdout",
     "output_type": "stream",
     "text": [
      "Files already downloaded and verified\n",
      "Files already downloaded and verified\n"
     ]
    }
   ],
   "source": [
    "\n",
    "train_dataset = datasets.CIFAR10(\n",
    "        \"./data\",\n",
    "        download=True,\n",
    "        transform=TransformsSimCLR(size=32).test_transform,\n",
    "    )\n",
    "\n",
    "test_dataset = datasets.CIFAR10(\n",
    "    \"./data\",\n",
    "    train=False,\n",
    "    download=True,\n",
    "    transform=TransformsSimCLR(size=32).test_transform,\n",
    ")\n",
    "\n",
    "label = train_dataset.targets\n",
    "# non-IID\n",
    "# traindict, finedict, _ = distribute_noniid_traindata_label(label, client_num)\n",
    "# IID\n",
    "traindict, finedict, _ = distribute_noniid_traindata_label(label, client_num, noniid_ratio = 1.0)\n",
    "\n",
    "label = test_dataset.targets\n",
    "_, _, classes_dict = distribute_noniid_traindata_label(label, client_num, noniid_ratio = 1.0)\n",
    "# indices = torch.randperm(len(train_dataset))[:int(len(train_dataset)* data_portion)]\n",
    "# train_dataset = torch.utils.data.Subset(train_dataset, indices)\n",
    "\n",
    "# indices = torch.randperm(len(test_dataset))[:int(len(test_dataset)* data_portion)]\n",
    "# test_dataset = torch.utils.data.Subset(test_dataset, indices)"
   ]
  },
  {
   "cell_type": "code",
   "execution_count": 9,
   "metadata": {
    "execution": {
     "iopub.execute_input": "2024-05-08T08:42:40.879261Z",
     "iopub.status.busy": "2024-05-08T08:42:40.879182Z",
     "iopub.status.idle": "2024-05-08T08:42:40.881175Z",
     "shell.execute_reply": "2024-05-08T08:42:40.880968Z",
     "shell.execute_reply.started": "2024-05-08T08:42:40.879253Z"
    },
    "id": "3ibbS94hAch0",
    "tags": []
   },
   "outputs": [],
   "source": [
    "train_loader = torch.utils.data.DataLoader(\n",
    "        train_dataset,\n",
    "        batch_size=128,\n",
    "        drop_last=False,\n",
    "        num_workers=4,\n",
    "    )\n",
    "    \n",
    "test_loader = torch.utils.data.DataLoader(\n",
    "    test_dataset,\n",
    "    batch_size=128,\n",
    "    drop_last=False,\n",
    "    num_workers=4,\n",
    ")"
   ]
  },
  {
   "cell_type": "code",
   "execution_count": 10,
   "metadata": {
    "execution": {
     "iopub.execute_input": "2024-05-08T08:42:40.881743Z",
     "iopub.status.busy": "2024-05-08T08:42:40.881517Z",
     "iopub.status.idle": "2024-05-08T08:42:43.952553Z",
     "shell.execute_reply": "2024-05-08T08:42:43.952275Z",
     "shell.execute_reply.started": "2024-05-08T08:42:40.881729Z"
    },
    "id": "tUMnBtPAAf6S",
    "tags": []
   },
   "outputs": [
    {
     "name": "stdout",
     "output_type": "stream",
     "text": [
      "./model/SplitFSSL_BYOL32_similarity/resnet18Maxpooling_sim_weight_softmax(True)_cifar10_32_10_noniid-label#2_5/epoch_100/client_0.pt\n"
     ]
    }
   ],
   "source": [
    "epoch = 100\n",
    "resnet = ResNet18(num_classes=10)\n",
    "resnet.fc = MLP(resnet.feature_dim, 2048, 4096)\n",
    "# resnet.load_state_dict(torch.load(save_path + \"_final.pt\", map_location=device))\n",
    "\n",
    "# resnet.load_state_dict(torch.load(f\"./model/SplitFSSL_resnet18/resnet18_cifar10_noniid_20_1.0_0904_final.pt\", map_location=device))\n",
    "# resnet.load_state_dict(torch.load(f\"./model/FedAvg_resnet18/resnet18_cifar10_noniid_{batch_size}_{noniid_ratio}_{client_num}_final.pt\", map_location=device))\n",
    "if sim_weight:\n",
    "    resnet.load_state_dict(torch.load(save_path + f\"/epoch_{epoch}/client_0.pt\", map_location=device))\n",
    "    # resnet.load_state_dict(torch.load(save_path + f\"/final/client_0.pt\", map_location=device))\n",
    "    print(save_path + f\"/epoch_{epoch}/client_0.pt\")\n",
    "    # print(save_path + f\"/final/client_0.pt\")\n",
    "else:\n",
    "    resnet.load_state_dict(torch.load(save_path + f\"_{epoch}_epoch.pt\", map_location=device))\n",
    "    # resnet.load_state_dict(torch.load(save_path + \"_final.pt\", map_location=device))\n",
    "    print(save_path + f\"_{epoch}_epoch.pt\")\n",
    "    # print(save_path + \"_final.pt\")\n",
    "# print(save_path + \"_final.pt\")\n",
    "\n",
    "\n",
    "resnet = resnet.to(device)"
   ]
  },
  {
   "cell_type": "code",
   "execution_count": 11,
   "metadata": {
    "execution": {
     "iopub.execute_input": "2024-05-08T08:42:43.952986Z",
     "iopub.status.busy": "2024-05-08T08:42:43.952906Z",
     "iopub.status.idle": "2024-05-08T08:42:43.954998Z",
     "shell.execute_reply": "2024-05-08T08:42:43.954820Z",
     "shell.execute_reply.started": "2024-05-08T08:42:43.952978Z"
    },
    "id": "na9oWl4sAmei",
    "tags": []
   },
   "outputs": [
    {
     "data": {
      "text/plain": [
       "512"
      ]
     },
     "execution_count": 11,
     "metadata": {},
     "output_type": "execute_result"
    }
   ],
   "source": [
    "num_features = list(resnet.children())[-1].in_features\n",
    "num_features"
   ]
  },
  {
   "cell_type": "code",
   "execution_count": 12,
   "metadata": {
    "execution": {
     "iopub.execute_input": "2024-05-08T08:42:43.955308Z",
     "iopub.status.busy": "2024-05-08T08:42:43.955238Z",
     "iopub.status.idle": "2024-05-08T08:42:43.967054Z",
     "shell.execute_reply": "2024-05-08T08:42:43.966817Z",
     "shell.execute_reply.started": "2024-05-08T08:42:43.955302Z"
    },
    "id": "sWOiFSGEAoSG",
    "tags": []
   },
   "outputs": [],
   "source": [
    "# throw away fc layer\n",
    "resnet = nn.Sequential(*list(resnet.children())[:-1])\n",
    "n_classes = 10 # CIFAR-10 has 10 classes\n",
    "\n",
    "# fine-tune model\n",
    "# logreg = Classifer(num_features, hidden_size=1024)\n",
    "logreg = nn.Sequential(nn.Linear(num_features, n_classes))\n",
    "logreg = logreg.to(device)\n",
    "models = [copy.deepcopy(logreg).to(device) for idx in range(client_num)]\n",
    "models_weights = [1/5 for i in range(client_num)]"
   ]
  },
  {
   "cell_type": "code",
   "execution_count": 13,
   "metadata": {
    "execution": {
     "iopub.execute_input": "2024-05-08T08:42:43.967375Z",
     "iopub.status.busy": "2024-05-08T08:42:43.967304Z",
     "iopub.status.idle": "2024-05-08T08:42:43.969234Z",
     "shell.execute_reply": "2024-05-08T08:42:43.969021Z",
     "shell.execute_reply.started": "2024-05-08T08:42:43.967368Z"
    }
   },
   "outputs": [
    {
     "data": {
      "text/plain": [
       "Sequential(\n",
       "  (0): Linear(in_features=512, out_features=10, bias=True)\n",
       ")"
      ]
     },
     "execution_count": 13,
     "metadata": {},
     "output_type": "execute_result"
    }
   ],
   "source": [
    "logreg"
   ]
  },
  {
   "cell_type": "code",
   "execution_count": 14,
   "metadata": {
    "execution": {
     "iopub.execute_input": "2024-05-08T08:42:43.969549Z",
     "iopub.status.busy": "2024-05-08T08:42:43.969478Z",
     "iopub.status.idle": "2024-05-08T08:42:43.971420Z",
     "shell.execute_reply": "2024-05-08T08:42:43.971213Z",
     "shell.execute_reply.started": "2024-05-08T08:42:43.969541Z"
    },
    "id": "rhLmcYVdApqU",
    "tags": []
   },
   "outputs": [],
   "source": [
    "epochs = 200\n",
    "# loss / optimizer\n",
    "criterion = nn.CrossEntropyLoss()\n",
    "optimizer = torch.optim.Adam(params=logreg.parameters(), lr=0.001)\n",
    "optimizer_models = [torch.optim.Adam(models[i].parameters(), lr =0.001) for i in range(len(models))]\n",
    "# scheduler = torch.optim.lr_scheduler.CosineAnnealingLR(optimizer, 200)"
   ]
  },
  {
   "cell_type": "code",
   "execution_count": 15,
   "metadata": {
    "execution": {
     "iopub.execute_input": "2024-05-08T08:42:43.971742Z",
     "iopub.status.busy": "2024-05-08T08:42:43.971670Z",
     "iopub.status.idle": "2024-05-08T08:43:15.003029Z",
     "shell.execute_reply": "2024-05-08T08:43:15.002707Z",
     "shell.execute_reply.started": "2024-05-08T08:42:43.971735Z"
    },
    "id": "NTRLN7xMAuuG",
    "scrolled": true,
    "tags": []
   },
   "outputs": [
    {
     "name": "stdout",
     "output_type": "stream",
     "text": [
      "Creating features from pre-trained model\n",
      "Step [0/391]\t Computing features...\n",
      "Step [5/391]\t Computing features...\n",
      "Step [10/391]\t Computing features...\n",
      "Step [15/391]\t Computing features...\n",
      "Step [20/391]\t Computing features...\n",
      "Step [25/391]\t Computing features...\n",
      "Step [30/391]\t Computing features...\n",
      "Step [35/391]\t Computing features...\n",
      "Step [40/391]\t Computing features...\n",
      "Step [45/391]\t Computing features...\n",
      "Step [50/391]\t Computing features...\n",
      "Step [55/391]\t Computing features...\n",
      "Step [60/391]\t Computing features...\n",
      "Step [65/391]\t Computing features...\n",
      "Step [70/391]\t Computing features...\n",
      "Step [75/391]\t Computing features...\n",
      "Step [80/391]\t Computing features...\n",
      "Step [85/391]\t Computing features...\n",
      "Step [90/391]\t Computing features...\n",
      "Step [95/391]\t Computing features...\n",
      "Step [100/391]\t Computing features...\n",
      "Step [105/391]\t Computing features...\n",
      "Step [110/391]\t Computing features...\n",
      "Step [115/391]\t Computing features...\n",
      "Step [120/391]\t Computing features...\n",
      "Step [125/391]\t Computing features...\n",
      "Step [130/391]\t Computing features...\n",
      "Step [135/391]\t Computing features...\n",
      "Step [140/391]\t Computing features...\n",
      "Step [145/391]\t Computing features...\n",
      "Step [150/391]\t Computing features...\n",
      "Step [155/391]\t Computing features...\n",
      "Step [160/391]\t Computing features...\n",
      "Step [165/391]\t Computing features...\n",
      "Step [170/391]\t Computing features...\n",
      "Step [175/391]\t Computing features...\n",
      "Step [180/391]\t Computing features...\n",
      "Step [185/391]\t Computing features...\n",
      "Step [190/391]\t Computing features...\n",
      "Step [195/391]\t Computing features...\n",
      "Step [200/391]\t Computing features...\n",
      "Step [205/391]\t Computing features...\n",
      "Step [210/391]\t Computing features...\n",
      "Step [215/391]\t Computing features...\n",
      "Step [220/391]\t Computing features...\n",
      "Step [225/391]\t Computing features...\n",
      "Step [230/391]\t Computing features...\n",
      "Step [235/391]\t Computing features...\n",
      "Step [240/391]\t Computing features...\n",
      "Step [245/391]\t Computing features...\n",
      "Step [250/391]\t Computing features...\n",
      "Step [255/391]\t Computing features...\n",
      "Step [260/391]\t Computing features...\n",
      "Step [265/391]\t Computing features...\n",
      "Step [270/391]\t Computing features...\n",
      "Step [275/391]\t Computing features...\n",
      "Step [280/391]\t Computing features...\n",
      "Step [285/391]\t Computing features...\n",
      "Step [290/391]\t Computing features...\n",
      "Step [295/391]\t Computing features...\n",
      "Step [300/391]\t Computing features...\n",
      "Step [305/391]\t Computing features...\n",
      "Step [310/391]\t Computing features...\n",
      "Step [315/391]\t Computing features...\n",
      "Step [320/391]\t Computing features...\n",
      "Step [325/391]\t Computing features...\n",
      "Step [330/391]\t Computing features...\n",
      "Step [335/391]\t Computing features...\n",
      "Step [340/391]\t Computing features...\n",
      "Step [345/391]\t Computing features...\n",
      "Step [350/391]\t Computing features...\n",
      "Step [355/391]\t Computing features...\n",
      "Step [360/391]\t Computing features...\n",
      "Step [365/391]\t Computing features...\n",
      "Step [370/391]\t Computing features...\n",
      "Step [375/391]\t Computing features...\n",
      "Step [380/391]\t Computing features...\n",
      "Step [385/391]\t Computing features...\n",
      "Step [390/391]\t Computing features...\n",
      "Features shape (50000, 512)\n",
      "Step [0/79]\t Computing features...\n",
      "Step [5/79]\t Computing features...\n",
      "Step [10/79]\t Computing features...\n",
      "Step [15/79]\t Computing features...\n",
      "Step [20/79]\t Computing features...\n",
      "Step [25/79]\t Computing features...\n",
      "Step [30/79]\t Computing features...\n",
      "Step [35/79]\t Computing features...\n",
      "Step [40/79]\t Computing features...\n",
      "Step [45/79]\t Computing features...\n",
      "Step [50/79]\t Computing features...\n",
      "Step [55/79]\t Computing features...\n",
      "Step [60/79]\t Computing features...\n",
      "Step [65/79]\t Computing features...\n",
      "Step [70/79]\t Computing features...\n",
      "Step [75/79]\t Computing features...\n",
      "Features shape (10000, 512)\n"
     ]
    }
   ],
   "source": [
    "print(\"Creating features from pre-trained model\")\n",
    "(train_X, train_y, test_X, test_y) = get_features(\n",
    "    resnet, train_loader, test_loader, device\n",
    ")"
   ]
  },
  {
   "cell_type": "code",
   "execution_count": 16,
   "metadata": {
    "execution": {
     "iopub.execute_input": "2024-05-08T08:43:15.003702Z",
     "iopub.status.busy": "2024-05-08T08:43:15.003570Z",
     "iopub.status.idle": "2024-05-08T08:43:15.005294Z",
     "shell.execute_reply": "2024-05-08T08:43:15.005102Z",
     "shell.execute_reply.started": "2024-05-08T08:43:15.003688Z"
    },
    "tags": []
   },
   "outputs": [],
   "source": [
    "# test_y_dict, classes_dict = noniid_testdata_label(test_y, client_num, noniid_ratio, num_class=10)\n",
    "# train_y_dict, _ = noniid_testdata_label(train_y, client_num, noniid_ratio, num_class=10)"
   ]
  },
  {
   "cell_type": "markdown",
   "metadata": {},
   "source": [
    "# Fine tuning by all data(50000)"
   ]
  },
  {
   "cell_type": "code",
   "execution_count": 17,
   "metadata": {
    "execution": {
     "iopub.execute_input": "2024-05-08T08:43:15.005580Z",
     "iopub.status.busy": "2024-05-08T08:43:15.005506Z",
     "iopub.status.idle": "2024-05-08T08:43:15.015545Z",
     "shell.execute_reply": "2024-05-08T08:43:15.015290Z",
     "shell.execute_reply.started": "2024-05-08T08:43:15.005572Z"
    }
   },
   "outputs": [],
   "source": [
    "train_loader, test_loader, class_loader = create_data_loaders_from_arrays(\n",
    "    train_X, train_y, test_X, test_y, None, classes_dict, 2048\n",
    ")"
   ]
  },
  {
   "cell_type": "code",
   "execution_count": 18,
   "metadata": {
    "execution": {
     "iopub.execute_input": "2024-05-08T08:43:15.015937Z",
     "iopub.status.busy": "2024-05-08T08:43:15.015858Z",
     "iopub.status.idle": "2024-05-08T08:43:27.789839Z",
     "shell.execute_reply": "2024-05-08T08:43:27.789491Z",
     "shell.execute_reply.started": "2024-05-08T08:43:15.015930Z"
    },
    "id": "emGRcsnbDZxe",
    "scrolled": true,
    "tags": []
   },
   "outputs": [
    {
     "name": "stderr",
     "output_type": "stream",
     "text": [
      "Train Epoch: 199/ 200.Loss: 1.1816.Accuracy: 58.9267.: 100%|████████████████████████████| 200/200 [00:12<00:00, 15.66it/s]\n"
     ]
    }
   ],
   "source": [
    "# Train fine-tuned model\n",
    "logreg.train()\n",
    "\n",
    "p_bar = tqdm(range(epochs))\n",
    "for epoch in range(epochs):\n",
    "    # metrics = defaultdict(list)\n",
    "    acctol = []\n",
    "    losses = []\n",
    "    for step, (h, y) in enumerate(test_loader):\n",
    "        h = h.to(device)\n",
    "        y = y.to(device)\n",
    "\n",
    "        outputs = logreg(h)\n",
    "\n",
    "        loss = criterion(outputs, y)\n",
    "        optimizer.zero_grad()\n",
    "        loss.backward()\n",
    "        optimizer.step()\n",
    "\n",
    "        # calculate accuracy and save metrics\n",
    "        accuracy = (outputs.argmax(1) == y).sum().item() / y.size(0) * 100\n",
    "        acctol.append(accuracy)\n",
    "        losses.append(loss.item())\n",
    "        # metrics[\"Loss/train\"].append(loss.item())\n",
    "        # metrics[\"Accuracy/train\"].append(accuracy)\n",
    "    acctol = np.array(acctol)\n",
    "    losses = np.array(losses)\n",
    "    p_bar.set_description(\"Train Epoch: {epoch}/{epochs:4}.Loss: {loss:.4f}.Accuracy: {acc:.4f}.\".format(\n",
    "            epoch=epoch,\n",
    "            epochs=epochs,\n",
    "            loss=losses.mean(),\n",
    "            acc=acctol.mean()))\n",
    "    p_bar.update()\n",
    "    # print(f\"Epoch [{epoch}/{epochs}]: \" + \"\\t\".join([f\"{k}: {np.array(v).mean()}\" for k, v in metrics.items()]))\n",
    "p_bar.close()\n"
   ]
  },
  {
   "cell_type": "code",
   "execution_count": 19,
   "metadata": {
    "execution": {
     "iopub.execute_input": "2024-05-08T08:43:27.790424Z",
     "iopub.status.busy": "2024-05-08T08:43:27.790294Z",
     "iopub.status.idle": "2024-05-08T08:43:27.998239Z",
     "shell.execute_reply": "2024-05-08T08:43:27.997880Z",
     "shell.execute_reply.started": "2024-05-08T08:43:27.790413Z"
    },
    "id": "FfZjgJkeDtrt",
    "tags": []
   },
   "outputs": [
    {
     "name": "stdout",
     "output_type": "stream",
     "text": [
      "### Calculating final testing performance ###\n",
      "Client 0 : Accuracy 59.256775442477874\n",
      "Client 1 : Accuracy 59.256775442477874\n",
      "Client 2 : Accuracy 59.256775442477874\n",
      "Client 3 : Accuracy 59.256775442477874\n",
      "Client 4 : Accuracy 59.256775442477874\n",
      "Final test performance(partition : noniid-label#2): Accuracy  : 59.256775442477874\n",
      "Final test performance(partition : noniid-label#2): Fairness: 0.0\n"
     ]
    }
   ],
   "source": [
    " # Test fine-tuned model\n",
    "logreg.eval()\n",
    "# resnet.eval()\n",
    "acctol = []\n",
    "print(\"### Calculating final testing performance ###\")\n",
    "metrics = defaultdict(list)\n",
    "for idx in range(len(test_loader)):\n",
    "    acc = []\n",
    "    for step, (h, y) in enumerate(test_loader):\n",
    "        h = h.to(device)\n",
    "        y = y.to(device)\n",
    "    \n",
    "        outputs = logreg(h)\n",
    "        # outputs = resnet(h)\n",
    "    \n",
    "        # calculate accuracy and save metrics\n",
    "        accuracy = (outputs.argmax(1) == y).sum().item() / y.size(0) * 100\n",
    "        acc.append(accuracy)\n",
    "        metrics[\"Accuracy/test\"].append(accuracy)\n",
    "    acc = np.array(acc)\n",
    "    acctol.append(acc.mean())\n",
    "    print(f\"Client {idx} : Accuracy {acc.mean()}\")\n",
    "    \n",
    "acctol = np.array(acctol)\n",
    "print(f\"Final test performance(partition : {partition}): Accuracy  : {acctol.mean()}\")\n",
    "print(f\"Final test performance(partition : {partition}): \" + \"\\t\".join([f\"Fairness: {acctol.std()}\" for k, v in metrics.items()]))\n"
   ]
  },
  {
   "cell_type": "code",
   "execution_count": 20,
   "metadata": {
    "execution": {
     "iopub.execute_input": "2024-05-08T08:43:27.999313Z",
     "iopub.status.busy": "2024-05-08T08:43:27.999151Z",
     "iopub.status.idle": "2024-05-08T08:43:28.050420Z",
     "shell.execute_reply": "2024-05-08T08:43:28.050144Z",
     "shell.execute_reply.started": "2024-05-08T08:43:27.999301Z"
    },
    "tags": []
   },
   "outputs": [
    {
     "name": "stdout",
     "output_type": "stream",
     "text": [
      "### Calculating classes testing performance ###\n",
      "Class 0 : Accuracy 61.3\n",
      "Class 1 : Accuracy 68.10000000000001\n",
      "Class 2 : Accuracy 37.9\n",
      "Class 3 : Accuracy 42.699999999999996\n",
      "Class 4 : Accuracy 55.00000000000001\n",
      "Class 5 : Accuracy 56.699999999999996\n",
      "Class 6 : Accuracy 69.1\n",
      "Class 7 : Accuracy 66.4\n",
      "Class 8 : Accuracy 69.6\n",
      "Class 9 : Accuracy 65.60000000000001\n",
      "Final test performance: Accuracy/test: 59.239999999999995\n",
      "Final test performance: Fairness: 10.641447269991053\n"
     ]
    }
   ],
   "source": [
    "logreg.eval()\n",
    "label = []\n",
    "predict = []\n",
    "print(\"### Calculating classes testing performance ###\")\n",
    "metrics = defaultdict(list)\n",
    "acctol = []\n",
    "for idx in range(len(class_loader)):\n",
    "    acc = []\n",
    "    for step, (h, y) in enumerate(class_loader[idx]):\n",
    "        h = h.to(device)\n",
    "        y = y.to(device)\n",
    "        \n",
    "\n",
    "        outputs = logreg(h)\n",
    "        \n",
    "        predict.append(outputs.argmax(1).cpu().numpy())\n",
    "        label.append(y.cpu().numpy())\n",
    "\n",
    "        # calculate accuracy and save metrics\n",
    "        accuracy = (outputs.argmax(1) == y).sum().item() / y.size(0) * 100\n",
    "        acc.append(accuracy)\n",
    "        metrics[\"Accuracy/test\"].append(accuracy)\n",
    "    acc = np.array(acc)\n",
    "    acctol.append(acc.mean())\n",
    "    print(f\"Class {idx} : Accuracy {acc.mean()}\")\n",
    "acctol = np.array(acctol)\n",
    "print(f\"Final test performance: \" + \"\\t\".join([f\"{k}: {acctol.mean()}\" for k, v in metrics.items()]))\n",
    "print(f\"Final test performance: \" + \"\\t\".join([f\"Fairness: {acctol.std()}\" for k, v in metrics.items()]))\n"
   ]
  },
  {
   "cell_type": "code",
   "execution_count": 21,
   "metadata": {
    "execution": {
     "iopub.execute_input": "2024-05-08T08:43:28.050889Z",
     "iopub.status.busy": "2024-05-08T08:43:28.050790Z",
     "iopub.status.idle": "2024-05-08T08:43:28.378403Z",
     "shell.execute_reply": "2024-05-08T08:43:28.378121Z",
     "shell.execute_reply.started": "2024-05-08T08:43:28.050880Z"
    }
   },
   "outputs": [
    {
     "data": {
      "image/png": "[encoded data removed]",
      "text/plain": [
       "<Figure size 640x480 with 1 Axes>"
      ]
     },
     "metadata": {},
     "output_type": "display_data"
    }
   ],
   "source": [
    "import matplotlib.pyplot as plt\n",
    "\n",
    "# 標籤\n",
    "class_names = ['airplane', 'automobile', 'bird', 'cat', 'deer', 'dog', 'frog', 'horse', 'ship', 'truck']\n",
    "\n",
    "# 繪製長條圖\n",
    "plt.bar(class_names, acctol)\n",
    "\n",
    "# 添加標題和標籤\n",
    "plt.xlabel('Class')\n",
    "plt.ylabel('Accuracy')\n",
    "\n",
    "# 顯示圖形\n",
    "plt.show()"
   ]
  },
  {
   "cell_type": "code",
   "execution_count": 22,
   "metadata": {
    "execution": {
     "iopub.execute_input": "2024-05-08T08:43:28.380343Z",
     "iopub.status.busy": "2024-05-08T08:43:28.380104Z",
     "iopub.status.idle": "2024-05-08T08:43:28.477779Z",
     "shell.execute_reply": "2024-05-08T08:43:28.477516Z",
     "shell.execute_reply.started": "2024-05-08T08:43:28.380331Z"
    }
   },
   "outputs": [
    {
     "name": "stdout",
     "output_type": "stream",
     "text": [
      "[8 0 0 ... 9 9 7]\n"
     ]
    }
   ],
   "source": [
    "from sklearn.metrics import confusion_matrix\n",
    "# predict = predict.flatten()\n",
    "# label = label.flatten()\n",
    "pre_y = predict[0]\n",
    "test_y = label[0]\n",
    "for arr in predict[1:]:\n",
    "    # print(arr)\n",
    "    pre_y = np.concatenate((pre_y, arr), axis=0)\n",
    "for arr in label[1:]:\n",
    "    # print(arr)\n",
    "    test_y = np.concatenate((test_y, arr), axis=0)\n",
    "print(pre_y)\n",
    "cm=confusion_matrix(test_y,pre_y)\n"
   ]
  },
  {
   "cell_type": "code",
   "execution_count": 23,
   "metadata": {
    "execution": {
     "iopub.execute_input": "2024-05-08T08:43:28.478282Z",
     "iopub.status.busy": "2024-05-08T08:43:28.478127Z",
     "iopub.status.idle": "2024-05-08T08:43:28.727394Z",
     "shell.execute_reply": "2024-05-08T08:43:28.727104Z",
     "shell.execute_reply.started": "2024-05-08T08:43:28.478272Z"
    },
    "tags": []
   },
   "outputs": [
    {
     "data": {
      "image/png": "[encoded data removed]",
      "text/plain": [
       "<Figure size 1500x800 with 1 Axes>"
      ]
     },
     "metadata": {},
     "output_type": "display_data"
    }
   ],
   "source": [
    "import seaborn as sns\n",
    "import matplotlib.pyplot as plt\n",
    "plt.figure(figsize=(15,8))\n",
    "sns.heatmap(cm,square=True,annot=True,fmt='d',linecolor='white',cmap='RdBu',linewidths=1.5,cbar=False)\n",
    "plt.xlabel('Pred',fontsize=20)\n",
    "plt.ylabel('True',fontsize=20)\n",
    "plt.show()"
   ]
  },
  {
   "cell_type": "code",
   "execution_count": null,
   "metadata": {},
   "outputs": [],
   "source": []
  }
 ],
 "metadata": {
  "accelerator": "GPU",
  "colab": {
   "machine_shape": "hm",
   "provenance": []
  },
  "kernelspec": {
   "display_name": "Python [conda env:.conda-splitfedssl]",
   "language": "python",
   "name": "conda-env-.conda-splitfedssl-py"
  },
  "language_info": {
   "codemirror_mode": {
    "name": "ipython",
    "version": 3
   },
   "file_extension": ".py",
   "mimetype": "text/x-python",
   "name": "python",
   "nbconvert_exporter": "python",
   "pygments_lexer": "ipython3",
   "version": "3.7.16"
  }
 },
 "nbformat": 4,
 "nbformat_minor": 4
}
