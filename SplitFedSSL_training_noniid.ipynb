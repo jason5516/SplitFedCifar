{
 "cells": [
  {
   "cell_type": "code",
   "execution_count": 1,
   "metadata": {
    "execution": {
     "iopub.execute_input": "2024-03-01T10:06:14.251727Z",
     "iopub.status.busy": "2024-03-01T10:06:14.251597Z",
     "iopub.status.idle": "2024-03-01T10:06:14.817640Z",
     "shell.execute_reply": "2024-03-01T10:06:14.817312Z",
     "shell.execute_reply.started": "2024-03-01T10:06:14.251711Z"
    },
    "id": "UBt1XYXhaqmG",
    "tags": []
   },
   "outputs": [
    {
     "name": "stderr",
     "output_type": "stream",
     "text": [
      "/home/haken/.conda/envs/splitfedssl/lib/python3.7/site-packages/tqdm/auto.py:21: TqdmWarning: IProgress not found. Please update jupyter and ipywidgets. See https://ipywidgets.readthedocs.io/en/stable/user_install.html\n",
      "  from .autonotebook import tqdm as notebook_tqdm\n"
     ]
    }
   ],
   "source": [
    "import os\n",
    "from functools import wraps\n",
    "import numpy as np\n",
    "import copy\n",
    "import random\n",
    "from torchvision import transforms, utils, datasets\n",
    "from utils.utils import *\n",
    "from utils.training import *\n",
    "# from utils.training_batch import *\n",
    "from utils.model import *\n",
    "from utils.BYOL_models import *\n"
   ]
  },
  {
   "cell_type": "code",
   "execution_count": 2,
   "metadata": {
    "execution": {
     "iopub.execute_input": "2024-03-01T10:06:14.818438Z",
     "iopub.status.busy": "2024-03-01T10:06:14.818302Z",
     "iopub.status.idle": "2024-03-01T10:06:14.820004Z",
     "shell.execute_reply": "2024-03-01T10:06:14.819809Z",
     "shell.execute_reply.started": "2024-03-01T10:06:14.818428Z"
    },
    "id": "80RsLgxtasod",
    "tags": []
   },
   "outputs": [],
   "source": [
    "# set manual seed for reproducibility\n",
    "seed = 1234"
   ]
  },
  {
   "cell_type": "code",
   "execution_count": 3,
   "metadata": {
    "colab": {
     "base_uri": "https://localhost:8080/"
    },
    "execution": {
     "iopub.execute_input": "2024-03-01T10:06:14.820336Z",
     "iopub.status.busy": "2024-03-01T10:06:14.820260Z",
     "iopub.status.idle": "2024-03-01T10:06:14.832842Z",
     "shell.execute_reply": "2024-03-01T10:06:14.832648Z",
     "shell.execute_reply.started": "2024-03-01T10:06:14.820329Z"
    },
    "id": "iIARTSyVa0xH",
    "outputId": "7103c049-17fa-4339-a8a2-d2884cac6bf3",
    "tags": []
   },
   "outputs": [
    {
     "data": {
      "text/plain": [
       "<torch._C.Generator at 0x7f45f017bbb0>"
      ]
     },
     "execution_count": 3,
     "metadata": {},
     "output_type": "execute_result"
    }
   ],
   "source": [
    "# general reproducibility\n",
    "random.seed(seed)\n",
    "np.random.seed(seed)\n",
    "torch.manual_seed(seed)"
   ]
  },
  {
   "cell_type": "code",
   "execution_count": 4,
   "metadata": {
    "execution": {
     "iopub.execute_input": "2024-03-01T10:06:14.833223Z",
     "iopub.status.busy": "2024-03-01T10:06:14.833130Z",
     "iopub.status.idle": "2024-03-01T10:06:14.834836Z",
     "shell.execute_reply": "2024-03-01T10:06:14.834633Z",
     "shell.execute_reply.started": "2024-03-01T10:06:14.833213Z"
    },
    "id": "Vv3ALBpva13d",
    "tags": []
   },
   "outputs": [],
   "source": [
    "# gpu training specific\n",
    "torch.backends.cudnn.deterministic = True\n",
    "torch.backends.cudnn.benchmark = False"
   ]
  },
  {
   "cell_type": "code",
   "execution_count": 5,
   "metadata": {
    "execution": {
     "iopub.execute_input": "2024-03-01T10:06:14.835181Z",
     "iopub.status.busy": "2024-03-01T10:06:14.835090Z",
     "iopub.status.idle": "2024-03-01T10:06:14.836897Z",
     "shell.execute_reply": "2024-03-01T10:06:14.836698Z",
     "shell.execute_reply.started": "2024-03-01T10:06:14.835172Z"
    }
   },
   "outputs": [],
   "source": [
    "# ('mnist', 'femnist', 'fmnist', 'cifar10', 'cifar100', 'svhn')\n",
    "data_path = \"./data\"\n",
    "dataset = \"cifar10\"\n",
    "# ('noniid-labeldir', 'iid', 'default') default only for femnist\n",
    "partition = \"noniid-labeldir\"\n",
    "client_num = 5\n",
    "batch_size = 32\n",
    "test_batch = 128"
   ]
  },
  {
   "cell_type": "code",
   "execution_count": 6,
   "metadata": {
    "execution": {
     "iopub.execute_input": "2024-03-01T10:06:14.837236Z",
     "iopub.status.busy": "2024-03-01T10:06:14.837147Z",
     "iopub.status.idle": "2024-03-01T10:06:14.839169Z",
     "shell.execute_reply": "2024-03-01T10:06:14.838976Z",
     "shell.execute_reply.started": "2024-03-01T10:06:14.837226Z"
    },
    "tags": []
   },
   "outputs": [],
   "source": [
    "# Hyperparameters_List (H) = [rounds, number_of_clients, number_of_training_rounds_local, local_batch_size, lr_client, aggregation_frequence]\n",
    "\n",
    "global_epochs = 1000\n",
    "lr = 3e-4\n",
    "dirichlet_beta = 0.4\n",
    "norm = 'bn'\n",
    "# every (avg_freq) epochs doing one aggregation\n",
    "# avg_freq = 2\n",
    "avg_freq = \"linear\"\n",
    "\n",
    "# save_path = f\"./model/SplitFSSLMaxpool_resnet18/resnet18Maxpooling_cifar10_{batch_size}_{partition}_{client_num}\"\n",
    "# save_path = f\"./model/SplitFSSL_BYOL_Avg25times/resnet18Maxpooling_cifar10_{batch_size}_{avg_freq}_{partition}_{client_num}\"\n",
    "save_path = f\"./model/SplitFSSL_BYOL32_DifAvgtimes/resnet18Maxpooling_{dataset}_{batch_size}_{avg_freq}_{partition}_{client_num}\"\n",
    "H = [global_epochs, client_num, batch_size, lr, avg_freq]"
   ]
  },
  {
   "cell_type": "code",
   "execution_count": 7,
   "metadata": {
    "execution": {
     "iopub.execute_input": "2024-03-01T10:06:14.840035Z",
     "iopub.status.busy": "2024-03-01T10:06:14.839952Z",
     "iopub.status.idle": "2024-03-01T10:06:18.092292Z",
     "shell.execute_reply": "2024-03-01T10:06:18.091846Z",
     "shell.execute_reply.started": "2024-03-01T10:06:14.840027Z"
    },
    "scrolled": true,
    "tags": []
   },
   "outputs": [
    {
     "name": "stdout",
     "output_type": "stream",
     "text": [
      "Files already downloaded and verified\n",
      "Files already downloaded and verified\n",
      "partition: noniid-labeldir\n",
      "Data statistics Train: {0: {0: 2921, 1: 3, 2: 1440, 3: 2284, 4: 2849, 5: 1966}, 1: {0: 1265, 1: 1562, 2: 515, 4: 1070, 5: 496, 6: 2247, 7: 308, 8: 11, 9: 2637}, 2: {0: 91, 1: 124, 2: 203, 3: 2255, 4: 93, 5: 489, 6: 898, 7: 2460, 8: 283, 9: 2268}, 3: {0: 543, 1: 31, 2: 1028, 3: 61, 4: 987, 5: 534, 6: 4, 7: 2214, 8: 47, 9: 95}, 4: {0: 180, 1: 3280, 2: 1814, 3: 400, 4: 1, 5: 1515, 6: 1851, 7: 18, 8: 4659}}\n",
      "Data statistics Test:\n",
      " {0: {0: 1000, 1: 1000, 2: 1000, 3: 1000, 4: 1000, 5: 1000}, 1: {0: 1000, 1: 1000, 2: 1000, 4: 1000, 5: 1000, 6: 1000, 7: 1000, 8: 1000, 9: 1000}, 2: {0: 1000, 1: 1000, 2: 1000, 3: 1000, 4: 1000, 5: 1000, 6: 1000, 7: 1000, 8: 1000, 9: 1000}, 3: {0: 1000, 1: 1000, 2: 1000, 3: 1000, 4: 1000, 5: 1000, 6: 1000, 7: 1000, 8: 1000, 9: 1000}, 4: {0: 1000, 1: 1000, 2: 1000, 3: 1000, 4: 1000, 5: 1000, 6: 1000, 7: 1000, 8: 1000}} \n",
      "\n"
     ]
    }
   ],
   "source": [
    "# partition\n",
    "net_dataidx_map, net_dataidx_map_test, traindata_cls_counts, testdata_cls_counts = partition_data(dataset, data_path, partition, client_num)\n",
    "\n",
    "# get dataloader\n",
    "train_loader_list = []\n",
    "test_loader_list = []\n",
    "for idx in range(client_num):\n",
    "    \n",
    "    dataidxs = net_dataidx_map[idx]\n",
    "    if net_dataidx_map_test is None:\n",
    "        dataidx_test = None \n",
    "    else:\n",
    "        dataidxs_test = net_dataidx_map_test[idx]\n",
    "\n",
    "    train_dl_local, test_dl_local, train_ds_local, test_ds_local = get_dataloader(dataset, \n",
    "                                                                   data_path, batch_size, test_batch, \n",
    "                                                                   dataidxs, dataidxs_test)\n",
    "    train_loader_list.append(train_dl_local)\n",
    "    test_loader_list.append(test_dl_local)\n"
   ]
  },
  {
   "cell_type": "code",
   "execution_count": 8,
   "metadata": {
    "execution": {
     "iopub.execute_input": "2024-03-01T10:06:18.092792Z",
     "iopub.status.busy": "2024-03-01T10:06:18.092707Z",
     "iopub.status.idle": "2024-03-01T10:06:18.806654Z",
     "shell.execute_reply": "2024-03-01T10:06:18.806187Z",
     "shell.execute_reply.started": "2024-03-01T10:06:18.092783Z"
    },
    "id": "M8EAqvNK75NR",
    "tags": []
   },
   "outputs": [],
   "source": [
    "net = ResNet18()\n",
    "client_model = BYOL_Client()\n",
    "server_model = BYOL_Server()\n",
    "server_model.cuda()\n",
    "\n",
    "client_weights = [1/5 for i in range(client_num)]\n",
    "client_models = [copy.deepcopy(client_model).cuda() for idx in range(client_num)]\n",
    "# server_models = [copy.deepcopy(server_model).cuda() for idx in range(client_num)]\n",
    "\n",
    "optimizer_server = torch.optim.Adam(server_model.parameters(), lr = H[3]) \n",
    "optimizer_clients = [torch.optim.Adam(client_models[i].parameters(), lr = H[3]) for i in range(len(client_models))]"
   ]
  },
  {
   "cell_type": "code",
   "execution_count": 9,
   "metadata": {
    "execution": {
     "iopub.execute_input": "2024-03-01T10:06:18.807245Z",
     "iopub.status.busy": "2024-03-01T10:06:18.807120Z",
     "iopub.status.idle": "2024-03-01T10:06:19.461549Z",
     "shell.execute_reply": "2024-03-01T10:06:19.461135Z",
     "shell.execute_reply.started": "2024-03-01T10:06:18.807232Z"
    }
   },
   "outputs": [
    {
     "name": "stdout",
     "output_type": "stream",
     "text": [
      "796\n"
     ]
    }
   ],
   "source": [
    "# if using checkpoint to train\n",
    "# epoch = 0\n",
    "checkpath = save_path + \"/checkpoint.pth.tar\" \n",
    "checkpoint = torch.load(checkpath)\n",
    "epoch = checkpoint['glepoch']\n",
    "print(epoch)\n",
    "optimizer_server.load_state_dict(checkpoint['optimizer'][0])\n",
    "for localmodel in client_models:\n",
    "    localmodel.online_encoder.load_state_dict(checkpoint['state_dict'])\n",
    "for clientidx in range(client_num):\n",
    "    optimizer_clients[clientidx].load_state_dict(checkpoint['optimizer'][clientidx+1])"
   ]
  },
  {
   "cell_type": "code",
   "execution_count": 10,
   "metadata": {
    "execution": {
     "iopub.execute_input": "2024-03-01T10:06:19.462150Z",
     "iopub.status.busy": "2024-03-01T10:06:19.462048Z",
     "iopub.status.idle": "2024-03-01T10:06:19.464867Z",
     "shell.execute_reply": "2024-03-01T10:06:19.464593Z",
     "shell.execute_reply.started": "2024-03-01T10:06:19.462140Z"
    },
    "scrolled": true,
    "tags": []
   },
   "outputs": [
    {
     "data": {
      "text/plain": [
       "BYOL_Client(\n",
       "  (online_encoder): ResNet(\n",
       "    (conv1): Conv2d(3, 64, kernel_size=(3, 3), stride=(1, 1), padding=(1, 1), bias=False)\n",
       "    (bn1): BatchNorm2d(64, eps=1e-05, momentum=0.1, affine=True, track_running_stats=True)\n",
       "    (maxpool): MaxPool2d(kernel_size=3, stride=1, padding=1, dilation=1, ceil_mode=False)\n",
       "    (layer1): Sequential(\n",
       "      (0): BasicBlock(\n",
       "        (conv1): Conv2d(64, 64, kernel_size=(3, 3), stride=(1, 1), padding=(1, 1), bias=False)\n",
       "        (bn1): BatchNorm2d(64, eps=1e-05, momentum=0.1, affine=True, track_running_stats=True)\n",
       "        (conv2): Conv2d(64, 64, kernel_size=(3, 3), stride=(1, 1), padding=(1, 1), bias=False)\n",
       "        (bn2): BatchNorm2d(64, eps=1e-05, momentum=0.1, affine=True, track_running_stats=True)\n",
       "        (shortcut): Sequential()\n",
       "      )\n",
       "      (1): BasicBlock(\n",
       "        (conv1): Conv2d(64, 64, kernel_size=(3, 3), stride=(1, 1), padding=(1, 1), bias=False)\n",
       "        (bn1): BatchNorm2d(64, eps=1e-05, momentum=0.1, affine=True, track_running_stats=True)\n",
       "        (conv2): Conv2d(64, 64, kernel_size=(3, 3), stride=(1, 1), padding=(1, 1), bias=False)\n",
       "        (bn2): BatchNorm2d(64, eps=1e-05, momentum=0.1, affine=True, track_running_stats=True)\n",
       "        (shortcut): Sequential()\n",
       "      )\n",
       "    )\n",
       "    (layer2): Sequential(\n",
       "      (0): BasicBlock(\n",
       "        (conv1): Conv2d(64, 128, kernel_size=(3, 3), stride=(2, 2), padding=(1, 1), bias=False)\n",
       "        (bn1): BatchNorm2d(128, eps=1e-05, momentum=0.1, affine=True, track_running_stats=True)\n",
       "        (conv2): Conv2d(128, 128, kernel_size=(3, 3), stride=(1, 1), padding=(1, 1), bias=False)\n",
       "        (bn2): BatchNorm2d(128, eps=1e-05, momentum=0.1, affine=True, track_running_stats=True)\n",
       "        (shortcut): Sequential(\n",
       "          (0): Conv2d(64, 128, kernel_size=(1, 1), stride=(2, 2), bias=False)\n",
       "          (1): BatchNorm2d(128, eps=1e-05, momentum=0.1, affine=True, track_running_stats=True)\n",
       "        )\n",
       "      )\n",
       "      (1): BasicBlock(\n",
       "        (conv1): Conv2d(128, 128, kernel_size=(3, 3), stride=(1, 1), padding=(1, 1), bias=False)\n",
       "        (bn1): BatchNorm2d(128, eps=1e-05, momentum=0.1, affine=True, track_running_stats=True)\n",
       "        (conv2): Conv2d(128, 128, kernel_size=(3, 3), stride=(1, 1), padding=(1, 1), bias=False)\n",
       "        (bn2): BatchNorm2d(128, eps=1e-05, momentum=0.1, affine=True, track_running_stats=True)\n",
       "        (shortcut): Sequential()\n",
       "      )\n",
       "    )\n",
       "    (layer3): Sequential(\n",
       "      (0): BasicBlock(\n",
       "        (conv1): Conv2d(128, 256, kernel_size=(3, 3), stride=(2, 2), padding=(1, 1), bias=False)\n",
       "        (bn1): BatchNorm2d(256, eps=1e-05, momentum=0.1, affine=True, track_running_stats=True)\n",
       "        (conv2): Conv2d(256, 256, kernel_size=(3, 3), stride=(1, 1), padding=(1, 1), bias=False)\n",
       "        (bn2): BatchNorm2d(256, eps=1e-05, momentum=0.1, affine=True, track_running_stats=True)\n",
       "        (shortcut): Sequential(\n",
       "          (0): Conv2d(128, 256, kernel_size=(1, 1), stride=(2, 2), bias=False)\n",
       "          (1): BatchNorm2d(256, eps=1e-05, momentum=0.1, affine=True, track_running_stats=True)\n",
       "        )\n",
       "      )\n",
       "      (1): BasicBlock(\n",
       "        (conv1): Conv2d(256, 256, kernel_size=(3, 3), stride=(1, 1), padding=(1, 1), bias=False)\n",
       "        (bn1): BatchNorm2d(256, eps=1e-05, momentum=0.1, affine=True, track_running_stats=True)\n",
       "        (conv2): Conv2d(256, 256, kernel_size=(3, 3), stride=(1, 1), padding=(1, 1), bias=False)\n",
       "        (bn2): BatchNorm2d(256, eps=1e-05, momentum=0.1, affine=True, track_running_stats=True)\n",
       "        (shortcut): Sequential()\n",
       "      )\n",
       "    )\n",
       "    (layer4): Sequential(\n",
       "      (0): BasicBlock(\n",
       "        (conv1): Conv2d(256, 512, kernel_size=(3, 3), stride=(2, 2), padding=(1, 1), bias=False)\n",
       "        (bn1): BatchNorm2d(512, eps=1e-05, momentum=0.1, affine=True, track_running_stats=True)\n",
       "        (conv2): Conv2d(512, 512, kernel_size=(3, 3), stride=(1, 1), padding=(1, 1), bias=False)\n",
       "        (bn2): BatchNorm2d(512, eps=1e-05, momentum=0.1, affine=True, track_running_stats=True)\n",
       "        (shortcut): Sequential(\n",
       "          (0): Conv2d(256, 512, kernel_size=(1, 1), stride=(2, 2), bias=False)\n",
       "          (1): BatchNorm2d(512, eps=1e-05, momentum=0.1, affine=True, track_running_stats=True)\n",
       "        )\n",
       "      )\n",
       "      (1): BasicBlock(\n",
       "        (conv1): Conv2d(512, 512, kernel_size=(3, 3), stride=(1, 1), padding=(1, 1), bias=False)\n",
       "        (bn1): BatchNorm2d(512, eps=1e-05, momentum=0.1, affine=True, track_running_stats=True)\n",
       "        (conv2): Conv2d(512, 512, kernel_size=(3, 3), stride=(1, 1), padding=(1, 1), bias=False)\n",
       "        (bn2): BatchNorm2d(512, eps=1e-05, momentum=0.1, affine=True, track_running_stats=True)\n",
       "        (shortcut): Sequential()\n",
       "      )\n",
       "    )\n",
       "    (avgpool): AvgPool2d(kernel_size=(4, 4), stride=(4, 4), padding=0)\n",
       "    (fc): MLP(\n",
       "      (net): Sequential(\n",
       "        (0): Linear(in_features=512, out_features=4096, bias=True)\n",
       "        (1): BatchNorm1d(4096, eps=1e-05, momentum=0.1, affine=True, track_running_stats=True)\n",
       "        (2): ReLU(inplace=True)\n",
       "        (3): Linear(in_features=4096, out_features=2048, bias=True)\n",
       "      )\n",
       "    )\n",
       "  )\n",
       ")"
      ]
     },
     "execution_count": 10,
     "metadata": {},
     "output_type": "execute_result"
    }
   ],
   "source": [
    "client_model"
   ]
  },
  {
   "cell_type": "code",
   "execution_count": 11,
   "metadata": {
    "execution": {
     "iopub.execute_input": "2024-03-01T10:06:19.465230Z",
     "iopub.status.busy": "2024-03-01T10:06:19.465154Z",
     "iopub.status.idle": "2024-03-01T10:06:19.475618Z",
     "shell.execute_reply": "2024-03-01T10:06:19.475383Z",
     "shell.execute_reply.started": "2024-03-01T10:06:19.465221Z"
    }
   },
   "outputs": [],
   "source": [
    "def training(client_models, server_model, optimizer_server, optimizer_clients, rounds, batch_size, avg_freq):\n",
    "   \n",
    "    # training loss\n",
    "    train_loss = []\n",
    "    test_loss = []\n",
    "    test_accuracy = []\n",
    "    best_accuracy = 0\n",
    "    avg_times = 0\n",
    "    # measure time\n",
    "    start = time.time()\n",
    "    \n",
    "    \n",
    "    # writer = SummaryWriter(f'logs/SplitFSSL_BYOL32_DifAvgtimes/resnet18Maxpooling_cifar10_{batch_size}_{avg_freq}_{noniid_ratio}_{client_num}')\n",
    "    writer = SummaryWriter(f'logs/SplitFSSL_BYOL_Avg25times/resnet18Maxpooling_cifar10_{batch_size}_{avg_freq}_{partition}_{client_num}')\n",
    "    global_step = 0\n",
    "    for curr_round in range(epoch, rounds + 1):\n",
    "        metrics = defaultdict(list)\n",
    "        print(f\"Global Round:\", curr_round)\n",
    "        w, local_loss = [], []\n",
    "        \n",
    "        num_batch = 0\n",
    "        for i in train_loader_list:\n",
    "            if num_batch < len(i):\n",
    "                num_batch = len(i)\n",
    "                \n",
    "        train_iter = []\n",
    "        for i in train_loader_list:\n",
    "            train_iter.append(iter(i))\n",
    "            \n",
    "        batch_time = AverageMeter()\n",
    "        data_time = AverageMeter()\n",
    "        p_bar = tqdm(range(num_batch))\n",
    "\n",
    "        # 聚合頻率參數成指數成長\n",
    "        # alpha = expavg_times(curr_round)\n",
    "        # 聚合頻率參數線性數成長\n",
    "        alpha = linear_growth(curr_round)\n",
    "        \n",
    "        for batch in range(num_batch):\n",
    "            # print(\"0>\", time.time() - start)\n",
    "            optimizer_zero_grads(optimizer_server, optimizer_clients)\n",
    "            \n",
    "            online_proj_one_list = [None for _ in range(5)]\n",
    "            online_proj_two_list = [None for _ in range(5)]\n",
    "            target_proj_one_list = [None for _ in range(5)]\n",
    "            target_proj_two_list = [None for _ in range(5)]\n",
    "\n",
    "            # client forward\n",
    "            # select 5 client to join training\n",
    "            s_clients = []\n",
    "            s_clients = random.sample(range(client_num), 5)\n",
    "            # print(\"1>\", time.time() - start)\n",
    "            for i, client_id in enumerate(s_clients):\n",
    "                # print(\"Client: \",i)\n",
    "                # Compute a local update\n",
    "                # print(i, \"0>\", time.time() - start)\n",
    "                img1, img2 = next_data_batch(train_iter[client_id], train_loader_list[client_id])\n",
    "                \n",
    "                img1 = img1.cuda()\n",
    "                img2 = img2.cuda()\n",
    "                \n",
    "                data_time.update(time.time() - start)\n",
    "                # print(i, \"1>\", time.time() - start)\n",
    "                # pass to client model\n",
    "                # print(\"pass to client model\")\n",
    "                client_models[client_id].train()\n",
    "                # print(i, \"2>\", time.time() - start)\n",
    "                online_proj_one, online_proj_two, target_proj_one, target_proj_two = client_models[client_id](img1, img2)\n",
    "                # print(i, \"3>\", time.time() - start)\n",
    "                \n",
    "                # store representations\n",
    "                online_proj_one_list[i] = online_proj_one\n",
    "                online_proj_two_list[i] = online_proj_two\n",
    "                target_proj_one_list[i] = target_proj_one\n",
    "                target_proj_two_list[i] = target_proj_two\n",
    "                  \n",
    "\n",
    "            # stack representations\n",
    "            stack_online_proj_one = torch.cat(online_proj_one_list, dim = 0)\n",
    "            stack_online_proj_two = torch.cat(online_proj_two_list, dim = 0)\n",
    "            stack_target_proj_one = torch.cat(target_proj_one_list, dim = 0)\n",
    "            stack_target_proj_two = torch.cat(target_proj_two_list, dim = 0)\n",
    "\n",
    "            # print(\">\", time.time() - start)\n",
    "            stack_online_proj_one, stack_online_proj_two, stack_target_proj_one, stack_target_proj_two = stack_online_proj_one.cuda(), stack_online_proj_two.cuda(), stack_target_proj_one.cuda(), stack_target_proj_two.cuda()\n",
    "            \n",
    "            # server computes\n",
    "            # print(\"server computes\")\n",
    "            online_proj_one_grad, online_proj_two_grad, loss = train_server(stack_online_proj_one.detach(), stack_online_proj_two.detach(), stack_target_proj_one, stack_target_proj_two, server_model)\n",
    "            local_loss.append((loss.item()))\n",
    "            optimizer_server.step()\n",
    "            \n",
    "            # print(time.time() - start)\n",
    "            # distribute gradients to clients\n",
    "            # online_proj_one_grad, online_proj_two_grad = online_proj_one_grad.cpu(), online_proj_two_grad.cpu()\n",
    "            gradient_dict_one = {key: [] for key in range(client_num)}\n",
    "            gradient_dict_two = {key: [] for key in range(client_num)}\n",
    "            \n",
    "            for j in range(5):\n",
    "                gradient_dict_one[j] = online_proj_one_grad[j*batch_size:(j+1)*batch_size, :]\n",
    "                gradient_dict_two[j] = online_proj_two_grad[j*batch_size:(j+1)*batch_size, :]\n",
    "                \n",
    "            \n",
    "            for i, client_id in enumerate(s_clients):\n",
    "                online_proj_one_list[i].backward(gradient_dict_one[i])\n",
    "                online_proj_two_list[i].backward(gradient_dict_two[i])\n",
    "                optimizer_clients[client_id].step()\n",
    "                client_models[client_id].update_moving_average()\n",
    "            \n",
    "            # if (batch+1)%10 == 0:\n",
    "            #     print(f\"Step [{batch}/{num_batch}]:\\tLoss: {loss.item()}\")\n",
    "            \n",
    "            del img1, img2\n",
    "            writer.add_scalar(\"Loss/train_step\", loss, global_step)\n",
    "            metrics[\"Loss/train\"].append(loss.item())\n",
    "            global_step += 1\n",
    "            \n",
    "            batch_time.update(time.time() - start)\n",
    "            start = time.time()\n",
    "            #=======================================set p_bar description=======================================================\n",
    "            p_bar.set_description(\"Train Epoch: {epoch}/{epochs:4}. Iter: {batch:4}/{iter:4}. Data: {data:.3f}s. alpha: {ep_alpha}. Batch: {bt:.3f}s. Loss: {loss:.4f}.\".format(\n",
    "                    epoch=curr_round,\n",
    "                    epochs=rounds+1,\n",
    "                    batch=batch + 1,\n",
    "                    iter=num_batch,\n",
    "                    data=data_time.avg,\n",
    "                    ep_alpha = alpha,\n",
    "                    bt=batch_time.avg,\n",
    "                    loss=loss.item()))\n",
    "            p_bar.update()\n",
    "            #=======================================set p_bar description=======================================================\n",
    "            # in 32 batch size will have 250 batches, if aggregate per 10 batches will have 25 aggerations in one epoch\n",
    "            # in 64 batch size will have 125 batches, if aggregate per 5 batches will have 25 aggerations in one epoch\n",
    "            if batch == num_batch - 1 or ((batch+1) % alpha == 0):\n",
    "                # print(\"aggregate batch\", batch)\n",
    "                avg_times += 1\n",
    "                with torch.no_grad():\n",
    "                    # aggregate client models\n",
    "                    for key in client_model.state_dict().keys():\n",
    "                        # num_batches_tracked is a non trainable LongTensor and\n",
    "                        # num_batches_tracked are the same for all clients for the given datasets\n",
    "                        if \"running\" in key or \"num_batches\" in key:\n",
    "                            continue\n",
    "                        # elif 'target' in key:\n",
    "                        #     continue\n",
    "                        else:\n",
    "                            temp = torch.zeros_like(client_model.state_dict()[key]).to('cuda')\n",
    "                            for client_idx in s_clients:\n",
    "                                temp += client_weights[client_idx] * client_models[client_idx].state_dict()[key]                        \n",
    "                            client_model.state_dict()[key].data.copy_(temp)\n",
    "                            for client_idx in range(len(client_models)):\n",
    "                                client_models[client_idx].state_dict()[key].data.copy_(client_model.state_dict()[key])\n",
    "        \n",
    "        \n",
    "        p_bar.close()\n",
    "        # scheduler_server.step()\n",
    "        for k, v in metrics.items():\n",
    "            writer.add_scalar(k, np.array(v).mean(), curr_round)\n",
    "\n",
    "\n",
    "        # loss\n",
    "        loss_avg = sum(local_loss) / len(local_loss)\n",
    "        train_loss.append(loss_avg)\n",
    "        if curr_round % 5 == 0:\n",
    "            optimizer_dict = []\n",
    "            optimizer_dict.append(optimizer_server.state_dict())\n",
    "            for client_idx in range(client_num):\n",
    "                optimizer_dict.append(optimizer_clients[client_idx].state_dict())\n",
    "            state_dict = client_model.online_encoder.cpu().state_dict()\n",
    "            save_checkpoint({\n",
    "                'glepoch': curr_round+1,\n",
    "                'state_dict': state_dict,\n",
    "                'optimizer': optimizer_dict,\n",
    "            }, save_path)\n",
    "        if curr_round % 100 == 0:\n",
    "            torch.save(client_model.online_encoder.cpu().state_dict(), save_path + f\"_{curr_round}_epoch.pt\")\n",
    "        \n",
    "        \n",
    "        print(f\"Global round: {curr_round} | Average loss: {loss_avg}\")\n",
    "        # print('best_accuracy:', best_accuracy, '---Round:', curr_round, '---lr', lr, '----localEpocs--', E)\n",
    "\n",
    "    end = time.time()\n",
    "   \n",
    "    print(\"Training Done!\")\n",
    "    print(\"Total time taken to Train: {}\".format(end - start))\n",
    "    print(f\"Total average times : {avg_times}\")\n",
    "\n",
    "    return client_model, train_loss"
   ]
  },
  {
   "cell_type": "code",
   "execution_count": 12,
   "metadata": {
    "colab": {
     "base_uri": "https://localhost:8080/"
    },
    "execution": {
     "iopub.execute_input": "2024-03-01T10:06:19.475951Z",
     "iopub.status.busy": "2024-03-01T10:06:19.475876Z",
     "iopub.status.idle": "2024-03-01T10:06:19.477696Z",
     "shell.execute_reply": "2024-03-01T10:06:19.477464Z",
     "shell.execute_reply.started": "2024-03-01T10:06:19.475942Z"
    },
    "id": "fNqdWcj6d-75",
    "outputId": "27e28498-a3e7-47ef-977b-0f935619d113",
    "tags": []
   },
   "outputs": [
    {
     "name": "stdout",
     "output_type": "stream",
     "text": [
      "./model/SplitFSSL_BYOL32_DifAvgtimes/resnet18Maxpooling_cifar10_32_linear_noniid-labeldir_5\n"
     ]
    }
   ],
   "source": [
    "# plot_str = partition + '_' + norm + '_' + 'comm_rounds_' + str(global_epochs) + '_numclients_' + str(client_num) + '_clientbs_' + str(batch_size) + '_clientLR_' + str(lr)\n",
    "print(save_path)"
   ]
  },
  {
   "cell_type": "code",
   "execution_count": 13,
   "metadata": {
    "colab": {
     "base_uri": "https://localhost:8080/"
    },
    "execution": {
     "iopub.execute_input": "2024-03-01T10:06:19.477979Z",
     "iopub.status.busy": "2024-03-01T10:06:19.477900Z",
     "iopub.status.idle": "2024-03-01T18:22:03.293936Z",
     "shell.execute_reply": "2024-03-01T18:22:03.293517Z",
     "shell.execute_reply.started": "2024-03-01T10:06:19.477970Z"
    },
    "id": "g3tMYpDoerta",
    "outputId": "45a7d097-04fc-4a86-e139-8dc7ab3faeb4",
    "scrolled": true,
    "tags": []
   },
   "outputs": [
    {
     "name": "stdout",
     "output_type": "stream",
     "text": [
      "Global Round: 796\n"
     ]
    },
    {
     "name": "stderr",
     "output_type": "stream",
     "text": [
      "Train Epoch: 796/1001. Iter:  428/ 428. Data: 0.114s. alpha: 40. Batch: 0.340s. Loss: 0.0224.: 100%|█| 428/428 [02:25<00:0\n"
     ]
    },
    {
     "name": "stdout",
     "output_type": "stream",
     "text": [
      "Global round: 796 | Average loss: 0.062038993911173575\n",
      "Global Round: 797\n"
     ]
    },
    {
     "name": "stderr",
     "output_type": "stream",
     "text": [
      "Train Epoch: 797/1001. Iter:  428/ 428. Data: 0.114s. alpha: 40. Batch: 0.338s. Loss: 0.0189.: 100%|█| 428/428 [02:24<00:0\n"
     ]
    },
    {
     "name": "stdout",
     "output_type": "stream",
     "text": [
      "Global round: 797 | Average loss: 0.02234139549328345\n",
      "Global Round: 798\n"
     ]
    },
    {
     "name": "stderr",
     "output_type": "stream",
     "text": [
      "Train Epoch: 798/1001. Iter:  428/ 428. Data: 0.111s. alpha: 40. Batch: 0.333s. Loss: 0.0197.: 100%|█| 428/428 [02:22<00:0\n"
     ]
    },
    {
     "name": "stdout",
     "output_type": "stream",
     "text": [
      "Global round: 798 | Average loss: 0.020505928538878945\n",
      "Global Round: 799\n"
     ]
    },
    {
     "name": "stderr",
     "output_type": "stream",
     "text": [
      "Train Epoch: 799/1001. Iter:  428/ 428. Data: 0.114s. alpha: 40. Batch: 0.338s. Loss: 0.0187.: 100%|█| 428/428 [02:24<00:0\n"
     ]
    },
    {
     "name": "stdout",
     "output_type": "stream",
     "text": [
      "Global round: 799 | Average loss: 0.020184296470518424\n",
      "Global Round: 800\n"
     ]
    },
    {
     "name": "stderr",
     "output_type": "stream",
     "text": [
      "Train Epoch: 800/1001. Iter:  428/ 428. Data: 0.114s. alpha: 40. Batch: 0.337s. Loss: 0.0184.: 100%|█| 428/428 [02:24<00:0\n"
     ]
    },
    {
     "name": "stdout",
     "output_type": "stream",
     "text": [
      "global epoch 801 saved\n",
      "Global round: 800 | Average loss: 0.020116345251901684\n",
      "Global Round: 801\n"
     ]
    },
    {
     "name": "stderr",
     "output_type": "stream",
     "text": [
      "Train Epoch: 801/1001. Iter:  428/ 428. Data: 0.118s. alpha: 40. Batch: 0.343s. Loss: 0.0205.: 100%|█| 428/428 [02:26<00:0\n"
     ]
    },
    {
     "name": "stdout",
     "output_type": "stream",
     "text": [
      "Global round: 801 | Average loss: 0.020447752730067922\n",
      "Global Round: 802\n"
     ]
    },
    {
     "name": "stderr",
     "output_type": "stream",
     "text": [
      "Train Epoch: 802/1001. Iter:  428/ 428. Data: 0.118s. alpha: 40. Batch: 0.343s. Loss: 0.0223.: 100%|█| 428/428 [02:26<00:0\n"
     ]
    },
    {
     "name": "stdout",
     "output_type": "stream",
     "text": [
      "Global round: 802 | Average loss: 0.02116208932162306\n",
      "Global Round: 803\n"
     ]
    },
    {
     "name": "stderr",
     "output_type": "stream",
     "text": [
      "Train Epoch: 803/1001. Iter:  428/ 428. Data: 0.117s. alpha: 41. Batch: 0.342s. Loss: 0.0208.: 100%|█| 428/428 [02:26<00:0\n"
     ]
    },
    {
     "name": "stdout",
     "output_type": "stream",
     "text": [
      "Global round: 803 | Average loss: 0.02192130602600279\n",
      "Global Round: 804\n"
     ]
    },
    {
     "name": "stderr",
     "output_type": "stream",
     "text": [
      "Train Epoch: 804/1001. Iter:  428/ 428. Data: 0.116s. alpha: 41. Batch: 0.340s. Loss: 0.0253.: 100%|█| 428/428 [02:25<00:0\n"
     ]
    },
    {
     "name": "stdout",
     "output_type": "stream",
     "text": [
      "Global round: 804 | Average loss: 0.023143773123830834\n",
      "Global Round: 805\n"
     ]
    },
    {
     "name": "stderr",
     "output_type": "stream",
     "text": [
      "Train Epoch: 805/1001. Iter:  428/ 428. Data: 0.114s. alpha: 41. Batch: 0.338s. Loss: 0.0255.: 100%|█| 428/428 [02:24<00:0\n"
     ]
    },
    {
     "name": "stdout",
     "output_type": "stream",
     "text": [
      "global epoch 806 saved\n",
      "Global round: 805 | Average loss: 0.024675961966826535\n",
      "Global Round: 806\n"
     ]
    },
    {
     "name": "stderr",
     "output_type": "stream",
     "text": [
      "Train Epoch: 806/1001. Iter:  428/ 428. Data: 0.118s. alpha: 41. Batch: 0.344s. Loss: 0.0274.: 100%|█| 428/428 [02:26<00:0\n"
     ]
    },
    {
     "name": "stdout",
     "output_type": "stream",
     "text": [
      "Global round: 806 | Average loss: 0.0265483527278928\n",
      "Global Round: 807\n"
     ]
    },
    {
     "name": "stderr",
     "output_type": "stream",
     "text": [
      "Train Epoch: 807/1001. Iter:  428/ 428. Data: 0.117s. alpha: 41. Batch: 0.342s. Loss: 0.0281.: 100%|█| 428/428 [02:26<00:0\n"
     ]
    },
    {
     "name": "stdout",
     "output_type": "stream",
     "text": [
      "Global round: 807 | Average loss: 0.027811854007157768\n",
      "Global Round: 808\n"
     ]
    },
    {
     "name": "stderr",
     "output_type": "stream",
     "text": [
      "Train Epoch: 808/1001. Iter:  428/ 428. Data: 0.115s. alpha: 41. Batch: 0.338s. Loss: 0.0311.: 100%|█| 428/428 [02:24<00:0\n"
     ]
    },
    {
     "name": "stdout",
     "output_type": "stream",
     "text": [
      "Global round: 808 | Average loss: 0.029181436613793965\n",
      "Global Round: 809\n"
     ]
    },
    {
     "name": "stderr",
     "output_type": "stream",
     "text": [
      "Train Epoch: 809/1001. Iter:  428/ 428. Data: 0.115s. alpha: 41. Batch: 0.340s. Loss: 0.0291.: 100%|█| 428/428 [02:25<00:0\n"
     ]
    },
    {
     "name": "stdout",
     "output_type": "stream",
     "text": [
      "Global round: 809 | Average loss: 0.030573553880067352\n",
      "Global Round: 810\n"
     ]
    },
    {
     "name": "stderr",
     "output_type": "stream",
     "text": [
      "Train Epoch: 810/1001. Iter:  428/ 428. Data: 0.115s. alpha: 41. Batch: 0.339s. Loss: 0.0335.: 100%|█| 428/428 [02:25<00:0\n"
     ]
    },
    {
     "name": "stdout",
     "output_type": "stream",
     "text": [
      "global epoch 811 saved\n",
      "Global round: 810 | Average loss: 0.03185395594407743\n",
      "Global Round: 811\n"
     ]
    },
    {
     "name": "stderr",
     "output_type": "stream",
     "text": [
      "Train Epoch: 811/1001. Iter:  428/ 428. Data: 0.117s. alpha: 41. Batch: 0.341s. Loss: 0.0352.: 100%|█| 428/428 [02:25<00:0\n"
     ]
    },
    {
     "name": "stdout",
     "output_type": "stream",
     "text": [
      "Global round: 811 | Average loss: 0.03358811647065471\n",
      "Global Round: 812\n"
     ]
    },
    {
     "name": "stderr",
     "output_type": "stream",
     "text": [
      "Train Epoch: 812/1001. Iter:  428/ 428. Data: 0.114s. alpha: 41. Batch: 0.339s. Loss: 0.0360.: 100%|█| 428/428 [02:25<00:0\n"
     ]
    },
    {
     "name": "stdout",
     "output_type": "stream",
     "text": [
      "Global round: 812 | Average loss: 0.03485657538452717\n",
      "Global Round: 813\n"
     ]
    },
    {
     "name": "stderr",
     "output_type": "stream",
     "text": [
      "Train Epoch: 813/1001. Iter:  428/ 428. Data: 0.115s. alpha: 41. Batch: 0.340s. Loss: 0.0350.: 100%|█| 428/428 [02:25<00:0\n"
     ]
    },
    {
     "name": "stdout",
     "output_type": "stream",
     "text": [
      "Global round: 813 | Average loss: 0.036118798828292116\n",
      "Global Round: 814\n"
     ]
    },
    {
     "name": "stderr",
     "output_type": "stream",
     "text": [
      "Train Epoch: 814/1001. Iter:  428/ 428. Data: 0.116s. alpha: 41. Batch: 0.341s. Loss: 0.0358.: 100%|█| 428/428 [02:26<00:0\n"
     ]
    },
    {
     "name": "stdout",
     "output_type": "stream",
     "text": [
      "Global round: 814 | Average loss: 0.036916520611913965\n",
      "Global Round: 815\n"
     ]
    },
    {
     "name": "stderr",
     "output_type": "stream",
     "text": [
      "Train Epoch: 815/1001. Iter:  428/ 428. Data: 0.116s. alpha: 41. Batch: 0.341s. Loss: 0.0388.: 100%|█| 428/428 [02:25<00:0\n"
     ]
    },
    {
     "name": "stdout",
     "output_type": "stream",
     "text": [
      "global epoch 816 saved\n",
      "Global round: 815 | Average loss: 0.03793419061977173\n",
      "Global Round: 816\n"
     ]
    },
    {
     "name": "stderr",
     "output_type": "stream",
     "text": [
      "Train Epoch: 816/1001. Iter:  428/ 428. Data: 0.120s. alpha: 41. Batch: 0.346s. Loss: 0.0387.: 100%|█| 428/428 [02:26<00:0\n"
     ]
    },
    {
     "name": "stdout",
     "output_type": "stream",
     "text": [
      "Global round: 816 | Average loss: 0.03886413059815347\n",
      "Global Round: 817\n"
     ]
    },
    {
     "name": "stderr",
     "output_type": "stream",
     "text": [
      "Train Epoch: 817/1001. Iter:  428/ 428. Data: 0.118s. alpha: 41. Batch: 0.343s. Loss: 0.0374.: 100%|█| 428/428 [02:26<00:0\n"
     ]
    },
    {
     "name": "stdout",
     "output_type": "stream",
     "text": [
      "Global round: 817 | Average loss: 0.03979589646490656\n",
      "Global Round: 818\n"
     ]
    },
    {
     "name": "stderr",
     "output_type": "stream",
     "text": [
      "Train Epoch: 818/1001. Iter:  428/ 428. Data: 0.116s. alpha: 41. Batch: 0.342s. Loss: 0.0444.: 100%|█| 428/428 [02:26<00:0\n"
     ]
    },
    {
     "name": "stdout",
     "output_type": "stream",
     "text": [
      "Global round: 818 | Average loss: 0.04104218820858503\n",
      "Global Round: 819\n"
     ]
    },
    {
     "name": "stderr",
     "output_type": "stream",
     "text": [
      "Train Epoch: 819/1001. Iter:  428/ 428. Data: 0.115s. alpha: 41. Batch: 0.341s. Loss: 0.0454.: 100%|█| 428/428 [02:25<00:0\n"
     ]
    },
    {
     "name": "stdout",
     "output_type": "stream",
     "text": [
      "Global round: 819 | Average loss: 0.042105773411621555\n",
      "Global Round: 820\n"
     ]
    },
    {
     "name": "stderr",
     "output_type": "stream",
     "text": [
      "Train Epoch: 820/1001. Iter:  428/ 428. Data: 0.114s. alpha: 41. Batch: 0.338s. Loss: 0.0399.: 100%|█| 428/428 [02:24<00:0\n"
     ]
    },
    {
     "name": "stdout",
     "output_type": "stream",
     "text": [
      "global epoch 821 saved\n",
      "Global round: 820 | Average loss: 0.043594794147691435\n",
      "Global Round: 821\n"
     ]
    },
    {
     "name": "stderr",
     "output_type": "stream",
     "text": [
      "Train Epoch: 821/1001. Iter:  428/ 428. Data: 0.118s. alpha: 41. Batch: 0.342s. Loss: 0.0451.: 100%|█| 428/428 [02:25<00:0\n"
     ]
    },
    {
     "name": "stdout",
     "output_type": "stream",
     "text": [
      "Global round: 821 | Average loss: 0.04389661999645634\n",
      "Global Round: 822\n"
     ]
    },
    {
     "name": "stderr",
     "output_type": "stream",
     "text": [
      "Train Epoch: 822/1001. Iter:  428/ 428. Data: 0.118s. alpha: 41. Batch: 0.342s. Loss: 0.0489.: 100%|█| 428/428 [02:26<00:0\n"
     ]
    },
    {
     "name": "stdout",
     "output_type": "stream",
     "text": [
      "Global round: 822 | Average loss: 0.04418837944933466\n",
      "Global Round: 823\n"
     ]
    },
    {
     "name": "stderr",
     "output_type": "stream",
     "text": [
      "Train Epoch: 823/1001. Iter:  428/ 428. Data: 0.114s. alpha: 42. Batch: 0.339s. Loss: 0.0455.: 100%|█| 428/428 [02:25<00:0\n"
     ]
    },
    {
     "name": "stdout",
     "output_type": "stream",
     "text": [
      "Global round: 823 | Average loss: 0.0452609262907895\n",
      "Global Round: 824\n"
     ]
    },
    {
     "name": "stderr",
     "output_type": "stream",
     "text": [
      "Train Epoch: 824/1001. Iter:  428/ 428. Data: 0.115s. alpha: 42. Batch: 0.341s. Loss: 0.0431.: 100%|█| 428/428 [02:25<00:0\n"
     ]
    },
    {
     "name": "stdout",
     "output_type": "stream",
     "text": [
      "Global round: 824 | Average loss: 0.045930190917069666\n",
      "Global Round: 825\n"
     ]
    },
    {
     "name": "stderr",
     "output_type": "stream",
     "text": [
      "Train Epoch: 825/1001. Iter:  428/ 428. Data: 0.118s. alpha: 42. Batch: 0.343s. Loss: 0.0434.: 100%|█| 428/428 [02:26<00:0\n"
     ]
    },
    {
     "name": "stdout",
     "output_type": "stream",
     "text": [
      "global epoch 826 saved\n",
      "Global round: 825 | Average loss: 0.045778597922664935\n",
      "Global Round: 826\n"
     ]
    },
    {
     "name": "stderr",
     "output_type": "stream",
     "text": [
      "Train Epoch: 826/1001. Iter:  428/ 428. Data: 0.117s. alpha: 42. Batch: 0.342s. Loss: 0.0419.: 100%|█| 428/428 [02:25<00:0\n"
     ]
    },
    {
     "name": "stdout",
     "output_type": "stream",
     "text": [
      "Global round: 826 | Average loss: 0.04604636866460058\n",
      "Global Round: 827\n"
     ]
    },
    {
     "name": "stderr",
     "output_type": "stream",
     "text": [
      "Train Epoch: 827/1001. Iter:  428/ 428. Data: 0.114s. alpha: 42. Batch: 0.337s. Loss: 0.0470.: 100%|█| 428/428 [02:24<00:0\n"
     ]
    },
    {
     "name": "stdout",
     "output_type": "stream",
     "text": [
      "Global round: 827 | Average loss: 0.04711564200294909\n",
      "Global Round: 828\n"
     ]
    },
    {
     "name": "stderr",
     "output_type": "stream",
     "text": [
      "Train Epoch: 828/1001. Iter:  428/ 428. Data: 0.115s. alpha: 42. Batch: 0.339s. Loss: 0.0448.: 100%|█| 428/428 [02:25<00:0\n"
     ]
    },
    {
     "name": "stdout",
     "output_type": "stream",
     "text": [
      "Global round: 828 | Average loss: 0.04860071753473761\n",
      "Global Round: 829\n"
     ]
    },
    {
     "name": "stderr",
     "output_type": "stream",
     "text": [
      "Train Epoch: 829/1001. Iter:  428/ 428. Data: 0.115s. alpha: 42. Batch: 0.339s. Loss: 0.0482.: 100%|█| 428/428 [02:25<00:0\n"
     ]
    },
    {
     "name": "stdout",
     "output_type": "stream",
     "text": [
      "Global round: 829 | Average loss: 0.04940300033575742\n",
      "Global Round: 830\n"
     ]
    },
    {
     "name": "stderr",
     "output_type": "stream",
     "text": [
      "Train Epoch: 830/1001. Iter:  428/ 428. Data: 0.111s. alpha: 42. Batch: 0.333s. Loss: 0.0542.: 100%|█| 428/428 [02:22<00:0\n"
     ]
    },
    {
     "name": "stdout",
     "output_type": "stream",
     "text": [
      "global epoch 831 saved\n",
      "Global round: 830 | Average loss: 0.05158658437953095\n",
      "Global Round: 831\n"
     ]
    },
    {
     "name": "stderr",
     "output_type": "stream",
     "text": [
      "Train Epoch: 831/1001. Iter:  428/ 428. Data: 0.118s. alpha: 42. Batch: 0.342s. Loss: 0.0505.: 100%|█| 428/428 [02:25<00:0\n"
     ]
    },
    {
     "name": "stdout",
     "output_type": "stream",
     "text": [
      "Global round: 831 | Average loss: 0.05106012894832921\n",
      "Global Round: 832\n"
     ]
    },
    {
     "name": "stderr",
     "output_type": "stream",
     "text": [
      "Train Epoch: 832/1001. Iter:  428/ 428. Data: 0.115s. alpha: 42. Batch: 0.340s. Loss: 0.0489.: 100%|█| 428/428 [02:25<00:0\n"
     ]
    },
    {
     "name": "stdout",
     "output_type": "stream",
     "text": [
      "Global round: 832 | Average loss: 0.051246191461997055\n",
      "Global Round: 833\n"
     ]
    },
    {
     "name": "stderr",
     "output_type": "stream",
     "text": [
      "Train Epoch: 833/1001. Iter:  428/ 428. Data: 0.114s. alpha: 42. Batch: 0.338s. Loss: 0.0491.: 100%|█| 428/428 [02:24<00:0\n"
     ]
    },
    {
     "name": "stdout",
     "output_type": "stream",
     "text": [
      "Global round: 833 | Average loss: 0.05195144239256037\n",
      "Global Round: 834\n"
     ]
    },
    {
     "name": "stderr",
     "output_type": "stream",
     "text": [
      "Train Epoch: 834/1001. Iter:  428/ 428. Data: 0.114s. alpha: 42. Batch: 0.338s. Loss: 0.0527.: 100%|█| 428/428 [02:24<00:0\n"
     ]
    },
    {
     "name": "stdout",
     "output_type": "stream",
     "text": [
      "Global round: 834 | Average loss: 0.052856865260645605\n",
      "Global Round: 835\n"
     ]
    },
    {
     "name": "stderr",
     "output_type": "stream",
     "text": [
      "Train Epoch: 835/1001. Iter:  428/ 428. Data: 0.113s. alpha: 42. Batch: 0.337s. Loss: 0.0527.: 100%|█| 428/428 [02:24<00:0\n"
     ]
    },
    {
     "name": "stdout",
     "output_type": "stream",
     "text": [
      "global epoch 836 saved\n",
      "Global round: 835 | Average loss: 0.05376236125060888\n",
      "Global Round: 836\n"
     ]
    },
    {
     "name": "stderr",
     "output_type": "stream",
     "text": [
      "Train Epoch: 836/1001. Iter:  428/ 428. Data: 0.119s. alpha: 42. Batch: 0.344s. Loss: 0.0582.: 100%|█| 428/428 [02:26<00:0\n"
     ]
    },
    {
     "name": "stdout",
     "output_type": "stream",
     "text": [
      "Global round: 836 | Average loss: 0.05514138612339151\n",
      "Global Round: 837\n"
     ]
    },
    {
     "name": "stderr",
     "output_type": "stream",
     "text": [
      "Train Epoch: 837/1001. Iter:  428/ 428. Data: 0.116s. alpha: 42. Batch: 0.340s. Loss: 0.0545.: 100%|█| 428/428 [02:25<00:0\n"
     ]
    },
    {
     "name": "stdout",
     "output_type": "stream",
     "text": [
      "Global round: 837 | Average loss: 0.05668338348166408\n",
      "Global Round: 838\n"
     ]
    },
    {
     "name": "stderr",
     "output_type": "stream",
     "text": [
      "Train Epoch: 838/1001. Iter:  428/ 428. Data: 0.115s. alpha: 42. Batch: 0.339s. Loss: 0.0544.: 100%|█| 428/428 [02:25<00:0\n"
     ]
    },
    {
     "name": "stdout",
     "output_type": "stream",
     "text": [
      "Global round: 838 | Average loss: 0.05577131762021335\n",
      "Global Round: 839\n"
     ]
    },
    {
     "name": "stderr",
     "output_type": "stream",
     "text": [
      "Train Epoch: 839/1001. Iter:  428/ 428. Data: 0.116s. alpha: 42. Batch: 0.340s. Loss: 0.0596.: 100%|█| 428/428 [02:25<00:0\n"
     ]
    },
    {
     "name": "stdout",
     "output_type": "stream",
     "text": [
      "Global round: 839 | Average loss: 0.05551071803599039\n",
      "Global Round: 840\n"
     ]
    },
    {
     "name": "stderr",
     "output_type": "stream",
     "text": [
      "Train Epoch: 840/1001. Iter:  428/ 428. Data: 0.117s. alpha: 42. Batch: 0.342s. Loss: 0.0539.: 100%|█| 428/428 [02:26<00:0\n"
     ]
    },
    {
     "name": "stdout",
     "output_type": "stream",
     "text": [
      "global epoch 841 saved\n",
      "Global round: 840 | Average loss: 0.05629165898834434\n",
      "Global Round: 841\n"
     ]
    },
    {
     "name": "stderr",
     "output_type": "stream",
     "text": [
      "Train Epoch: 841/1001. Iter:  428/ 428. Data: 0.115s. alpha: 42. Batch: 0.338s. Loss: 0.0543.: 100%|█| 428/428 [02:23<00:0\n"
     ]
    },
    {
     "name": "stdout",
     "output_type": "stream",
     "text": [
      "Global round: 841 | Average loss: 0.05472108465836984\n",
      "Global Round: 842\n"
     ]
    },
    {
     "name": "stderr",
     "output_type": "stream",
     "text": [
      "Train Epoch: 842/1001. Iter:  428/ 428. Data: 0.115s. alpha: 42. Batch: 0.339s. Loss: 0.0546.: 100%|█| 428/428 [02:25<00:0\n"
     ]
    },
    {
     "name": "stdout",
     "output_type": "stream",
     "text": [
      "Global round: 842 | Average loss: 0.055649493272616486\n",
      "Global Round: 843\n"
     ]
    },
    {
     "name": "stderr",
     "output_type": "stream",
     "text": [
      "Train Epoch: 843/1001. Iter:  428/ 428. Data: 0.115s. alpha: 42. Batch: 0.339s. Loss: 0.0579.: 100%|█| 428/428 [02:24<00:0\n"
     ]
    },
    {
     "name": "stdout",
     "output_type": "stream",
     "text": [
      "Global round: 843 | Average loss: 0.057353228400243775\n",
      "Global Round: 844\n"
     ]
    },
    {
     "name": "stderr",
     "output_type": "stream",
     "text": [
      "Train Epoch: 844/1001. Iter:  428/ 428. Data: 0.113s. alpha: 43. Batch: 0.336s. Loss: 0.0615.: 100%|█| 428/428 [02:23<00:0\n"
     ]
    },
    {
     "name": "stdout",
     "output_type": "stream",
     "text": [
      "Global round: 844 | Average loss: 0.05836722056303069\n",
      "Global Round: 845\n"
     ]
    },
    {
     "name": "stderr",
     "output_type": "stream",
     "text": [
      "Train Epoch: 845/1001. Iter:  428/ 428. Data: 0.116s. alpha: 43. Batch: 0.340s. Loss: 0.0596.: 100%|█| 428/428 [02:25<00:0\n"
     ]
    },
    {
     "name": "stdout",
     "output_type": "stream",
     "text": [
      "global epoch 846 saved\n",
      "Global round: 845 | Average loss: 0.058701480677891\n",
      "Global Round: 846\n"
     ]
    },
    {
     "name": "stderr",
     "output_type": "stream",
     "text": [
      "Train Epoch: 846/1001. Iter:  428/ 428. Data: 0.116s. alpha: 43. Batch: 0.338s. Loss: 0.0565.: 100%|█| 428/428 [02:23<00:0\n"
     ]
    },
    {
     "name": "stdout",
     "output_type": "stream",
     "text": [
      "Global round: 846 | Average loss: 0.058932660452185946\n",
      "Global Round: 847\n"
     ]
    },
    {
     "name": "stderr",
     "output_type": "stream",
     "text": [
      "Train Epoch: 847/1001. Iter:  428/ 428. Data: 0.116s. alpha: 43. Batch: 0.341s. Loss: 0.0555.: 100%|█| 428/428 [02:25<00:0\n"
     ]
    },
    {
     "name": "stdout",
     "output_type": "stream",
     "text": [
      "Global round: 847 | Average loss: 0.059885771196579264\n",
      "Global Round: 848\n"
     ]
    },
    {
     "name": "stderr",
     "output_type": "stream",
     "text": [
      "Train Epoch: 848/1001. Iter:  428/ 428. Data: 0.117s. alpha: 43. Batch: 0.342s. Loss: 0.0608.: 100%|█| 428/428 [02:26<00:0\n"
     ]
    },
    {
     "name": "stdout",
     "output_type": "stream",
     "text": [
      "Global round: 848 | Average loss: 0.05990998117932092\n",
      "Global Round: 849\n"
     ]
    },
    {
     "name": "stderr",
     "output_type": "stream",
     "text": [
      "Train Epoch: 849/1001. Iter:  428/ 428. Data: 0.117s. alpha: 43. Batch: 0.343s. Loss: 0.0575.: 100%|█| 428/428 [02:26<00:0\n"
     ]
    },
    {
     "name": "stdout",
     "output_type": "stream",
     "text": [
      "Global round: 849 | Average loss: 0.060825349258206714\n",
      "Global Round: 850\n"
     ]
    },
    {
     "name": "stderr",
     "output_type": "stream",
     "text": [
      "Train Epoch: 850/1001. Iter:  428/ 428. Data: 0.115s. alpha: 43. Batch: 0.339s. Loss: 0.0572.: 100%|█| 428/428 [02:25<00:0\n"
     ]
    },
    {
     "name": "stdout",
     "output_type": "stream",
     "text": [
      "global epoch 851 saved\n",
      "Global round: 850 | Average loss: 0.06036598198812142\n",
      "Global Round: 851\n"
     ]
    },
    {
     "name": "stderr",
     "output_type": "stream",
     "text": [
      "Train Epoch: 851/1001. Iter:  428/ 428. Data: 0.115s. alpha: 43. Batch: 0.339s. Loss: 0.0610.: 100%|█| 428/428 [02:24<00:0\n"
     ]
    },
    {
     "name": "stdout",
     "output_type": "stream",
     "text": [
      "Global round: 851 | Average loss: 0.06156713612133933\n",
      "Global Round: 852\n"
     ]
    },
    {
     "name": "stderr",
     "output_type": "stream",
     "text": [
      "Train Epoch: 852/1001. Iter:  428/ 428. Data: 0.115s. alpha: 43. Batch: 0.340s. Loss: 0.0615.: 100%|█| 428/428 [02:25<00:0\n"
     ]
    },
    {
     "name": "stdout",
     "output_type": "stream",
     "text": [
      "Global round: 852 | Average loss: 0.060983499781898806\n",
      "Global Round: 853\n"
     ]
    },
    {
     "name": "stderr",
     "output_type": "stream",
     "text": [
      "Train Epoch: 853/1001. Iter:  428/ 428. Data: 0.113s. alpha: 43. Batch: 0.336s. Loss: 0.0593.: 100%|█| 428/428 [02:23<00:0\n"
     ]
    },
    {
     "name": "stdout",
     "output_type": "stream",
     "text": [
      "Global round: 853 | Average loss: 0.059958606923573486\n",
      "Global Round: 854\n"
     ]
    },
    {
     "name": "stderr",
     "output_type": "stream",
     "text": [
      "Train Epoch: 854/1001. Iter:  428/ 428. Data: 0.112s. alpha: 43. Batch: 0.335s. Loss: 0.0633.: 100%|█| 428/428 [02:23<00:0\n"
     ]
    },
    {
     "name": "stdout",
     "output_type": "stream",
     "text": [
      "Global round: 854 | Average loss: 0.06159237746984881\n",
      "Global Round: 855\n"
     ]
    },
    {
     "name": "stderr",
     "output_type": "stream",
     "text": [
      "Train Epoch: 855/1001. Iter:  428/ 428. Data: 0.117s. alpha: 43. Batch: 0.342s. Loss: 0.0619.: 100%|█| 428/428 [02:26<00:0\n"
     ]
    },
    {
     "name": "stdout",
     "output_type": "stream",
     "text": [
      "global epoch 856 saved\n",
      "Global round: 855 | Average loss: 0.06196737840388701\n",
      "Global Round: 856\n"
     ]
    },
    {
     "name": "stderr",
     "output_type": "stream",
     "text": [
      "Train Epoch: 856/1001. Iter:  428/ 428. Data: 0.117s. alpha: 43. Batch: 0.342s. Loss: 0.0629.: 100%|█| 428/428 [02:25<00:0\n"
     ]
    },
    {
     "name": "stdout",
     "output_type": "stream",
     "text": [
      "Global round: 856 | Average loss: 0.06470673669686663\n",
      "Global Round: 857\n"
     ]
    },
    {
     "name": "stderr",
     "output_type": "stream",
     "text": [
      "Train Epoch: 857/1001. Iter:  428/ 428. Data: 0.114s. alpha: 43. Batch: 0.339s. Loss: 0.0611.: 100%|█| 428/428 [02:24<00:0\n"
     ]
    },
    {
     "name": "stdout",
     "output_type": "stream",
     "text": [
      "Global round: 857 | Average loss: 0.06349473308214795\n",
      "Global Round: 858\n"
     ]
    },
    {
     "name": "stderr",
     "output_type": "stream",
     "text": [
      "Train Epoch: 858/1001. Iter:  428/ 428. Data: 0.113s. alpha: 43. Batch: 0.336s. Loss: 0.0596.: 100%|█| 428/428 [02:24<00:0\n"
     ]
    },
    {
     "name": "stdout",
     "output_type": "stream",
     "text": [
      "Global round: 858 | Average loss: 0.06197735386091136\n",
      "Global Round: 859\n"
     ]
    },
    {
     "name": "stderr",
     "output_type": "stream",
     "text": [
      "Train Epoch: 859/1001. Iter:  428/ 428. Data: 0.114s. alpha: 43. Batch: 0.338s. Loss: 0.0606.: 100%|█| 428/428 [02:24<00:0\n"
     ]
    },
    {
     "name": "stdout",
     "output_type": "stream",
     "text": [
      "Global round: 859 | Average loss: 0.06339228804284167\n",
      "Global Round: 860\n"
     ]
    },
    {
     "name": "stderr",
     "output_type": "stream",
     "text": [
      "Train Epoch: 860/1001. Iter:  428/ 428. Data: 0.113s. alpha: 43. Batch: 0.336s. Loss: 0.0590.: 100%|█| 428/428 [02:23<00:0\n"
     ]
    },
    {
     "name": "stdout",
     "output_type": "stream",
     "text": [
      "global epoch 861 saved\n",
      "Global round: 860 | Average loss: 0.06387410969168783\n",
      "Global Round: 861\n"
     ]
    },
    {
     "name": "stderr",
     "output_type": "stream",
     "text": [
      "Train Epoch: 861/1001. Iter:  428/ 428. Data: 0.119s. alpha: 43. Batch: 0.344s. Loss: 0.0616.: 100%|█| 428/428 [02:26<00:0\n"
     ]
    },
    {
     "name": "stdout",
     "output_type": "stream",
     "text": [
      "Global round: 861 | Average loss: 0.06366331041485906\n",
      "Global Round: 862\n"
     ]
    },
    {
     "name": "stderr",
     "output_type": "stream",
     "text": [
      "Train Epoch: 862/1001. Iter:  428/ 428. Data: 0.112s. alpha: 43. Batch: 0.334s. Loss: 0.0617.: 100%|█| 428/428 [02:23<00:0\n"
     ]
    },
    {
     "name": "stdout",
     "output_type": "stream",
     "text": [
      "Global round: 862 | Average loss: 0.06325370973306839\n",
      "Global Round: 863\n"
     ]
    },
    {
     "name": "stderr",
     "output_type": "stream",
     "text": [
      "Train Epoch: 863/1001. Iter:  428/ 428. Data: 0.112s. alpha: 43. Batch: 0.334s. Loss: 0.0575.: 100%|█| 428/428 [02:23<00:0\n"
     ]
    },
    {
     "name": "stdout",
     "output_type": "stream",
     "text": [
      "Global round: 863 | Average loss: 0.06332829524980527\n",
      "Global Round: 864\n"
     ]
    },
    {
     "name": "stderr",
     "output_type": "stream",
     "text": [
      "Train Epoch: 864/1001. Iter:  428/ 428. Data: 0.114s. alpha: 43. Batch: 0.339s. Loss: 0.0658.: 100%|█| 428/428 [02:24<00:0\n"
     ]
    },
    {
     "name": "stdout",
     "output_type": "stream",
     "text": [
      "Global round: 864 | Average loss: 0.06481414237799489\n",
      "Global Round: 865\n"
     ]
    },
    {
     "name": "stderr",
     "output_type": "stream",
     "text": [
      "Train Epoch: 865/1001. Iter:  428/ 428. Data: 0.113s. alpha: 44. Batch: 0.337s. Loss: 0.0623.: 100%|█| 428/428 [02:24<00:0\n"
     ]
    },
    {
     "name": "stdout",
     "output_type": "stream",
     "text": [
      "global epoch 866 saved\n",
      "Global round: 865 | Average loss: 0.06558959256579107\n",
      "Global Round: 866\n"
     ]
    },
    {
     "name": "stderr",
     "output_type": "stream",
     "text": [
      "Train Epoch: 866/1001. Iter:  428/ 428. Data: 0.113s. alpha: 44. Batch: 0.334s. Loss: 0.0683.: 100%|█| 428/428 [02:21<00:0\n"
     ]
    },
    {
     "name": "stdout",
     "output_type": "stream",
     "text": [
      "Global round: 866 | Average loss: 0.06541576386194363\n",
      "Global Round: 867\n"
     ]
    },
    {
     "name": "stderr",
     "output_type": "stream",
     "text": [
      "Train Epoch: 867/1001. Iter:  428/ 428. Data: 0.114s. alpha: 44. Batch: 0.337s. Loss: 0.0650.: 100%|█| 428/428 [02:24<00:0\n"
     ]
    },
    {
     "name": "stdout",
     "output_type": "stream",
     "text": [
      "Global round: 867 | Average loss: 0.06523035872275028\n",
      "Global Round: 868\n"
     ]
    },
    {
     "name": "stderr",
     "output_type": "stream",
     "text": [
      "Train Epoch: 868/1001. Iter:  428/ 428. Data: 0.115s. alpha: 44. Batch: 0.340s. Loss: 0.0646.: 100%|█| 428/428 [02:25<00:0\n"
     ]
    },
    {
     "name": "stdout",
     "output_type": "stream",
     "text": [
      "Global round: 868 | Average loss: 0.06384971175586508\n",
      "Global Round: 869\n"
     ]
    },
    {
     "name": "stderr",
     "output_type": "stream",
     "text": [
      "Train Epoch: 869/1001. Iter:  428/ 428. Data: 0.116s. alpha: 44. Batch: 0.341s. Loss: 0.0723.: 100%|█| 428/428 [02:26<00:0\n"
     ]
    },
    {
     "name": "stdout",
     "output_type": "stream",
     "text": [
      "Global round: 869 | Average loss: 0.06322380147491381\n",
      "Global Round: 870\n"
     ]
    },
    {
     "name": "stderr",
     "output_type": "stream",
     "text": [
      "Train Epoch: 870/1001. Iter:  428/ 428. Data: 0.112s. alpha: 44. Batch: 0.334s. Loss: 0.0669.: 100%|█| 428/428 [02:22<00:0\n"
     ]
    },
    {
     "name": "stdout",
     "output_type": "stream",
     "text": [
      "global epoch 871 saved\n",
      "Global round: 870 | Average loss: 0.06542913393752876\n",
      "Global Round: 871\n"
     ]
    },
    {
     "name": "stderr",
     "output_type": "stream",
     "text": [
      "Train Epoch: 871/1001. Iter:  428/ 428. Data: 0.116s. alpha: 44. Batch: 0.339s. Loss: 0.0683.: 100%|█| 428/428 [02:24<00:0\n"
     ]
    },
    {
     "name": "stdout",
     "output_type": "stream",
     "text": [
      "Global round: 871 | Average loss: 0.06553655355367984\n",
      "Global Round: 872\n"
     ]
    },
    {
     "name": "stderr",
     "output_type": "stream",
     "text": [
      "Train Epoch: 872/1001. Iter:  428/ 428. Data: 0.115s. alpha: 44. Batch: 0.339s. Loss: 0.0557.: 100%|█| 428/428 [02:25<00:0\n"
     ]
    },
    {
     "name": "stdout",
     "output_type": "stream",
     "text": [
      "Global round: 872 | Average loss: 0.06347467095773911\n",
      "Global Round: 873\n"
     ]
    },
    {
     "name": "stderr",
     "output_type": "stream",
     "text": [
      "Train Epoch: 873/1001. Iter:  428/ 428. Data: 0.113s. alpha: 44. Batch: 0.337s. Loss: 0.0667.: 100%|█| 428/428 [02:24<00:0\n"
     ]
    },
    {
     "name": "stdout",
     "output_type": "stream",
     "text": [
      "Global round: 873 | Average loss: 0.06295286734353438\n",
      "Global Round: 874\n"
     ]
    },
    {
     "name": "stderr",
     "output_type": "stream",
     "text": [
      "Train Epoch: 874/1001. Iter:  428/ 428. Data: 0.112s. alpha: 44. Batch: 0.335s. Loss: 0.0599.: 100%|█| 428/428 [02:23<00:0\n"
     ]
    },
    {
     "name": "stdout",
     "output_type": "stream",
     "text": [
      "Global round: 874 | Average loss: 0.06233286198716019\n",
      "Global Round: 875\n"
     ]
    },
    {
     "name": "stderr",
     "output_type": "stream",
     "text": [
      "Train Epoch: 875/1001. Iter:  428/ 428. Data: 0.116s. alpha: 44. Batch: 0.341s. Loss: 0.0644.: 100%|█| 428/428 [02:25<00:0\n"
     ]
    },
    {
     "name": "stdout",
     "output_type": "stream",
     "text": [
      "global epoch 876 saved\n",
      "Global round: 875 | Average loss: 0.06103134504301804\n",
      "Global Round: 876\n"
     ]
    },
    {
     "name": "stderr",
     "output_type": "stream",
     "text": [
      "Train Epoch: 876/1001. Iter:  428/ 428. Data: 0.117s. alpha: 44. Batch: 0.340s. Loss: 0.0707.: 100%|█| 428/428 [02:24<00:0\n"
     ]
    },
    {
     "name": "stdout",
     "output_type": "stream",
     "text": [
      "Global round: 876 | Average loss: 0.06855237581462503\n",
      "Global Round: 877\n"
     ]
    },
    {
     "name": "stderr",
     "output_type": "stream",
     "text": [
      "Train Epoch: 877/1001. Iter:  428/ 428. Data: 0.112s. alpha: 44. Batch: 0.334s. Loss: 0.0686.: 100%|█| 428/428 [02:22<00:0\n"
     ]
    },
    {
     "name": "stdout",
     "output_type": "stream",
     "text": [
      "Global round: 877 | Average loss: 0.06670974205448249\n",
      "Global Round: 878\n"
     ]
    },
    {
     "name": "stderr",
     "output_type": "stream",
     "text": [
      "Train Epoch: 878/1001. Iter:  428/ 428. Data: 0.116s. alpha: 44. Batch: 0.340s. Loss: 0.0703.: 100%|█| 428/428 [02:25<00:0\n"
     ]
    },
    {
     "name": "stdout",
     "output_type": "stream",
     "text": [
      "Global round: 878 | Average loss: 0.06841348196057795\n",
      "Global Round: 879\n"
     ]
    },
    {
     "name": "stderr",
     "output_type": "stream",
     "text": [
      "Train Epoch: 879/1001. Iter:  428/ 428. Data: 0.111s. alpha: 44. Batch: 0.334s. Loss: 0.0688.: 100%|█| 428/428 [02:22<00:0\n"
     ]
    },
    {
     "name": "stdout",
     "output_type": "stream",
     "text": [
      "Global round: 879 | Average loss: 0.06738303388495033\n",
      "Global Round: 880\n"
     ]
    },
    {
     "name": "stderr",
     "output_type": "stream",
     "text": [
      "Train Epoch: 880/1001. Iter:  428/ 428. Data: 0.116s. alpha: 44. Batch: 0.340s. Loss: 0.0654.: 100%|█| 428/428 [02:25<00:0\n"
     ]
    },
    {
     "name": "stdout",
     "output_type": "stream",
     "text": [
      "global epoch 881 saved\n",
      "Global round: 880 | Average loss: 0.06772000548891097\n",
      "Global Round: 881\n"
     ]
    },
    {
     "name": "stderr",
     "output_type": "stream",
     "text": [
      "Train Epoch: 881/1001. Iter:  428/ 428. Data: 0.119s. alpha: 44. Batch: 0.343s. Loss: 0.0667.: 100%|█| 428/428 [02:25<00:0\n"
     ]
    },
    {
     "name": "stdout",
     "output_type": "stream",
     "text": [
      "Global round: 881 | Average loss: 0.06628408894882859\n",
      "Global Round: 882\n"
     ]
    },
    {
     "name": "stderr",
     "output_type": "stream",
     "text": [
      "Train Epoch: 882/1001. Iter:  428/ 428. Data: 0.113s. alpha: 44. Batch: 0.336s. Loss: 0.0697.: 100%|█| 428/428 [02:23<00:0\n"
     ]
    },
    {
     "name": "stdout",
     "output_type": "stream",
     "text": [
      "Global round: 882 | Average loss: 0.06678889754498116\n",
      "Global Round: 883\n"
     ]
    },
    {
     "name": "stderr",
     "output_type": "stream",
     "text": [
      "Train Epoch: 883/1001. Iter:  428/ 428. Data: 0.112s. alpha: 44. Batch: 0.333s. Loss: 0.0695.: 100%|█| 428/428 [02:22<00:0\n"
     ]
    },
    {
     "name": "stdout",
     "output_type": "stream",
     "text": [
      "Global round: 883 | Average loss: 0.06737353778052553\n",
      "Global Round: 884\n"
     ]
    },
    {
     "name": "stderr",
     "output_type": "stream",
     "text": [
      "Train Epoch: 884/1001. Iter:  428/ 428. Data: 0.113s. alpha: 44. Batch: 0.336s. Loss: 0.0734.: 100%|█| 428/428 [02:23<00:0\n"
     ]
    },
    {
     "name": "stdout",
     "output_type": "stream",
     "text": [
      "Global round: 884 | Average loss: 0.06734002621792187\n",
      "Global Round: 885\n"
     ]
    },
    {
     "name": "stderr",
     "output_type": "stream",
     "text": [
      "Train Epoch: 885/1001. Iter:  428/ 428. Data: 0.114s. alpha: 44. Batch: 0.338s. Loss: 0.0697.: 100%|█| 428/428 [02:24<00:0\n"
     ]
    },
    {
     "name": "stdout",
     "output_type": "stream",
     "text": [
      "global epoch 886 saved\n",
      "Global round: 885 | Average loss: 0.06804715671411185\n",
      "Global Round: 886\n"
     ]
    },
    {
     "name": "stderr",
     "output_type": "stream",
     "text": [
      "Train Epoch: 886/1001. Iter:  428/ 428. Data: 0.116s. alpha: 45. Batch: 0.340s. Loss: 0.0684.: 100%|█| 428/428 [02:24<00:0\n"
     ]
    },
    {
     "name": "stdout",
     "output_type": "stream",
     "text": [
      "Global round: 886 | Average loss: 0.0687529100192206\n",
      "Global Round: 887\n"
     ]
    },
    {
     "name": "stderr",
     "output_type": "stream",
     "text": [
      "Train Epoch: 887/1001. Iter:  428/ 428. Data: 0.115s. alpha: 45. Batch: 0.339s. Loss: 0.0680.: 100%|█| 428/428 [02:25<00:0\n"
     ]
    },
    {
     "name": "stdout",
     "output_type": "stream",
     "text": [
      "Global round: 887 | Average loss: 0.06788054449814503\n",
      "Global Round: 888\n"
     ]
    },
    {
     "name": "stderr",
     "output_type": "stream",
     "text": [
      "Train Epoch: 888/1001. Iter:  428/ 428. Data: 0.115s. alpha: 45. Batch: 0.338s. Loss: 0.0653.: 100%|█| 428/428 [02:24<00:0\n"
     ]
    },
    {
     "name": "stdout",
     "output_type": "stream",
     "text": [
      "Global round: 888 | Average loss: 0.0670434159844696\n",
      "Global Round: 889\n"
     ]
    },
    {
     "name": "stderr",
     "output_type": "stream",
     "text": [
      "Train Epoch: 889/1001. Iter:  428/ 428. Data: 0.116s. alpha: 45. Batch: 0.340s. Loss: 0.0699.: 100%|█| 428/428 [02:25<00:0\n"
     ]
    },
    {
     "name": "stdout",
     "output_type": "stream",
     "text": [
      "Global round: 889 | Average loss: 0.06663963570320439\n",
      "Global Round: 890\n"
     ]
    },
    {
     "name": "stderr",
     "output_type": "stream",
     "text": [
      "Train Epoch: 890/1001. Iter:  428/ 428. Data: 0.114s. alpha: 45. Batch: 0.338s. Loss: 0.0644.: 100%|█| 428/428 [02:24<00:0\n"
     ]
    },
    {
     "name": "stdout",
     "output_type": "stream",
     "text": [
      "global epoch 891 saved\n",
      "Global round: 890 | Average loss: 0.06632584782543584\n",
      "Global Round: 891\n"
     ]
    },
    {
     "name": "stderr",
     "output_type": "stream",
     "text": [
      "Train Epoch: 891/1001. Iter:  428/ 428. Data: 0.117s. alpha: 45. Batch: 0.341s. Loss: 0.0712.: 100%|█| 428/428 [02:24<00:0\n"
     ]
    },
    {
     "name": "stdout",
     "output_type": "stream",
     "text": [
      "Global round: 891 | Average loss: 0.06825827719278146\n",
      "Global Round: 892\n"
     ]
    },
    {
     "name": "stderr",
     "output_type": "stream",
     "text": [
      "Train Epoch: 892/1001. Iter:  428/ 428. Data: 0.115s. alpha: 45. Batch: 0.340s. Loss: 0.0659.: 100%|█| 428/428 [02:25<00:0\n"
     ]
    },
    {
     "name": "stdout",
     "output_type": "stream",
     "text": [
      "Global round: 892 | Average loss: 0.06758192883125533\n",
      "Global Round: 893\n"
     ]
    },
    {
     "name": "stderr",
     "output_type": "stream",
     "text": [
      "Train Epoch: 893/1001. Iter:  428/ 428. Data: 0.114s. alpha: 45. Batch: 0.338s. Loss: 0.0687.: 100%|█| 428/428 [02:24<00:0\n"
     ]
    },
    {
     "name": "stdout",
     "output_type": "stream",
     "text": [
      "Global round: 893 | Average loss: 0.06645162885782317\n",
      "Global Round: 894\n"
     ]
    },
    {
     "name": "stderr",
     "output_type": "stream",
     "text": [
      "Train Epoch: 894/1001. Iter:  428/ 428. Data: 0.115s. alpha: 45. Batch: 0.340s. Loss: 0.0639.: 100%|█| 428/428 [02:25<00:0\n"
     ]
    },
    {
     "name": "stdout",
     "output_type": "stream",
     "text": [
      "Global round: 894 | Average loss: 0.06678528503175372\n",
      "Global Round: 895\n"
     ]
    },
    {
     "name": "stderr",
     "output_type": "stream",
     "text": [
      "Train Epoch: 895/1001. Iter:  428/ 428. Data: 0.114s. alpha: 45. Batch: 0.340s. Loss: 0.0635.: 100%|█| 428/428 [02:25<00:0\n"
     ]
    },
    {
     "name": "stdout",
     "output_type": "stream",
     "text": [
      "global epoch 896 saved\n",
      "Global round: 895 | Average loss: 0.06516340317500528\n",
      "Global Round: 896\n"
     ]
    },
    {
     "name": "stderr",
     "output_type": "stream",
     "text": [
      "Train Epoch: 896/1001. Iter:  428/ 428. Data: 0.117s. alpha: 45. Batch: 0.342s. Loss: 0.0686.: 100%|█| 428/428 [02:25<00:0\n"
     ]
    },
    {
     "name": "stdout",
     "output_type": "stream",
     "text": [
      "Global round: 896 | Average loss: 0.06667038699977587\n",
      "Global Round: 897\n"
     ]
    },
    {
     "name": "stderr",
     "output_type": "stream",
     "text": [
      "Train Epoch: 897/1001. Iter:  428/ 428. Data: 0.116s. alpha: 45. Batch: 0.344s. Loss: 0.0765.: 100%|█| 428/428 [02:27<00:0\n"
     ]
    },
    {
     "name": "stdout",
     "output_type": "stream",
     "text": [
      "Global round: 897 | Average loss: 0.06680372260754631\n",
      "Global Round: 898\n"
     ]
    },
    {
     "name": "stderr",
     "output_type": "stream",
     "text": [
      "Train Epoch: 898/1001. Iter:  428/ 428. Data: 0.115s. alpha: 45. Batch: 0.339s. Loss: 0.0727.: 100%|█| 428/428 [02:25<00:0\n"
     ]
    },
    {
     "name": "stdout",
     "output_type": "stream",
     "text": [
      "Global round: 898 | Average loss: 0.06761452394633372\n",
      "Global Round: 899\n"
     ]
    },
    {
     "name": "stderr",
     "output_type": "stream",
     "text": [
      "Train Epoch: 899/1001. Iter:  428/ 428. Data: 0.116s. alpha: 45. Batch: 0.343s. Loss: 0.0659.: 100%|█| 428/428 [02:26<00:0\n"
     ]
    },
    {
     "name": "stdout",
     "output_type": "stream",
     "text": [
      "Global round: 899 | Average loss: 0.06661033675631631\n",
      "Global Round: 900\n"
     ]
    },
    {
     "name": "stderr",
     "output_type": "stream",
     "text": [
      "Train Epoch: 900/1001. Iter:  428/ 428. Data: 0.115s. alpha: 45. Batch: 0.340s. Loss: 0.0658.: 100%|█| 428/428 [02:25<00:0\n"
     ]
    },
    {
     "name": "stdout",
     "output_type": "stream",
     "text": [
      "global epoch 901 saved\n",
      "Global round: 900 | Average loss: 0.06628853145325295\n",
      "Global Round: 901\n"
     ]
    },
    {
     "name": "stderr",
     "output_type": "stream",
     "text": [
      "Train Epoch: 901/1001. Iter:  428/ 428. Data: 0.120s. alpha: 45. Batch: 0.345s. Loss: 0.0733.: 100%|█| 428/428 [02:26<00:0\n"
     ]
    },
    {
     "name": "stdout",
     "output_type": "stream",
     "text": [
      "Global round: 901 | Average loss: 0.06696103113729542\n",
      "Global Round: 902\n"
     ]
    },
    {
     "name": "stderr",
     "output_type": "stream",
     "text": [
      "Train Epoch: 902/1001. Iter:  428/ 428. Data: 0.115s. alpha: 45. Batch: 0.341s. Loss: 0.0630.: 100%|█| 428/428 [02:25<00:0\n"
     ]
    },
    {
     "name": "stdout",
     "output_type": "stream",
     "text": [
      "Global round: 902 | Average loss: 0.06540696149709348\n",
      "Global Round: 903\n"
     ]
    },
    {
     "name": "stderr",
     "output_type": "stream",
     "text": [
      "Train Epoch: 903/1001. Iter:  428/ 428. Data: 0.112s. alpha: 45. Batch: 0.334s. Loss: 0.0674.: 100%|█| 428/428 [02:23<00:0\n"
     ]
    },
    {
     "name": "stdout",
     "output_type": "stream",
     "text": [
      "Global round: 903 | Average loss: 0.06575790613402273\n",
      "Global Round: 904\n"
     ]
    },
    {
     "name": "stderr",
     "output_type": "stream",
     "text": [
      "Train Epoch: 904/1001. Iter:  428/ 428. Data: 0.115s. alpha: 45. Batch: 0.340s. Loss: 0.0663.: 100%|█| 428/428 [02:25<00:0\n"
     ]
    },
    {
     "name": "stdout",
     "output_type": "stream",
     "text": [
      "Global round: 904 | Average loss: 0.06647020359044876\n",
      "Global Round: 905\n"
     ]
    },
    {
     "name": "stderr",
     "output_type": "stream",
     "text": [
      "Train Epoch: 905/1001. Iter:  428/ 428. Data: 0.118s. alpha: 45. Batch: 0.343s. Loss: 0.0693.: 100%|█| 428/428 [02:26<00:0\n"
     ]
    },
    {
     "name": "stdout",
     "output_type": "stream",
     "text": [
      "global epoch 906 saved\n",
      "Global round: 905 | Average loss: 0.06783574286883122\n",
      "Global Round: 906\n"
     ]
    },
    {
     "name": "stderr",
     "output_type": "stream",
     "text": [
      "Train Epoch: 906/1001. Iter:  428/ 428. Data: 0.115s. alpha: 45. Batch: 0.338s. Loss: 0.0673.: 100%|█| 428/428 [02:23<00:0\n"
     ]
    },
    {
     "name": "stdout",
     "output_type": "stream",
     "text": [
      "Global round: 906 | Average loss: 0.06759162132288808\n",
      "Global Round: 907\n"
     ]
    },
    {
     "name": "stderr",
     "output_type": "stream",
     "text": [
      "Train Epoch: 907/1001. Iter:  428/ 428. Data: 0.112s. alpha: 46. Batch: 0.335s. Loss: 0.0663.: 100%|█| 428/428 [02:23<00:0\n"
     ]
    },
    {
     "name": "stdout",
     "output_type": "stream",
     "text": [
      "Global round: 907 | Average loss: 0.06605472973608803\n",
      "Global Round: 908\n"
     ]
    },
    {
     "name": "stderr",
     "output_type": "stream",
     "text": [
      "Train Epoch: 908/1001. Iter:  428/ 428. Data: 0.113s. alpha: 46. Batch: 0.338s. Loss: 0.0718.: 100%|█| 428/428 [02:24<00:0\n"
     ]
    },
    {
     "name": "stdout",
     "output_type": "stream",
     "text": [
      "Global round: 908 | Average loss: 0.06632336766119594\n",
      "Global Round: 909\n"
     ]
    },
    {
     "name": "stderr",
     "output_type": "stream",
     "text": [
      "Train Epoch: 909/1001. Iter:  428/ 428. Data: 0.113s. alpha: 46. Batch: 0.338s. Loss: 0.0635.: 100%|█| 428/428 [02:24<00:0\n"
     ]
    },
    {
     "name": "stdout",
     "output_type": "stream",
     "text": [
      "Global round: 909 | Average loss: 0.06567617612847379\n",
      "Global Round: 910\n"
     ]
    },
    {
     "name": "stderr",
     "output_type": "stream",
     "text": [
      "Train Epoch: 910/1001. Iter:  428/ 428. Data: 0.114s. alpha: 46. Batch: 0.339s. Loss: 0.0659.: 100%|█| 428/428 [02:24<00:0\n"
     ]
    },
    {
     "name": "stdout",
     "output_type": "stream",
     "text": [
      "global epoch 911 saved\n",
      "Global round: 910 | Average loss: 0.06331291353486687\n",
      "Global Round: 911\n"
     ]
    },
    {
     "name": "stderr",
     "output_type": "stream",
     "text": [
      "Train Epoch: 911/1001. Iter:  428/ 428. Data: 0.117s. alpha: 46. Batch: 0.341s. Loss: 0.0725.: 100%|█| 428/428 [02:25<00:0\n"
     ]
    },
    {
     "name": "stdout",
     "output_type": "stream",
     "text": [
      "Global round: 911 | Average loss: 0.06513317374982566\n",
      "Global Round: 912\n"
     ]
    },
    {
     "name": "stderr",
     "output_type": "stream",
     "text": [
      "Train Epoch: 912/1001. Iter:  428/ 428. Data: 0.116s. alpha: 46. Batch: 0.342s. Loss: 0.0437.: 100%|█| 428/428 [02:26<00:0\n"
     ]
    },
    {
     "name": "stdout",
     "output_type": "stream",
     "text": [
      "Global round: 912 | Average loss: 0.05754960855799858\n",
      "Global Round: 913\n"
     ]
    },
    {
     "name": "stderr",
     "output_type": "stream",
     "text": [
      "Train Epoch: 913/1001. Iter:  428/ 428. Data: 0.114s. alpha: 46. Batch: 0.338s. Loss: 0.0542.: 100%|█| 428/428 [02:24<00:0\n"
     ]
    },
    {
     "name": "stdout",
     "output_type": "stream",
     "text": [
      "Global round: 913 | Average loss: 0.056519025962834604\n",
      "Global Round: 914\n"
     ]
    },
    {
     "name": "stderr",
     "output_type": "stream",
     "text": [
      "Train Epoch: 914/1001. Iter:  428/ 428. Data: 0.115s. alpha: 46. Batch: 0.340s. Loss: 0.0548.: 100%|█| 428/428 [02:25<00:0\n"
     ]
    },
    {
     "name": "stdout",
     "output_type": "stream",
     "text": [
      "Global round: 914 | Average loss: 0.055566106957740315\n",
      "Global Round: 915\n"
     ]
    },
    {
     "name": "stderr",
     "output_type": "stream",
     "text": [
      "Train Epoch: 915/1001. Iter:  428/ 428. Data: 0.116s. alpha: 46. Batch: 0.341s. Loss: 0.0481.: 100%|█| 428/428 [02:25<00:0\n"
     ]
    },
    {
     "name": "stdout",
     "output_type": "stream",
     "text": [
      "global epoch 916 saved\n",
      "Global round: 915 | Average loss: 0.05266528399051907\n",
      "Global Round: 916\n"
     ]
    },
    {
     "name": "stderr",
     "output_type": "stream",
     "text": [
      "Train Epoch: 916/1001. Iter:  428/ 428. Data: 0.117s. alpha: 46. Batch: 0.342s. Loss: 0.0499.: 100%|█| 428/428 [02:25<00:0\n"
     ]
    },
    {
     "name": "stdout",
     "output_type": "stream",
     "text": [
      "Global round: 916 | Average loss: 0.04954237517874653\n",
      "Global Round: 917\n"
     ]
    },
    {
     "name": "stderr",
     "output_type": "stream",
     "text": [
      "Train Epoch: 917/1001. Iter:  428/ 428. Data: 0.115s. alpha: 46. Batch: 0.340s. Loss: 0.0471.: 100%|█| 428/428 [02:25<00:0\n"
     ]
    },
    {
     "name": "stdout",
     "output_type": "stream",
     "text": [
      "Global round: 917 | Average loss: 0.048635825105707776\n",
      "Global Round: 918\n"
     ]
    },
    {
     "name": "stderr",
     "output_type": "stream",
     "text": [
      "Train Epoch: 918/1001. Iter:  428/ 428. Data: 0.114s. alpha: 46. Batch: 0.338s. Loss: 0.0544.: 100%|█| 428/428 [02:24<00:0\n"
     ]
    },
    {
     "name": "stdout",
     "output_type": "stream",
     "text": [
      "Global round: 918 | Average loss: 0.04846834938833925\n",
      "Global Round: 919\n"
     ]
    },
    {
     "name": "stderr",
     "output_type": "stream",
     "text": [
      "Train Epoch: 919/1001. Iter:  428/ 428. Data: 0.116s. alpha: 46. Batch: 0.340s. Loss: 0.0339.: 100%|█| 428/428 [02:25<00:0\n"
     ]
    },
    {
     "name": "stdout",
     "output_type": "stream",
     "text": [
      "Global round: 919 | Average loss: 0.04592537600547075\n",
      "Global Round: 920\n"
     ]
    },
    {
     "name": "stderr",
     "output_type": "stream",
     "text": [
      "Train Epoch: 920/1001. Iter:  428/ 428. Data: 0.114s. alpha: 46. Batch: 0.338s. Loss: 0.0568.: 100%|█| 428/428 [02:24<00:0\n"
     ]
    },
    {
     "name": "stdout",
     "output_type": "stream",
     "text": [
      "global epoch 921 saved\n",
      "Global round: 920 | Average loss: 0.04730127075095182\n",
      "Global Round: 921\n"
     ]
    },
    {
     "name": "stderr",
     "output_type": "stream",
     "text": [
      "Train Epoch: 921/1001. Iter:  428/ 428. Data: 0.117s. alpha: 46. Batch: 0.342s. Loss: 0.0455.: 100%|█| 428/428 [02:25<00:0\n"
     ]
    },
    {
     "name": "stdout",
     "output_type": "stream",
     "text": [
      "Global round: 921 | Average loss: 0.04821066114024442\n",
      "Global Round: 922\n"
     ]
    },
    {
     "name": "stderr",
     "output_type": "stream",
     "text": [
      "Train Epoch: 922/1001. Iter:  428/ 428. Data: 0.114s. alpha: 46. Batch: 0.339s. Loss: 0.0411.: 100%|█| 428/428 [02:24<00:0\n"
     ]
    },
    {
     "name": "stdout",
     "output_type": "stream",
     "text": [
      "Global round: 922 | Average loss: 0.04762922729600534\n",
      "Global Round: 923\n"
     ]
    },
    {
     "name": "stderr",
     "output_type": "stream",
     "text": [
      "Train Epoch: 923/1001. Iter:  428/ 428. Data: 0.117s. alpha: 46. Batch: 0.343s. Loss: 0.0295.: 100%|█| 428/428 [02:26<00:0\n"
     ]
    },
    {
     "name": "stdout",
     "output_type": "stream",
     "text": [
      "Global round: 923 | Average loss: 0.04569981365560371\n",
      "Global Round: 924\n"
     ]
    },
    {
     "name": "stderr",
     "output_type": "stream",
     "text": [
      "Train Epoch: 924/1001. Iter:  428/ 428. Data: 0.115s. alpha: 46. Batch: 0.340s. Loss: 0.0474.: 100%|█| 428/428 [02:25<00:0\n"
     ]
    },
    {
     "name": "stdout",
     "output_type": "stream",
     "text": [
      "Global round: 924 | Average loss: 0.04710473487084018\n",
      "Global Round: 925\n"
     ]
    },
    {
     "name": "stderr",
     "output_type": "stream",
     "text": [
      "Train Epoch: 925/1001. Iter:  428/ 428. Data: 0.115s. alpha: 46. Batch: 0.341s. Loss: 0.0353.: 100%|█| 428/428 [02:25<00:0\n"
     ]
    },
    {
     "name": "stdout",
     "output_type": "stream",
     "text": [
      "global epoch 926 saved\n",
      "Global round: 925 | Average loss: 0.04591248883369649\n",
      "Global Round: 926\n"
     ]
    },
    {
     "name": "stderr",
     "output_type": "stream",
     "text": [
      "Train Epoch: 926/1001. Iter:  428/ 428. Data: 0.116s. alpha: 46. Batch: 0.341s. Loss: 0.0487.: 100%|█| 428/428 [02:24<00:0\n"
     ]
    },
    {
     "name": "stdout",
     "output_type": "stream",
     "text": [
      "Global round: 926 | Average loss: 0.044038931538881824\n",
      "Global Round: 927\n"
     ]
    },
    {
     "name": "stderr",
     "output_type": "stream",
     "text": [
      "Train Epoch: 927/1001. Iter:  428/ 428. Data: 0.112s. alpha: 46. Batch: 0.337s. Loss: 0.0365.: 100%|█| 428/428 [02:24<00:0\n"
     ]
    },
    {
     "name": "stdout",
     "output_type": "stream",
     "text": [
      "Global round: 927 | Average loss: 0.045285698683566855\n",
      "Global Round: 928\n"
     ]
    },
    {
     "name": "stderr",
     "output_type": "stream",
     "text": [
      "Train Epoch: 928/1001. Iter:  428/ 428. Data: 0.115s. alpha: 47. Batch: 0.340s. Loss: 0.0505.: 100%|█| 428/428 [02:25<00:0\n"
     ]
    },
    {
     "name": "stdout",
     "output_type": "stream",
     "text": [
      "Global round: 928 | Average loss: 0.04944603525049915\n",
      "Global Round: 929\n"
     ]
    },
    {
     "name": "stderr",
     "output_type": "stream",
     "text": [
      "Train Epoch: 929/1001. Iter:  428/ 428. Data: 0.117s. alpha: 47. Batch: 0.342s. Loss: 0.0493.: 100%|█| 428/428 [02:26<00:0\n"
     ]
    },
    {
     "name": "stdout",
     "output_type": "stream",
     "text": [
      "Global round: 929 | Average loss: 0.05087758299990374\n",
      "Global Round: 930\n"
     ]
    },
    {
     "name": "stderr",
     "output_type": "stream",
     "text": [
      "Train Epoch: 930/1001. Iter:  428/ 428. Data: 0.114s. alpha: 47. Batch: 0.338s. Loss: 0.0480.: 100%|█| 428/428 [02:24<00:0\n"
     ]
    },
    {
     "name": "stdout",
     "output_type": "stream",
     "text": [
      "global epoch 931 saved\n",
      "Global round: 930 | Average loss: 0.04792980579485264\n",
      "Global Round: 931\n"
     ]
    },
    {
     "name": "stderr",
     "output_type": "stream",
     "text": [
      "Train Epoch: 931/1001. Iter:  428/ 428. Data: 0.117s. alpha: 47. Batch: 0.340s. Loss: 0.0429.: 100%|█| 428/428 [02:24<00:0\n"
     ]
    },
    {
     "name": "stdout",
     "output_type": "stream",
     "text": [
      "Global round: 931 | Average loss: 0.04790374443422411\n",
      "Global Round: 932\n"
     ]
    },
    {
     "name": "stderr",
     "output_type": "stream",
     "text": [
      "Train Epoch: 932/1001. Iter:  428/ 428. Data: 0.113s. alpha: 47. Batch: 0.339s. Loss: 0.0395.: 100%|█| 428/428 [02:24<00:0\n"
     ]
    },
    {
     "name": "stdout",
     "output_type": "stream",
     "text": [
      "Global round: 932 | Average loss: 0.04653025877653299\n",
      "Global Round: 933\n"
     ]
    },
    {
     "name": "stderr",
     "output_type": "stream",
     "text": [
      "Train Epoch: 933/1001. Iter:  428/ 428. Data: 0.113s. alpha: 47. Batch: 0.336s. Loss: 0.0457.: 100%|█| 428/428 [02:23<00:0\n"
     ]
    },
    {
     "name": "stdout",
     "output_type": "stream",
     "text": [
      "Global round: 933 | Average loss: 0.04612579170579665\n",
      "Global Round: 934\n"
     ]
    },
    {
     "name": "stderr",
     "output_type": "stream",
     "text": [
      "Train Epoch: 934/1001. Iter:  428/ 428. Data: 0.116s. alpha: 47. Batch: 0.341s. Loss: 0.0481.: 100%|█| 428/428 [02:25<00:0\n"
     ]
    },
    {
     "name": "stdout",
     "output_type": "stream",
     "text": [
      "Global round: 934 | Average loss: 0.047371272276216576\n",
      "Global Round: 935\n"
     ]
    },
    {
     "name": "stderr",
     "output_type": "stream",
     "text": [
      "Train Epoch: 935/1001. Iter:  428/ 428. Data: 0.112s. alpha: 47. Batch: 0.336s. Loss: 0.0443.: 100%|█| 428/428 [02:23<00:0\n"
     ]
    },
    {
     "name": "stdout",
     "output_type": "stream",
     "text": [
      "global epoch 936 saved\n",
      "Global round: 935 | Average loss: 0.04534064642388687\n",
      "Global Round: 936\n"
     ]
    },
    {
     "name": "stderr",
     "output_type": "stream",
     "text": [
      "Train Epoch: 936/1001. Iter:  428/ 428. Data: 0.117s. alpha: 47. Batch: 0.342s. Loss: 0.0483.: 100%|█| 428/428 [02:25<00:0\n"
     ]
    },
    {
     "name": "stdout",
     "output_type": "stream",
     "text": [
      "Global round: 936 | Average loss: 0.04358934165439873\n",
      "Global Round: 937\n"
     ]
    },
    {
     "name": "stderr",
     "output_type": "stream",
     "text": [
      "Train Epoch: 937/1001. Iter:  428/ 428. Data: 0.113s. alpha: 47. Batch: 0.336s. Loss: 0.0430.: 100%|█| 428/428 [02:23<00:0\n"
     ]
    },
    {
     "name": "stdout",
     "output_type": "stream",
     "text": [
      "Global round: 937 | Average loss: 0.04438006483610267\n",
      "Global Round: 938\n"
     ]
    },
    {
     "name": "stderr",
     "output_type": "stream",
     "text": [
      "Train Epoch: 938/1001. Iter:  428/ 428. Data: 0.115s. alpha: 47. Batch: 0.340s. Loss: 0.0538.: 100%|█| 428/428 [02:25<00:0\n"
     ]
    },
    {
     "name": "stdout",
     "output_type": "stream",
     "text": [
      "Global round: 938 | Average loss: 0.0450442971130746\n",
      "Global Round: 939\n"
     ]
    },
    {
     "name": "stderr",
     "output_type": "stream",
     "text": [
      "Train Epoch: 939/1001. Iter:  428/ 428. Data: 0.115s. alpha: 47. Batch: 0.340s. Loss: 0.0425.: 100%|█| 428/428 [02:25<00:0\n"
     ]
    },
    {
     "name": "stdout",
     "output_type": "stream",
     "text": [
      "Global round: 939 | Average loss: 0.044007026420679884\n",
      "Global Round: 940\n"
     ]
    },
    {
     "name": "stderr",
     "output_type": "stream",
     "text": [
      "Train Epoch: 940/1001. Iter:  428/ 428. Data: 0.115s. alpha: 47. Batch: 0.339s. Loss: 0.0409.: 100%|█| 428/428 [02:24<00:0\n"
     ]
    },
    {
     "name": "stdout",
     "output_type": "stream",
     "text": [
      "global epoch 941 saved\n",
      "Global round: 940 | Average loss: 0.04340808676712424\n",
      "Global Round: 941\n"
     ]
    },
    {
     "name": "stderr",
     "output_type": "stream",
     "text": [
      "Train Epoch: 941/1001. Iter:  428/ 428. Data: 0.119s. alpha: 47. Batch: 0.345s. Loss: 0.0477.: 100%|█| 428/428 [02:26<00:0\n"
     ]
    },
    {
     "name": "stdout",
     "output_type": "stream",
     "text": [
      "Global round: 941 | Average loss: 0.04413364677054581\n",
      "Global Round: 942\n"
     ]
    },
    {
     "name": "stderr",
     "output_type": "stream",
     "text": [
      "Train Epoch: 942/1001. Iter:  428/ 428. Data: 0.114s. alpha: 47. Batch: 0.338s. Loss: 0.0446.: 100%|█| 428/428 [02:24<00:0\n"
     ]
    },
    {
     "name": "stdout",
     "output_type": "stream",
     "text": [
      "Global round: 942 | Average loss: 0.044125496135659026\n",
      "Global Round: 943\n"
     ]
    },
    {
     "name": "stderr",
     "output_type": "stream",
     "text": [
      "Train Epoch: 943/1001. Iter:  428/ 428. Data: 0.114s. alpha: 47. Batch: 0.339s. Loss: 0.0595.: 100%|█| 428/428 [02:25<00:0\n"
     ]
    },
    {
     "name": "stdout",
     "output_type": "stream",
     "text": [
      "Global round: 943 | Average loss: 0.04355089235441568\n",
      "Global Round: 944\n"
     ]
    },
    {
     "name": "stderr",
     "output_type": "stream",
     "text": [
      "Train Epoch: 944/1001. Iter:  428/ 428. Data: 0.114s. alpha: 47. Batch: 0.338s. Loss: 0.0412.: 100%|█| 428/428 [02:24<00:0\n"
     ]
    },
    {
     "name": "stdout",
     "output_type": "stream",
     "text": [
      "Global round: 944 | Average loss: 0.042418400021531036\n",
      "Global Round: 945\n"
     ]
    },
    {
     "name": "stderr",
     "output_type": "stream",
     "text": [
      "Train Epoch: 945/1001. Iter:  428/ 428. Data: 0.113s. alpha: 47. Batch: 0.339s. Loss: 0.0384.: 100%|█| 428/428 [02:24<00:0\n"
     ]
    },
    {
     "name": "stdout",
     "output_type": "stream",
     "text": [
      "global epoch 946 saved\n",
      "Global round: 945 | Average loss: 0.0418494428272977\n",
      "Global Round: 946\n"
     ]
    },
    {
     "name": "stderr",
     "output_type": "stream",
     "text": [
      "Train Epoch: 946/1001. Iter:  428/ 428. Data: 0.117s. alpha: 47. Batch: 0.343s. Loss: 0.0506.: 100%|█| 428/428 [02:25<00:0\n"
     ]
    },
    {
     "name": "stdout",
     "output_type": "stream",
     "text": [
      "Global round: 946 | Average loss: 0.04300511537868286\n",
      "Global Round: 947\n"
     ]
    },
    {
     "name": "stderr",
     "output_type": "stream",
     "text": [
      "Train Epoch: 947/1001. Iter:  428/ 428. Data: 0.113s. alpha: 47. Batch: 0.336s. Loss: 0.0439.: 100%|█| 428/428 [02:23<00:0\n"
     ]
    },
    {
     "name": "stdout",
     "output_type": "stream",
     "text": [
      "Global round: 947 | Average loss: 0.04395147285067311\n",
      "Global Round: 948\n"
     ]
    },
    {
     "name": "stderr",
     "output_type": "stream",
     "text": [
      "Train Epoch: 948/1001. Iter:  428/ 428. Data: 0.114s. alpha: 48. Batch: 0.338s. Loss: 0.0501.: 100%|█| 428/428 [02:24<00:0\n"
     ]
    },
    {
     "name": "stdout",
     "output_type": "stream",
     "text": [
      "Global round: 948 | Average loss: 0.04248579659838682\n",
      "Global Round: 949\n"
     ]
    },
    {
     "name": "stderr",
     "output_type": "stream",
     "text": [
      "Train Epoch: 949/1001. Iter:  428/ 428. Data: 0.114s. alpha: 48. Batch: 0.338s. Loss: 0.0444.: 100%|█| 428/428 [02:24<00:0\n"
     ]
    },
    {
     "name": "stdout",
     "output_type": "stream",
     "text": [
      "Global round: 949 | Average loss: 0.04222388482417598\n",
      "Global Round: 950\n"
     ]
    },
    {
     "name": "stderr",
     "output_type": "stream",
     "text": [
      "Train Epoch: 950/1001. Iter:  428/ 428. Data: 0.114s. alpha: 48. Batch: 0.338s. Loss: 0.0425.: 100%|█| 428/428 [02:24<00:0\n"
     ]
    },
    {
     "name": "stdout",
     "output_type": "stream",
     "text": [
      "global epoch 951 saved\n",
      "Global round: 950 | Average loss: 0.0420153669830168\n",
      "Global Round: 951\n"
     ]
    },
    {
     "name": "stderr",
     "output_type": "stream",
     "text": [
      "Train Epoch: 951/1001. Iter:  428/ 428. Data: 0.117s. alpha: 48. Batch: 0.342s. Loss: 0.0313.: 100%|█| 428/428 [02:25<00:0\n"
     ]
    },
    {
     "name": "stdout",
     "output_type": "stream",
     "text": [
      "Global round: 951 | Average loss: 0.04295063692919701\n",
      "Global Round: 952\n"
     ]
    },
    {
     "name": "stderr",
     "output_type": "stream",
     "text": [
      "Train Epoch: 952/1001. Iter:  428/ 428. Data: 0.114s. alpha: 48. Batch: 0.338s. Loss: 0.0434.: 100%|█| 428/428 [02:24<00:0\n"
     ]
    },
    {
     "name": "stdout",
     "output_type": "stream",
     "text": [
      "Global round: 952 | Average loss: 0.043155997856650676\n",
      "Global Round: 953\n"
     ]
    },
    {
     "name": "stderr",
     "output_type": "stream",
     "text": [
      "Train Epoch: 953/1001. Iter:  428/ 428. Data: 0.109s. alpha: 48. Batch: 0.329s. Loss: 0.0370.: 100%|█| 428/428 [02:20<00:0\n"
     ]
    },
    {
     "name": "stdout",
     "output_type": "stream",
     "text": [
      "Global round: 953 | Average loss: 0.04211094425817099\n",
      "Global Round: 954\n"
     ]
    },
    {
     "name": "stderr",
     "output_type": "stream",
     "text": [
      "Train Epoch: 954/1001. Iter:  428/ 428. Data: 0.112s. alpha: 48. Batch: 0.335s. Loss: 0.0379.: 100%|█| 428/428 [02:23<00:0\n"
     ]
    },
    {
     "name": "stdout",
     "output_type": "stream",
     "text": [
      "Global round: 954 | Average loss: 0.04236034650755959\n",
      "Global Round: 955\n"
     ]
    },
    {
     "name": "stderr",
     "output_type": "stream",
     "text": [
      "Train Epoch: 955/1001. Iter:  428/ 428. Data: 0.116s. alpha: 48. Batch: 0.341s. Loss: 0.0455.: 100%|█| 428/428 [02:25<00:0\n"
     ]
    },
    {
     "name": "stdout",
     "output_type": "stream",
     "text": [
      "global epoch 956 saved\n",
      "Global round: 955 | Average loss: 0.04142546215503712\n",
      "Global Round: 956\n"
     ]
    },
    {
     "name": "stderr",
     "output_type": "stream",
     "text": [
      "Train Epoch: 956/1001. Iter:  428/ 428. Data: 0.118s. alpha: 48. Batch: 0.344s. Loss: 0.0476.: 100%|█| 428/428 [02:26<00:0\n"
     ]
    },
    {
     "name": "stdout",
     "output_type": "stream",
     "text": [
      "Global round: 956 | Average loss: 0.042087785573241034\n",
      "Global Round: 957\n"
     ]
    },
    {
     "name": "stderr",
     "output_type": "stream",
     "text": [
      "Train Epoch: 957/1001. Iter:  428/ 428. Data: 0.114s. alpha: 48. Batch: 0.337s. Loss: 0.0517.: 100%|█| 428/428 [02:24<00:0\n"
     ]
    },
    {
     "name": "stdout",
     "output_type": "stream",
     "text": [
      "Global round: 957 | Average loss: 0.04226018093247837\n",
      "Global Round: 958\n"
     ]
    },
    {
     "name": "stderr",
     "output_type": "stream",
     "text": [
      "Train Epoch: 958/1001. Iter:  428/ 428. Data: 0.113s. alpha: 48. Batch: 0.337s. Loss: 0.0369.: 100%|█| 428/428 [02:24<00:0\n"
     ]
    },
    {
     "name": "stdout",
     "output_type": "stream",
     "text": [
      "Global round: 958 | Average loss: 0.04227911768411504\n",
      "Global Round: 959\n"
     ]
    },
    {
     "name": "stderr",
     "output_type": "stream",
     "text": [
      "Train Epoch: 959/1001. Iter:  428/ 428. Data: 0.113s. alpha: 48. Batch: 0.338s. Loss: 0.0491.: 100%|█| 428/428 [02:24<00:0\n"
     ]
    },
    {
     "name": "stdout",
     "output_type": "stream",
     "text": [
      "Global round: 959 | Average loss: 0.04242045595963424\n",
      "Global Round: 960\n"
     ]
    },
    {
     "name": "stderr",
     "output_type": "stream",
     "text": [
      "Train Epoch: 960/1001. Iter:  428/ 428. Data: 0.114s. alpha: 48. Batch: 0.339s. Loss: 0.0448.: 100%|█| 428/428 [02:24<00:0\n"
     ]
    },
    {
     "name": "stdout",
     "output_type": "stream",
     "text": [
      "global epoch 961 saved\n",
      "Global round: 960 | Average loss: 0.04208980866699157\n",
      "Global Round: 961\n"
     ]
    },
    {
     "name": "stderr",
     "output_type": "stream",
     "text": [
      "Train Epoch: 961/1001. Iter:  428/ 428. Data: 0.114s. alpha: 48. Batch: 0.338s. Loss: 0.0342.: 100%|█| 428/428 [02:23<00:0\n"
     ]
    },
    {
     "name": "stdout",
     "output_type": "stream",
     "text": [
      "Global round: 961 | Average loss: 0.040746441463478535\n",
      "Global Round: 962\n"
     ]
    },
    {
     "name": "stderr",
     "output_type": "stream",
     "text": [
      "Train Epoch: 962/1001. Iter:  428/ 428. Data: 0.113s. alpha: 48. Batch: 0.338s. Loss: 0.0394.: 100%|█| 428/428 [02:24<00:0\n"
     ]
    },
    {
     "name": "stdout",
     "output_type": "stream",
     "text": [
      "Global round: 962 | Average loss: 0.0408304422205993\n",
      "Global Round: 963\n"
     ]
    },
    {
     "name": "stderr",
     "output_type": "stream",
     "text": [
      "Train Epoch: 963/1001. Iter:  428/ 428. Data: 0.113s. alpha: 48. Batch: 0.337s. Loss: 0.0377.: 100%|█| 428/428 [02:24<00:0\n"
     ]
    },
    {
     "name": "stdout",
     "output_type": "stream",
     "text": [
      "Global round: 963 | Average loss: 0.04024235861567415\n",
      "Global Round: 964\n"
     ]
    },
    {
     "name": "stderr",
     "output_type": "stream",
     "text": [
      "Train Epoch: 964/1001. Iter:  428/ 428. Data: 0.112s. alpha: 48. Batch: 0.336s. Loss: 0.0368.: 100%|█| 428/428 [02:23<00:0\n"
     ]
    },
    {
     "name": "stdout",
     "output_type": "stream",
     "text": [
      "Global round: 964 | Average loss: 0.03932756345249086\n",
      "Global Round: 965\n"
     ]
    },
    {
     "name": "stderr",
     "output_type": "stream",
     "text": [
      "Train Epoch: 965/1001. Iter:  428/ 428. Data: 0.114s. alpha: 48. Batch: 0.338s. Loss: 0.0371.: 100%|█| 428/428 [02:24<00:0\n"
     ]
    },
    {
     "name": "stdout",
     "output_type": "stream",
     "text": [
      "global epoch 966 saved\n",
      "Global round: 965 | Average loss: 0.039168340184456\n",
      "Global Round: 966\n"
     ]
    },
    {
     "name": "stderr",
     "output_type": "stream",
     "text": [
      "Train Epoch: 966/1001. Iter:  428/ 428. Data: 0.115s. alpha: 48. Batch: 0.338s. Loss: 0.0427.: 100%|█| 428/428 [02:23<00:0\n"
     ]
    },
    {
     "name": "stdout",
     "output_type": "stream",
     "text": [
      "Global round: 966 | Average loss: 0.03959157536345943\n",
      "Global Round: 967\n"
     ]
    },
    {
     "name": "stderr",
     "output_type": "stream",
     "text": [
      "Train Epoch: 967/1001. Iter:  428/ 428. Data: 0.109s. alpha: 48. Batch: 0.332s. Loss: 0.0375.: 100%|█| 428/428 [02:21<00:0\n"
     ]
    },
    {
     "name": "stdout",
     "output_type": "stream",
     "text": [
      "Global round: 967 | Average loss: 0.039218947730923645\n",
      "Global Round: 968\n"
     ]
    },
    {
     "name": "stderr",
     "output_type": "stream",
     "text": [
      "Train Epoch: 968/1001. Iter:  428/ 428. Data: 0.114s. alpha: 48. Batch: 0.338s. Loss: 0.0396.: 100%|█| 428/428 [02:24<00:0\n"
     ]
    },
    {
     "name": "stdout",
     "output_type": "stream",
     "text": [
      "Global round: 968 | Average loss: 0.03940557952639516\n",
      "Global Round: 969\n"
     ]
    },
    {
     "name": "stderr",
     "output_type": "stream",
     "text": [
      "Train Epoch: 969/1001. Iter:  428/ 428. Data: 0.116s. alpha: 49. Batch: 0.340s. Loss: 0.0290.: 100%|█| 428/428 [02:25<00:0\n"
     ]
    },
    {
     "name": "stdout",
     "output_type": "stream",
     "text": [
      "Global round: 969 | Average loss: 0.0401701626028413\n",
      "Global Round: 970\n"
     ]
    },
    {
     "name": "stderr",
     "output_type": "stream",
     "text": [
      "Train Epoch: 970/1001. Iter:  428/ 428. Data: 0.115s. alpha: 49. Batch: 0.339s. Loss: 0.0383.: 100%|█| 428/428 [02:25<00:0\n"
     ]
    },
    {
     "name": "stdout",
     "output_type": "stream",
     "text": [
      "global epoch 971 saved\n",
      "Global round: 970 | Average loss: 0.03953110990245069\n",
      "Global Round: 971\n"
     ]
    },
    {
     "name": "stderr",
     "output_type": "stream",
     "text": [
      "Train Epoch: 971/1001. Iter:  428/ 428. Data: 0.114s. alpha: 49. Batch: 0.337s. Loss: 0.0495.: 100%|█| 428/428 [02:23<00:0\n"
     ]
    },
    {
     "name": "stdout",
     "output_type": "stream",
     "text": [
      "Global round: 971 | Average loss: 0.03970235375966007\n",
      "Global Round: 972\n"
     ]
    },
    {
     "name": "stderr",
     "output_type": "stream",
     "text": [
      "Train Epoch: 972/1001. Iter:  428/ 428. Data: 0.115s. alpha: 49. Batch: 0.340s. Loss: 0.0284.: 100%|█| 428/428 [02:25<00:0\n"
     ]
    },
    {
     "name": "stdout",
     "output_type": "stream",
     "text": [
      "Global round: 972 | Average loss: 0.039823989497027666\n",
      "Global Round: 973\n"
     ]
    },
    {
     "name": "stderr",
     "output_type": "stream",
     "text": [
      "Train Epoch: 973/1001. Iter:  428/ 428. Data: 0.113s. alpha: 49. Batch: 0.337s. Loss: 0.0369.: 100%|█| 428/428 [02:24<00:0\n"
     ]
    },
    {
     "name": "stdout",
     "output_type": "stream",
     "text": [
      "Global round: 973 | Average loss: 0.039494700851702244\n",
      "Global Round: 974\n"
     ]
    },
    {
     "name": "stderr",
     "output_type": "stream",
     "text": [
      "Train Epoch: 974/1001. Iter:  428/ 428. Data: 0.112s. alpha: 49. Batch: 0.335s. Loss: 0.0412.: 100%|█| 428/428 [02:23<00:0\n"
     ]
    },
    {
     "name": "stdout",
     "output_type": "stream",
     "text": [
      "Global round: 974 | Average loss: 0.039415493154915694\n",
      "Global Round: 975\n"
     ]
    },
    {
     "name": "stderr",
     "output_type": "stream",
     "text": [
      "Train Epoch: 975/1001. Iter:  428/ 428. Data: 0.113s. alpha: 49. Batch: 0.337s. Loss: 0.0447.: 100%|█| 428/428 [02:24<00:0\n"
     ]
    },
    {
     "name": "stdout",
     "output_type": "stream",
     "text": [
      "global epoch 976 saved\n",
      "Global round: 975 | Average loss: 0.03866844968957322\n",
      "Global Round: 976\n"
     ]
    },
    {
     "name": "stderr",
     "output_type": "stream",
     "text": [
      "Train Epoch: 976/1001. Iter:  428/ 428. Data: 0.115s. alpha: 49. Batch: 0.337s. Loss: 0.0347.: 100%|█| 428/428 [02:23<00:0\n"
     ]
    },
    {
     "name": "stdout",
     "output_type": "stream",
     "text": [
      "Global round: 976 | Average loss: 0.03933264829966927\n",
      "Global Round: 977\n"
     ]
    },
    {
     "name": "stderr",
     "output_type": "stream",
     "text": [
      "Train Epoch: 977/1001. Iter:  428/ 428. Data: 0.113s. alpha: 49. Batch: 0.337s. Loss: 0.0460.: 100%|█| 428/428 [02:24<00:0\n"
     ]
    },
    {
     "name": "stdout",
     "output_type": "stream",
     "text": [
      "Global round: 977 | Average loss: 0.040000122118845724\n",
      "Global Round: 978\n"
     ]
    },
    {
     "name": "stderr",
     "output_type": "stream",
     "text": [
      "Train Epoch: 978/1001. Iter:  428/ 428. Data: 0.114s. alpha: 49. Batch: 0.339s. Loss: 0.0409.: 100%|█| 428/428 [02:25<00:0\n"
     ]
    },
    {
     "name": "stdout",
     "output_type": "stream",
     "text": [
      "Global round: 978 | Average loss: 0.03880033519327919\n",
      "Global Round: 979\n"
     ]
    },
    {
     "name": "stderr",
     "output_type": "stream",
     "text": [
      "Train Epoch: 979/1001. Iter:  428/ 428. Data: 0.115s. alpha: 49. Batch: 0.340s. Loss: 0.0370.: 100%|█| 428/428 [02:25<00:0\n"
     ]
    },
    {
     "name": "stdout",
     "output_type": "stream",
     "text": [
      "Global round: 979 | Average loss: 0.038825775640276824\n",
      "Global Round: 980\n"
     ]
    },
    {
     "name": "stderr",
     "output_type": "stream",
     "text": [
      "Train Epoch: 980/1001. Iter:  428/ 428. Data: 0.113s. alpha: 49. Batch: 0.339s. Loss: 0.0379.: 100%|█| 428/428 [02:24<00:0\n"
     ]
    },
    {
     "name": "stdout",
     "output_type": "stream",
     "text": [
      "global epoch 981 saved\n",
      "Global round: 980 | Average loss: 0.03921847860111254\n",
      "Global Round: 981\n"
     ]
    },
    {
     "name": "stderr",
     "output_type": "stream",
     "text": [
      "Train Epoch: 981/1001. Iter:  428/ 428. Data: 0.115s. alpha: 49. Batch: 0.339s. Loss: 0.0389.: 100%|█| 428/428 [02:23<00:0\n"
     ]
    },
    {
     "name": "stdout",
     "output_type": "stream",
     "text": [
      "Global round: 981 | Average loss: 0.038938142550743626\n",
      "Global Round: 982\n"
     ]
    },
    {
     "name": "stderr",
     "output_type": "stream",
     "text": [
      "Train Epoch: 982/1001. Iter:  428/ 428. Data: 0.114s. alpha: 49. Batch: 0.338s. Loss: 0.0465.: 100%|█| 428/428 [02:24<00:0\n"
     ]
    },
    {
     "name": "stdout",
     "output_type": "stream",
     "text": [
      "Global round: 982 | Average loss: 0.0381816184217824\n",
      "Global Round: 983\n"
     ]
    },
    {
     "name": "stderr",
     "output_type": "stream",
     "text": [
      "Train Epoch: 983/1001. Iter:  428/ 428. Data: 0.116s. alpha: 49. Batch: 0.340s. Loss: 0.0327.: 100%|█| 428/428 [02:25<00:0\n"
     ]
    },
    {
     "name": "stdout",
     "output_type": "stream",
     "text": [
      "Global round: 983 | Average loss: 0.037812498515628484\n",
      "Global Round: 984\n"
     ]
    },
    {
     "name": "stderr",
     "output_type": "stream",
     "text": [
      "Train Epoch: 984/1001. Iter:  428/ 428. Data: 0.112s. alpha: 49. Batch: 0.335s. Loss: 0.0370.: 100%|█| 428/428 [02:23<00:0\n"
     ]
    },
    {
     "name": "stdout",
     "output_type": "stream",
     "text": [
      "Global round: 984 | Average loss: 0.037717944785743675\n",
      "Global Round: 985\n"
     ]
    },
    {
     "name": "stderr",
     "output_type": "stream",
     "text": [
      "Train Epoch: 985/1001. Iter:  428/ 428. Data: 0.113s. alpha: 49. Batch: 0.336s. Loss: 0.0361.: 100%|█| 428/428 [02:23<00:0\n"
     ]
    },
    {
     "name": "stdout",
     "output_type": "stream",
     "text": [
      "global epoch 986 saved\n",
      "Global round: 985 | Average loss: 0.03827193572629835\n",
      "Global Round: 986\n"
     ]
    },
    {
     "name": "stderr",
     "output_type": "stream",
     "text": [
      "Train Epoch: 986/1001. Iter:  428/ 428. Data: 0.115s. alpha: 49. Batch: 0.339s. Loss: 0.0413.: 100%|█| 428/428 [02:24<00:0\n"
     ]
    },
    {
     "name": "stdout",
     "output_type": "stream",
     "text": [
      "Global round: 986 | Average loss: 0.03842349014044783\n",
      "Global Round: 987\n"
     ]
    },
    {
     "name": "stderr",
     "output_type": "stream",
     "text": [
      "Train Epoch: 987/1001. Iter:  428/ 428. Data: 0.111s. alpha: 49. Batch: 0.336s. Loss: 0.0369.: 100%|█| 428/428 [02:23<00:0\n"
     ]
    },
    {
     "name": "stdout",
     "output_type": "stream",
     "text": [
      "Global round: 987 | Average loss: 0.03855939287361558\n",
      "Global Round: 988\n"
     ]
    },
    {
     "name": "stderr",
     "output_type": "stream",
     "text": [
      "Train Epoch: 988/1001. Iter:  428/ 428. Data: 0.114s. alpha: 49. Batch: 0.338s. Loss: 0.0375.: 100%|█| 428/428 [02:24<00:0\n"
     ]
    },
    {
     "name": "stdout",
     "output_type": "stream",
     "text": [
      "Global round: 988 | Average loss: 0.0387832201390623\n",
      "Global Round: 989\n"
     ]
    },
    {
     "name": "stderr",
     "output_type": "stream",
     "text": [
      "Train Epoch: 989/1001. Iter:  428/ 428. Data: 0.115s. alpha: 49. Batch: 0.340s. Loss: 0.0349.: 100%|█| 428/428 [02:25<00:0\n"
     ]
    },
    {
     "name": "stdout",
     "output_type": "stream",
     "text": [
      "Global round: 989 | Average loss: 0.03776553038629555\n",
      "Global Round: 990\n"
     ]
    },
    {
     "name": "stderr",
     "output_type": "stream",
     "text": [
      "Train Epoch: 990/1001. Iter:  428/ 428. Data: 0.115s. alpha: 50. Batch: 0.339s. Loss: 0.0463.: 100%|█| 428/428 [02:25<00:0\n"
     ]
    },
    {
     "name": "stdout",
     "output_type": "stream",
     "text": [
      "global epoch 991 saved\n",
      "Global round: 990 | Average loss: 0.038363681292318014\n",
      "Global Round: 991\n"
     ]
    },
    {
     "name": "stderr",
     "output_type": "stream",
     "text": [
      "Train Epoch: 991/1001. Iter:  428/ 428. Data: 0.116s. alpha: 50. Batch: 0.340s. Loss: 0.0349.: 100%|█| 428/428 [02:24<00:0\n"
     ]
    },
    {
     "name": "stdout",
     "output_type": "stream",
     "text": [
      "Global round: 991 | Average loss: 0.0375311830533651\n",
      "Global Round: 992\n"
     ]
    },
    {
     "name": "stderr",
     "output_type": "stream",
     "text": [
      "Train Epoch: 992/1001. Iter:  428/ 428. Data: 0.115s. alpha: 50. Batch: 0.340s. Loss: 0.0253.: 100%|█| 428/428 [02:25<00:0\n"
     ]
    },
    {
     "name": "stdout",
     "output_type": "stream",
     "text": [
      "Global round: 992 | Average loss: 0.03717406309061797\n",
      "Global Round: 993\n"
     ]
    },
    {
     "name": "stderr",
     "output_type": "stream",
     "text": [
      "Train Epoch: 993/1001. Iter:  428/ 428. Data: 0.111s. alpha: 50. Batch: 0.335s. Loss: 0.0303.: 100%|█| 428/428 [02:23<00:0\n"
     ]
    },
    {
     "name": "stdout",
     "output_type": "stream",
     "text": [
      "Global round: 993 | Average loss: 0.037556201506789046\n",
      "Global Round: 994\n"
     ]
    },
    {
     "name": "stderr",
     "output_type": "stream",
     "text": [
      "Train Epoch: 994/1001. Iter:  428/ 428. Data: 0.113s. alpha: 50. Batch: 0.337s. Loss: 0.0396.: 100%|█| 428/428 [02:24<00:0\n"
     ]
    },
    {
     "name": "stdout",
     "output_type": "stream",
     "text": [
      "Global round: 994 | Average loss: 0.037093786574969784\n",
      "Global Round: 995\n"
     ]
    },
    {
     "name": "stderr",
     "output_type": "stream",
     "text": [
      "Train Epoch: 995/1001. Iter:  428/ 428. Data: 0.114s. alpha: 50. Batch: 0.339s. Loss: 0.0332.: 100%|█| 428/428 [02:24<00:0\n"
     ]
    },
    {
     "name": "stdout",
     "output_type": "stream",
     "text": [
      "global epoch 996 saved\n",
      "Global round: 995 | Average loss: 0.036591082872283236\n",
      "Global Round: 996\n"
     ]
    },
    {
     "name": "stderr",
     "output_type": "stream",
     "text": [
      "Train Epoch: 996/1001. Iter:  428/ 428. Data: 0.116s. alpha: 50. Batch: 0.340s. Loss: 0.0264.: 100%|█| 428/428 [02:24<00:0\n"
     ]
    },
    {
     "name": "stdout",
     "output_type": "stream",
     "text": [
      "Global round: 996 | Average loss: 0.03682185840470908\n",
      "Global Round: 997\n"
     ]
    },
    {
     "name": "stderr",
     "output_type": "stream",
     "text": [
      "Train Epoch: 997/1001. Iter:  428/ 428. Data: 0.113s. alpha: 50. Batch: 0.337s. Loss: 0.0431.: 100%|█| 428/428 [02:24<00:0\n"
     ]
    },
    {
     "name": "stdout",
     "output_type": "stream",
     "text": [
      "Global round: 997 | Average loss: 0.0372247489682773\n",
      "Global Round: 998\n"
     ]
    },
    {
     "name": "stderr",
     "output_type": "stream",
     "text": [
      "Train Epoch: 998/1001. Iter:  428/ 428. Data: 0.115s. alpha: 50. Batch: 0.340s. Loss: 0.0360.: 100%|█| 428/428 [02:25<00:0\n"
     ]
    },
    {
     "name": "stdout",
     "output_type": "stream",
     "text": [
      "Global round: 998 | Average loss: 0.036094299926657546\n",
      "Global Round: 999\n"
     ]
    },
    {
     "name": "stderr",
     "output_type": "stream",
     "text": [
      "Train Epoch: 999/1001. Iter:  428/ 428. Data: 0.116s. alpha: 50. Batch: 0.341s. Loss: 0.0424.: 100%|█| 428/428 [02:25<00:0\n"
     ]
    },
    {
     "name": "stdout",
     "output_type": "stream",
     "text": [
      "Global round: 999 | Average loss: 0.03611148377688967\n",
      "Global Round: 1000\n"
     ]
    },
    {
     "name": "stderr",
     "output_type": "stream",
     "text": [
      "Train Epoch: 1000/1001. Iter:  428/ 428. Data: 0.115s. alpha: 50. Batch: 0.339s. Loss: 0.0380.: 100%|█| 428/428 [02:24<00:\n"
     ]
    },
    {
     "name": "stdout",
     "output_type": "stream",
     "text": [
      "global epoch 1001 saved\n",
      "Global round: 1000 | Average loss: 0.03666778144679059\n",
      "Training Done!\n",
      "Total time taken to Train: 1.4159431457519531\n",
      "Total average times : 2045\n"
     ]
    }
   ],
   "source": [
    "client_models, train_loss = training(client_models, server_model, optimizer_server, optimizer_clients, H[0], H[2], H[4])"
   ]
  },
  {
   "cell_type": "code",
   "execution_count": 14,
   "metadata": {
    "execution": {
     "iopub.execute_input": "2024-03-01T18:22:03.294570Z",
     "iopub.status.busy": "2024-03-01T18:22:03.294484Z",
     "iopub.status.idle": "2024-03-01T18:22:03.337121Z",
     "shell.execute_reply": "2024-03-01T18:22:03.336757Z",
     "shell.execute_reply.started": "2024-03-01T18:22:03.294561Z"
    },
    "id": "h5St42vvK2Jj",
    "tags": []
   },
   "outputs": [],
   "source": [
    "torch.save(client_model.online_encoder.cpu().state_dict(), save_path + \"_final.pt\")"
   ]
  },
  {
   "cell_type": "code",
   "execution_count": 15,
   "metadata": {
    "execution": {
     "iopub.execute_input": "2024-03-01T18:22:03.337599Z",
     "iopub.status.busy": "2024-03-01T18:22:03.337516Z",
     "iopub.status.idle": "2024-03-01T18:22:03.672896Z",
     "shell.execute_reply": "2024-03-01T18:22:03.672592Z",
     "shell.execute_reply.started": "2024-03-01T18:22:03.337590Z"
    }
   },
   "outputs": [
    {
     "data": {
      "image/png": "[encoded data removed]",
      "text/plain": [
       "<Figure size 640x480 with 1 Axes>"
      ]
     },
     "metadata": {},
     "output_type": "display_data"
    }
   ],
   "source": [
    "import matplotlib.pyplot as plt\n",
    "\n",
    "plt.plot(train_loss)\n",
    "plt.xlabel('epochs')\n",
    "plt.ylabel('Loss')\n",
    "plt.title('Training Loss Curve')\n",
    "plt.show()"
   ]
  },
  {
   "cell_type": "code",
   "execution_count": 16,
   "metadata": {
    "execution": {
     "iopub.execute_input": "2024-03-01T18:22:03.673314Z",
     "iopub.status.busy": "2024-03-01T18:22:03.673189Z",
     "iopub.status.idle": "2024-03-01T18:22:03.675438Z",
     "shell.execute_reply": "2024-03-01T18:22:03.675185Z",
     "shell.execute_reply.started": "2024-03-01T18:22:03.673304Z"
    }
   },
   "outputs": [],
   "source": [
    "# %load_ext tensorboard\n",
    "\n",
    "# %tensorboard --logdir=logs//SplitFSSL_BYOL32_DifAvgtimes --bind_all --port=7057"
   ]
  }
 ],
 "metadata": {
  "accelerator": "GPU",
  "colab": {
   "machine_shape": "hm",
   "provenance": []
  },
  "kernelspec": {
   "display_name": "Python [conda env:.conda-splitfedssl]",
   "language": "python",
   "name": "conda-env-.conda-splitfedssl-py"
  },
  "language_info": {
   "codemirror_mode": {
    "name": "ipython",
    "version": 3
   },
   "file_extension": ".py",
   "mimetype": "text/x-python",
   "name": "python",
   "nbconvert_exporter": "python",
   "pygments_lexer": "ipython3",
   "version": "3.7.16"
  }
 },
 "nbformat": 4,
 "nbformat_minor": 4
}
