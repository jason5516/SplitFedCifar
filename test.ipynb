{
 "cells": [
  {
   "cell_type": "code",
   "execution_count": 20,
   "id": "0e0372c2-46ff-42e8-b351-4174ace638ea",
   "metadata": {
    "execution": {
     "iopub.execute_input": "2024-05-08T08:14:00.525959Z",
     "iopub.status.busy": "2024-05-08T08:14:00.525740Z",
     "iopub.status.idle": "2024-05-08T08:14:00.528501Z",
     "shell.execute_reply": "2024-05-08T08:14:00.528237Z",
     "shell.execute_reply.started": "2024-05-08T08:14:00.525941Z"
    }
   },
   "outputs": [],
   "source": [
    "import numpy as np\n",
    "from utils.utils import *\n",
    "from tqdm import tqdm\n",
    "from torchvision import transforms\n",
    "from utils.model import *\n",
    "from utils.BYOL_models import *\n",
    "import os"
   ]
  },
  {
   "cell_type": "code",
   "execution_count": 21,
   "id": "28bfe68d-ca56-46a6-ba08-10c67f5eecd1",
   "metadata": {
    "execution": {
     "iopub.execute_input": "2024-05-08T08:14:00.807076Z",
     "iopub.status.busy": "2024-05-08T08:14:00.806893Z",
     "iopub.status.idle": "2024-05-08T08:14:01.643088Z",
     "shell.execute_reply": "2024-05-08T08:14:01.642788Z",
     "shell.execute_reply.started": "2024-05-08T08:14:00.807062Z"
    }
   },
   "outputs": [
    {
     "name": "stdout",
     "output_type": "stream",
     "text": [
      "Files already downloaded and verified\n",
      "Files already downloaded and verified\n"
     ]
    }
   ],
   "source": [
    "# ('mnist', 'femnist', 'fmnist', 'cifar10', 'cifar100', 'svhn')\n",
    "data_path = \"./data\"\n",
    "dataset = \"cifar10\"\n",
    "# ('noniid-labeldir', 'noniid-label#2', 'iid', 'default') default only for femnist\n",
    "partition = \"noniid-label#2\"\n",
    "client_num = 5\n",
    "batch_size = 32\n",
    "train_batch = 32\n",
    "test_batch = 128\n",
    "avg_freq = 10\n",
    "sim_weight = False\n",
    "save_path = f\"./model/SplitFSSL_BYOL32_similarity/resnet18Maxpooling_sim_weight({sim_weight})_{dataset}_{batch_size}_{avg_freq}_{partition}_{client_num}\"\n",
    "train_dl, test_dl, train_ds, test_ds = get_dataloader(dataset, data_path, train_batch, test_batch)\n",
    "\n",
    "# dataset = \"cifar10\"\n",
    "# cifar10train_dl, cifar10test_dl, cifar10train_ds, cifar10test_ds = get_dataloader(dataset, data_path, train_batch, test_batch)"
   ]
  },
  {
   "cell_type": "code",
   "execution_count": 11,
   "id": "f1c612b5-7255-4c88-be05-82ee1dd573c7",
   "metadata": {
    "execution": {
     "iopub.execute_input": "2024-04-15T08:47:38.733223Z",
     "iopub.status.busy": "2024-04-15T08:47:38.733093Z",
     "iopub.status.idle": "2024-04-15T08:47:39.603024Z",
     "shell.execute_reply": "2024-04-15T08:47:39.602593Z",
     "shell.execute_reply.started": "2024-04-15T08:47:38.733209Z"
    },
    "scrolled": true
   },
   "outputs": [
    {
     "name": "stdout",
     "output_type": "stream",
     "text": [
      "Files already downloaded and verified\n",
      "Files already downloaded and verified\n",
      "partition: iid\n",
      "Data statistics Train: {0: {0: 81, 1: 109, 2: 113, 3: 104, 4: 103, 5: 104, 6: 94, 7: 88, 8: 114, 9: 106, 10: 103, 11: 114, 12: 90, 13: 90, 14: 94, 15: 93, 16: 96, 17: 111, 18: 94, 19: 108, 20: 100, 21: 104, 22: 88, 23: 100, 24: 97, 25: 90, 26: 96, 27: 98, 28: 98, 29: 95, 30: 102, 31: 105, 32: 99, 33: 110, 34: 96, 35: 98, 36: 107, 37: 108, 38: 109, 39: 87, 40: 114, 41: 107, 42: 110, 43: 105, 44: 108, 45: 105, 46: 90, 47: 88, 48: 108, 49: 100, 50: 100, 51: 117, 52: 92, 53: 92, 54: 101, 55: 98, 56: 91, 57: 99, 58: 112, 59: 113, 60: 91, 61: 101, 62: 108, 63: 105, 64: 87, 65: 97, 66: 101, 67: 115, 68: 103, 69: 89, 70: 96, 71: 92, 72: 98, 73: 99, 74: 111, 75: 104, 76: 110, 77: 83, 78: 86, 79: 107, 80: 98, 81: 104, 82: 104, 83: 93, 84: 101, 85: 97, 86: 106, 87: 90, 88: 90, 89: 103, 90: 100, 91: 100, 92: 92, 93: 94, 94: 106, 95: 105, 96: 101, 97: 98, 98: 99, 99: 90}, 1: {0: 127, 1: 95, 2: 99, 3: 104, 4: 99, 5: 110, 6: 106, 7: 107, 8: 117, 9: 98, 10: 101, 11: 97, 12: 113, 13: 103, 14: 102, 15: 101, 16: 97, 17: 104, 18: 103, 19: 98, 20: 105, 21: 96, 22: 104, 23: 98, 24: 100, 25: 91, 26: 94, 27: 113, 28: 94, 29: 93, 30: 105, 31: 119, 32: 106, 33: 105, 34: 106, 35: 98, 36: 93, 37: 98, 38: 103, 39: 107, 40: 109, 41: 86, 42: 91, 43: 114, 44: 105, 45: 94, 46: 102, 47: 101, 48: 86, 49: 95, 50: 97, 51: 86, 52: 101, 53: 96, 54: 106, 55: 78, 56: 109, 57: 82, 58: 96, 59: 95, 60: 99, 61: 84, 62: 100, 63: 99, 64: 96, 65: 93, 66: 99, 67: 82, 68: 100, 69: 106, 70: 98, 71: 102, 72: 98, 73: 88, 74: 89, 75: 100, 76: 109, 77: 87, 78: 117, 79: 96, 80: 109, 81: 94, 82: 99, 83: 90, 84: 103, 85: 112, 86: 98, 87: 97, 88: 99, 89: 108, 90: 106, 91: 103, 92: 101, 93: 91, 94: 92, 95: 108, 96: 92, 97: 111, 98: 104, 99: 103}, 2: {0: 108, 1: 99, 2: 86, 3: 94, 4: 102, 5: 106, 6: 96, 7: 112, 8: 87, 9: 84, 10: 95, 11: 105, 12: 100, 13: 85, 14: 108, 15: 112, 16: 98, 17: 97, 18: 95, 19: 91, 20: 98, 21: 93, 22: 116, 23: 92, 24: 100, 25: 113, 26: 99, 27: 96, 28: 99, 29: 102, 30: 89, 31: 93, 32: 92, 33: 87, 34: 114, 35: 108, 36: 101, 37: 97, 38: 88, 39: 106, 40: 74, 41: 102, 42: 90, 43: 109, 44: 100, 45: 102, 46: 101, 47: 125, 48: 106, 49: 104, 50: 95, 51: 110, 52: 92, 53: 101, 54: 106, 55: 112, 56: 96, 57: 107, 58: 99, 59: 106, 60: 101, 61: 106, 62: 99, 63: 106, 64: 99, 65: 91, 66: 104, 67: 108, 68: 91, 69: 104, 70: 110, 71: 100, 72: 104, 73: 110, 74: 123, 75: 105, 76: 76, 77: 114, 78: 106, 79: 93, 80: 110, 81: 93, 82: 100, 83: 112, 84: 97, 85: 88, 86: 89, 87: 105, 88: 88, 89: 92, 90: 98, 91: 90, 92: 115, 93: 95, 94: 98, 95: 95, 96: 104, 97: 112, 98: 93, 99: 96}, 3: {0: 90, 1: 92, 2: 102, 3: 101, 4: 95, 5: 103, 6: 112, 7: 89, 8: 93, 9: 102, 10: 101, 11: 87, 12: 91, 13: 117, 14: 106, 15: 94, 16: 108, 17: 93, 18: 103, 19: 104, 20: 98, 21: 99, 22: 83, 23: 111, 24: 105, 25: 105, 26: 102, 27: 95, 28: 107, 29: 111, 30: 91, 31: 90, 32: 113, 33: 105, 34: 87, 35: 96, 36: 100, 37: 94, 38: 118, 39: 94, 40: 105, 41: 104, 42: 110, 43: 77, 44: 89, 45: 105, 46: 110, 47: 77, 48: 107, 49: 91, 50: 103, 51: 96, 52: 106, 53: 104, 54: 88, 55: 111, 56: 97, 57: 103, 58: 111, 59: 87, 60: 98, 61: 113, 62: 102, 63: 90, 64: 124, 65: 99, 66: 83, 67: 106, 68: 108, 69: 110, 70: 98, 71: 103, 72: 100, 73: 102, 74: 90, 75: 96, 76: 104, 77: 100, 78: 94, 79: 107, 80: 97, 81: 96, 82: 95, 83: 102, 84: 100, 85: 105, 86: 105, 87: 117, 88: 113, 89: 92, 90: 93, 91: 100, 92: 94, 93: 107, 94: 112, 95: 86, 96: 102, 97: 93, 98: 95, 99: 101}, 4: {0: 94, 1: 105, 2: 100, 3: 97, 4: 101, 5: 77, 6: 92, 7: 104, 8: 89, 9: 110, 10: 100, 11: 97, 12: 106, 13: 105, 14: 90, 15: 100, 16: 101, 17: 95, 18: 105, 19: 99, 20: 99, 21: 108, 22: 109, 23: 99, 24: 98, 25: 101, 26: 109, 27: 98, 28: 102, 29: 99, 30: 113, 31: 93, 32: 90, 33: 93, 34: 97, 35: 100, 36: 99, 37: 103, 38: 82, 39: 106, 40: 98, 41: 101, 42: 99, 43: 95, 44: 98, 45: 94, 46: 97, 47: 109, 48: 93, 49: 110, 50: 105, 51: 91, 52: 109, 53: 107, 54: 99, 55: 101, 56: 107, 57: 109, 58: 82, 59: 99, 60: 111, 61: 96, 62: 91, 63: 100, 64: 94, 65: 120, 66: 113, 67: 89, 68: 98, 69: 91, 70: 98, 71: 103, 72: 100, 73: 101, 74: 87, 75: 95, 76: 101, 77: 116, 78: 97, 79: 97, 80: 86, 81: 113, 82: 102, 83: 103, 84: 99, 85: 98, 86: 102, 87: 91, 88: 110, 89: 105, 90: 103, 91: 107, 92: 98, 93: 113, 94: 92, 95: 106, 96: 101, 97: 86, 98: 109, 99: 110}}\n",
      "Data statistics Test:\n",
      " {0: {0: 100, 1: 100, 2: 100, 3: 100, 4: 100, 5: 100, 6: 100, 7: 100, 8: 100, 9: 100, 10: 100, 11: 100, 12: 100, 13: 100, 14: 100, 15: 100, 16: 100, 17: 100, 18: 100, 19: 100, 20: 100, 21: 100, 22: 100, 23: 100, 24: 100, 25: 100, 26: 100, 27: 100, 28: 100, 29: 100, 30: 100, 31: 100, 32: 100, 33: 100, 34: 100, 35: 100, 36: 100, 37: 100, 38: 100, 39: 100, 40: 100, 41: 100, 42: 100, 43: 100, 44: 100, 45: 100, 46: 100, 47: 100, 48: 100, 49: 100, 50: 100, 51: 100, 52: 100, 53: 100, 54: 100, 55: 100, 56: 100, 57: 100, 58: 100, 59: 100, 60: 100, 61: 100, 62: 100, 63: 100, 64: 100, 65: 100, 66: 100, 67: 100, 68: 100, 69: 100, 70: 100, 71: 100, 72: 100, 73: 100, 74: 100, 75: 100, 76: 100, 77: 100, 78: 100, 79: 100, 80: 100, 81: 100, 82: 100, 83: 100, 84: 100, 85: 100, 86: 100, 87: 100, 88: 100, 89: 100, 90: 100, 91: 100, 92: 100, 93: 100, 94: 100, 95: 100, 96: 100, 97: 100, 98: 100, 99: 100}, 1: {0: 100, 1: 100, 2: 100, 3: 100, 4: 100, 5: 100, 6: 100, 7: 100, 8: 100, 9: 100, 10: 100, 11: 100, 12: 100, 13: 100, 14: 100, 15: 100, 16: 100, 17: 100, 18: 100, 19: 100, 20: 100, 21: 100, 22: 100, 23: 100, 24: 100, 25: 100, 26: 100, 27: 100, 28: 100, 29: 100, 30: 100, 31: 100, 32: 100, 33: 100, 34: 100, 35: 100, 36: 100, 37: 100, 38: 100, 39: 100, 40: 100, 41: 100, 42: 100, 43: 100, 44: 100, 45: 100, 46: 100, 47: 100, 48: 100, 49: 100, 50: 100, 51: 100, 52: 100, 53: 100, 54: 100, 55: 100, 56: 100, 57: 100, 58: 100, 59: 100, 60: 100, 61: 100, 62: 100, 63: 100, 64: 100, 65: 100, 66: 100, 67: 100, 68: 100, 69: 100, 70: 100, 71: 100, 72: 100, 73: 100, 74: 100, 75: 100, 76: 100, 77: 100, 78: 100, 79: 100, 80: 100, 81: 100, 82: 100, 83: 100, 84: 100, 85: 100, 86: 100, 87: 100, 88: 100, 89: 100, 90: 100, 91: 100, 92: 100, 93: 100, 94: 100, 95: 100, 96: 100, 97: 100, 98: 100, 99: 100}, 2: {0: 100, 1: 100, 2: 100, 3: 100, 4: 100, 5: 100, 6: 100, 7: 100, 8: 100, 9: 100, 10: 100, 11: 100, 12: 100, 13: 100, 14: 100, 15: 100, 16: 100, 17: 100, 18: 100, 19: 100, 20: 100, 21: 100, 22: 100, 23: 100, 24: 100, 25: 100, 26: 100, 27: 100, 28: 100, 29: 100, 30: 100, 31: 100, 32: 100, 33: 100, 34: 100, 35: 100, 36: 100, 37: 100, 38: 100, 39: 100, 40: 100, 41: 100, 42: 100, 43: 100, 44: 100, 45: 100, 46: 100, 47: 100, 48: 100, 49: 100, 50: 100, 51: 100, 52: 100, 53: 100, 54: 100, 55: 100, 56: 100, 57: 100, 58: 100, 59: 100, 60: 100, 61: 100, 62: 100, 63: 100, 64: 100, 65: 100, 66: 100, 67: 100, 68: 100, 69: 100, 70: 100, 71: 100, 72: 100, 73: 100, 74: 100, 75: 100, 76: 100, 77: 100, 78: 100, 79: 100, 80: 100, 81: 100, 82: 100, 83: 100, 84: 100, 85: 100, 86: 100, 87: 100, 88: 100, 89: 100, 90: 100, 91: 100, 92: 100, 93: 100, 94: 100, 95: 100, 96: 100, 97: 100, 98: 100, 99: 100}, 3: {0: 100, 1: 100, 2: 100, 3: 100, 4: 100, 5: 100, 6: 100, 7: 100, 8: 100, 9: 100, 10: 100, 11: 100, 12: 100, 13: 100, 14: 100, 15: 100, 16: 100, 17: 100, 18: 100, 19: 100, 20: 100, 21: 100, 22: 100, 23: 100, 24: 100, 25: 100, 26: 100, 27: 100, 28: 100, 29: 100, 30: 100, 31: 100, 32: 100, 33: 100, 34: 100, 35: 100, 36: 100, 37: 100, 38: 100, 39: 100, 40: 100, 41: 100, 42: 100, 43: 100, 44: 100, 45: 100, 46: 100, 47: 100, 48: 100, 49: 100, 50: 100, 51: 100, 52: 100, 53: 100, 54: 100, 55: 100, 56: 100, 57: 100, 58: 100, 59: 100, 60: 100, 61: 100, 62: 100, 63: 100, 64: 100, 65: 100, 66: 100, 67: 100, 68: 100, 69: 100, 70: 100, 71: 100, 72: 100, 73: 100, 74: 100, 75: 100, 76: 100, 77: 100, 78: 100, 79: 100, 80: 100, 81: 100, 82: 100, 83: 100, 84: 100, 85: 100, 86: 100, 87: 100, 88: 100, 89: 100, 90: 100, 91: 100, 92: 100, 93: 100, 94: 100, 95: 100, 96: 100, 97: 100, 98: 100, 99: 100}, 4: {0: 100, 1: 100, 2: 100, 3: 100, 4: 100, 5: 100, 6: 100, 7: 100, 8: 100, 9: 100, 10: 100, 11: 100, 12: 100, 13: 100, 14: 100, 15: 100, 16: 100, 17: 100, 18: 100, 19: 100, 20: 100, 21: 100, 22: 100, 23: 100, 24: 100, 25: 100, 26: 100, 27: 100, 28: 100, 29: 100, 30: 100, 31: 100, 32: 100, 33: 100, 34: 100, 35: 100, 36: 100, 37: 100, 38: 100, 39: 100, 40: 100, 41: 100, 42: 100, 43: 100, 44: 100, 45: 100, 46: 100, 47: 100, 48: 100, 49: 100, 50: 100, 51: 100, 52: 100, 53: 100, 54: 100, 55: 100, 56: 100, 57: 100, 58: 100, 59: 100, 60: 100, 61: 100, 62: 100, 63: 100, 64: 100, 65: 100, 66: 100, 67: 100, 68: 100, 69: 100, 70: 100, 71: 100, 72: 100, 73: 100, 74: 100, 75: 100, 76: 100, 77: 100, 78: 100, 79: 100, 80: 100, 81: 100, 82: 100, 83: 100, 84: 100, 85: 100, 86: 100, 87: 100, 88: 100, 89: 100, 90: 100, 91: 100, 92: 100, 93: 100, 94: 100, 95: 100, 96: 100, 97: 100, 98: 100, 99: 100}} \n",
      "\n"
     ]
    }
   ],
   "source": [
    "net_dataidx_map, net_dataidx_map_test, traindata_cls_counts, testdata_cls_counts = partition_data(dataset, data_path, partition, client_num)"
   ]
  },
  {
   "cell_type": "code",
   "execution_count": 12,
   "id": "4031cd89-5297-4638-83ab-bc8fe806686d",
   "metadata": {
    "execution": {
     "iopub.execute_input": "2024-04-15T08:47:40.130354Z",
     "iopub.status.busy": "2024-04-15T08:47:40.130184Z",
     "iopub.status.idle": "2024-04-15T08:47:40.133059Z",
     "shell.execute_reply": "2024-04-15T08:47:40.132761Z",
     "shell.execute_reply.started": "2024-04-15T08:47:40.130342Z"
    }
   },
   "outputs": [
    {
     "name": "stdout",
     "output_type": "stream",
     "text": [
      "client 0 : 10000\n",
      "client 1 : 10000\n",
      "client 2 : 10000\n",
      "client 3 : 10000\n",
      "client 4 : 10000\n"
     ]
    }
   ],
   "source": [
    "for idx in traindata_cls_counts:\n",
    "    counts = []\n",
    "    for num in traindata_cls_counts[idx]:\n",
    "        counts.append(traindata_cls_counts[idx][num])\n",
    "    print(f\"client {idx} : {np.sum(counts)}\")"
   ]
  },
  {
   "cell_type": "code",
   "execution_count": 14,
   "id": "f69f1868-a113-43c4-a2e1-1c3d61e3ade7",
   "metadata": {
    "execution": {
     "iopub.execute_input": "2024-04-15T08:48:06.404834Z",
     "iopub.status.busy": "2024-04-15T08:48:06.404616Z",
     "iopub.status.idle": "2024-04-15T08:48:06.500939Z",
     "shell.execute_reply": "2024-04-15T08:48:06.500637Z",
     "shell.execute_reply.started": "2024-04-15T08:48:06.404817Z"
    }
   },
   "outputs": [
    {
     "name": "stdout",
     "output_type": "stream",
     "text": [
      "Sequential(\n",
      "  (0): Linear(in_features=4, out_features=2, bias=True)\n",
      "  (1): Linear(in_features=2, out_features=4, bias=True)\n",
      ")\n",
      "key name : 0.weight, size : torch.Size([2, 4])\n",
      "tensor([[-0.4531,  0.2462, -0.2034, -0.1425],\n",
      "        [ 0.2795,  0.1217,  0.3998, -0.3489]])\n",
      "key name : 0.bias, size : torch.Size([2])\n",
      "tensor([ 0.1155, -0.4965])\n",
      "key name : 1.weight, size : torch.Size([4, 2])\n",
      "tensor([[-0.2313, -0.5572],\n",
      "        [-0.0036, -0.2371],\n",
      "        [ 0.5574,  0.0557],\n",
      "        [ 0.3146,  0.6422]])\n",
      "key name : 1.bias, size : torch.Size([4])\n",
      "tensor([-0.2441, -0.6549,  0.2746,  0.0641])\n",
      "Sequential(\n",
      "  (0): Linear(in_features=4, out_features=2, bias=True)\n",
      "  (1): Linear(in_features=2, out_features=4, bias=True)\n",
      ")\n",
      "key name : 0.weight, size : torch.Size([2, 4])\n",
      "tensor([[-0.3831, -0.2123,  0.4655,  0.0431],\n",
      "        [-0.4102, -0.2033, -0.0308,  0.2754]])\n",
      "key name : 0.bias, size : torch.Size([2])\n",
      "tensor([0.3249, 0.1709])\n",
      "key name : 1.weight, size : torch.Size([4, 2])\n",
      "tensor([[-0.3883,  0.0637],\n",
      "        [ 0.2934, -0.2390],\n",
      "        [-0.5596, -0.3468],\n",
      "        [-0.6908, -0.6246]])\n",
      "key name : 1.bias, size : torch.Size([4])\n",
      "tensor([ 0.1600, -0.1396, -0.2337,  0.5165])\n"
     ]
    }
   ],
   "source": [
    "net = ResNet18()\n",
    "client_model = BYOL_Client()\n",
    "client_models = [copy.deepcopy(client_model) for idx in range(2)]\n",
    "# checkpath = save_path + \"/checkpoint.pth.tar\" \n",
    "# checkpoint = torch.load(checkpath)\n",
    "# epoch = checkpoint['glepoch']\n",
    "# print(epoch)\n",
    "# client_models = [copy.deepcopy(client_model).cuda() for idx in range(client_num)]\n",
    "client_models[0].online_encoder.fc = nn.Sequential(nn.Linear(4, 2), nn.Linear(2, 4))\n",
    "client_models[1].online_encoder.fc = nn.Sequential(nn.Linear(4, 2), nn.Linear(2, 4))\n",
    "# print(client_model.online_encoder.fc)\n",
    "for client in client_models:\n",
    "    print(client.online_encoder.fc)\n",
    "    for key, param in client.online_encoder.fc.named_parameters():\n",
    "        if param.requires_grad:\n",
    "            print(f\"key name : {key}, size : {param.size()}\")\n",
    "            print(client.online_encoder.fc.state_dict()[key])"
   ]
  },
  {
   "cell_type": "code",
   "execution_count": 14,
   "id": "1608c899-e1bc-4000-b542-39eaa40cb23d",
   "metadata": {
    "execution": {
     "iopub.execute_input": "2024-04-23T13:31:45.228529Z",
     "iopub.status.busy": "2024-04-23T13:31:45.228297Z",
     "iopub.status.idle": "2024-04-23T13:31:45.261467Z",
     "shell.execute_reply": "2024-04-23T13:31:45.261119Z",
     "shell.execute_reply.started": "2024-04-23T13:31:45.228512Z"
    }
   },
   "outputs": [
    {
     "name": "stdout",
     "output_type": "stream",
     "text": [
      "tensor([-0.8071,  1.0899,  0.2509,  0.8833, -0.7634, -0.0605,  1.2478,  1.3313,\n",
      "         0.6294,  0.5518])\n",
      "tensor([ 0.2369, -0.2831,  0.0805,  0.0857,  1.2410, -0.1155, -2.2699,  0.4539,\n",
      "         0.0473, -1.0381])\n"
     ]
    }
   ],
   "source": [
    "arr = torch.randn(10)\n",
    "arr1 = torch.randn(10)\n",
    "print(arr)\n",
    "print(arr1)"
   ]
  },
  {
   "cell_type": "code",
   "execution_count": 16,
   "id": "dabec32c-c24d-421f-8d2e-5cefb0a7d976",
   "metadata": {
    "execution": {
     "iopub.execute_input": "2024-04-23T13:32:30.316379Z",
     "iopub.status.busy": "2024-04-23T13:32:30.316122Z",
     "iopub.status.idle": "2024-04-23T13:32:30.320440Z",
     "shell.execute_reply": "2024-04-23T13:32:30.320099Z",
     "shell.execute_reply.started": "2024-04-23T13:32:30.316362Z"
    }
   },
   "outputs": [
    {
     "name": "stdout",
     "output_type": "stream",
     "text": [
      "-0.03904921934008598\n"
     ]
    }
   ],
   "source": [
    "arr = torch.randn(10)\n",
    "arr1 = torch.randn(10)\n",
    "arr2 = np.array([0.024,0.064,0.175,0.475,0.024,0.064,0.175])\n",
    "\n",
    "A1_norm = torch.norm(arr.type(torch.FloatTensor), 'fro')\n",
    "A2_norm = torch.norm(arr1.type(torch.FloatTensor), 'fro')\n",
    "A1_A2 = A1_norm * A2_norm\n",
    "if A1_A2 == 0:\n",
    "    print(\"There's a zero\")\n",
    "sim = ((arr*arr1).sum() / A1_A2).item()\n",
    "\n",
    "print(sim)\n",
    "# arr2.sum()\n"
   ]
  },
  {
   "cell_type": "markdown",
   "id": "e6754179-fd30-4516-93b8-f7a492b540c3",
   "metadata": {},
   "source": [
    "## plot similarity heatmap"
   ]
  },
  {
   "cell_type": "code",
   "execution_count": 26,
   "id": "ef5db59f-8fd8-4b64-b1b3-329940cc812f",
   "metadata": {
    "execution": {
     "iopub.execute_input": "2024-05-08T08:16:15.690320Z",
     "iopub.status.busy": "2024-05-08T08:16:15.690153Z",
     "iopub.status.idle": "2024-05-08T08:16:15.695042Z",
     "shell.execute_reply": "2024-05-08T08:16:15.694815Z",
     "shell.execute_reply.started": "2024-05-08T08:16:15.690308Z"
    }
   },
   "outputs": [],
   "source": [
    "import ipywidgets as widgets\n",
    "import matplotlib.pyplot as plt\n",
    "from ipywidgets import interact\n",
    "from PIL import Image\n",
    "\n",
    "slider = widgets.FloatSlider(\n",
    "    value=0,\n",
    "    min=0,\n",
    "    max=30,\n",
    "    step=1,\n",
    "    description='Image:'\n",
    ")\n",
    "# 函数：根据索引显示图片\n",
    "def show(opacity):\n",
    "    print(f\"{slider.value}\")\n",
    "    \n",
    "def show_image(index):\n",
    "    id = int(slider.value)\n",
    "    image_path_0506 = save_path + f\"/similarity_mat(0506)/{id}_epoch\" \n",
    "    image_path_0410 = save_path + f\"/similarity_mat(0410)/{id}_epoch\" \n",
    "    files = os.listdir(image_path_0506)\n",
    "    files = [f for f in files if f.endswith('.png')]\n",
    "    file_path = os.path.join(image_path_0506,files[-1])\n",
    "    image_0506 = plt.imread(file_path)\n",
    "    files = os.listdir(image_path_0410)\n",
    "    files = [f for f in files if f.endswith('.png')]\n",
    "    file_path = os.path.join(image_path_0410,files[-1])\n",
    "    image_0410 = plt.imread(file_path)\n",
    "    # plt.title(f\"epoch_{id}\")\n",
    "    # plt.axis('off')\n",
    "    fig, axes = plt.subplots(1, 2, figsize=(10, 4))\n",
    "    axes[0].imshow(image_0506)\n",
    "    axes[1].imshow(image_0410)\n",
    "    # 顯示圖片\n",
    "    # plt.imshow(image)\n",
    "    plt.show()\n",
    "# 创建滑动条并连接到显示图片的函数"
   ]
  },
  {
   "cell_type": "code",
   "execution_count": 27,
   "id": "ccca6221-192b-4c94-ad86-33eed01f33b2",
   "metadata": {
    "execution": {
     "iopub.execute_input": "2024-05-08T08:16:16.430043Z",
     "iopub.status.busy": "2024-05-08T08:16:16.429884Z",
     "iopub.status.idle": "2024-05-08T08:16:16.432527Z",
     "shell.execute_reply": "2024-05-08T08:16:16.432281Z",
     "shell.execute_reply.started": "2024-05-08T08:16:16.430032Z"
    }
   },
   "outputs": [
    {
     "data": {
      "application/vnd.jupyter.widget-view+json": {
       "model_id": "1edf69ead0c04866b0f7e79910474d18",
       "version_major": 2,
       "version_minor": 0
      },
      "text/plain": [
       "FloatSlider(value=0.0, description='Image:', max=30.0, step=1.0)"
      ]
     },
     "metadata": {},
     "output_type": "display_data"
    }
   ],
   "source": [
    "slider.observe(show_image, names='value')\n",
    "display(slider)"
   ]
  },
  {
   "cell_type": "code",
   "execution_count": 19,
   "id": "2c3ab52a-ba11-4ae1-964f-4fd4dae7075e",
   "metadata": {
    "execution": {
     "iopub.execute_input": "2024-04-02T07:04:45.753268Z",
     "iopub.status.busy": "2024-04-02T07:04:45.752935Z",
     "iopub.status.idle": "2024-04-02T07:04:46.540110Z",
     "shell.execute_reply": "2024-04-02T07:04:46.539820Z",
     "shell.execute_reply.started": "2024-04-02T07:04:45.753256Z"
    }
   },
   "outputs": [
    {
     "name": "stdout",
     "output_type": "stream",
     "text": [
      "Files already downloaded and verified\n",
      "Files already downloaded and verified\n"
     ]
    }
   ],
   "source": [
    "X_train, y_train, X_test, y_test = load_cifar10_data(data_path)"
   ]
  },
  {
   "cell_type": "code",
   "execution_count": 20,
   "id": "ca28cca4-b775-4328-a44a-1aad9d78d0c4",
   "metadata": {
    "execution": {
     "iopub.execute_input": "2024-04-02T07:04:47.171394Z",
     "iopub.status.busy": "2024-04-02T07:04:47.171243Z",
     "iopub.status.idle": "2024-04-02T07:04:47.957197Z",
     "shell.execute_reply": "2024-04-02T07:04:47.956899Z",
     "shell.execute_reply.started": "2024-04-02T07:04:47.171383Z"
    }
   },
   "outputs": [
    {
     "name": "stdout",
     "output_type": "stream",
     "text": [
      "Files already downloaded and verified\n",
      "Files already downloaded and verified\n",
      "partition: noniid-label#2\n",
      "Data statistics Train: {0: {8: 5000, 9: 5000}, 1: {2: 5000, 3: 5000}, 2: {4: 5000, 5: 5000}, 3: {6: 5000, 7: 5000}, 4: {0: 5000, 1: 5000}}\n",
      "Data statistics Test:\n",
      " {0: {8: 1000, 9: 1000}, 1: {2: 1000, 3: 1000}, 2: {4: 1000, 5: 1000}, 3: {6: 1000, 7: 1000}, 4: {0: 1000, 1: 1000}} \n",
      "\n"
     ]
    }
   ],
   "source": [
    "net_dataidx_map, net_dataidx_map_test, traindata_cls_counts, testdata_cls_counts = partition_data(dataset, data_path, partition, client_num)"
   ]
  },
  {
   "cell_type": "code",
   "execution_count": 6,
   "id": "499d9292-fb82-4277-9360-7fc915fc7fc9",
   "metadata": {
    "execution": {
     "iopub.execute_input": "2024-03-29T06:25:37.186209Z",
     "iopub.status.busy": "2024-03-29T06:25:37.186126Z",
     "iopub.status.idle": "2024-03-29T06:25:37.188497Z",
     "shell.execute_reply": "2024-03-29T06:25:37.188267Z",
     "shell.execute_reply.started": "2024-03-29T06:25:37.186200Z"
    }
   },
   "outputs": [
    {
     "name": "stdout",
     "output_type": "stream",
     "text": [
      "[[5000    0    0    0    0]\n",
      " [5000    0    0    0    0]\n",
      " [   0 5000    0    0    0]\n",
      " [   0 5000    0    0    0]\n",
      " [   0    0 5000    0    0]\n",
      " [   0    0 5000    0    0]\n",
      " [   0    0    0 5000    0]\n",
      " [   0    0    0 5000    0]\n",
      " [   0    0    0    0 5000]\n",
      " [   0    0    0    0 5000]]\n"
     ]
    }
   ],
   "source": [
    "cls_count = np.zeros([10,client_num], dtype=int)\n",
    "for k in range(client_num):\n",
    "    for i in traindata_cls_counts[k]:\n",
    "        cls_count[i][k] = traindata_cls_counts[k][i]\n",
    "print(cls_count)    "
   ]
  },
  {
   "cell_type": "code",
   "execution_count": 2,
   "id": "7710e87d-19a2-44a4-ad56-3709732865dd",
   "metadata": {
    "execution": {
     "iopub.execute_input": "2024-05-03T08:10:03.379284Z",
     "iopub.status.busy": "2024-05-03T08:10:03.379090Z",
     "iopub.status.idle": "2024-05-03T08:10:03.445708Z",
     "shell.execute_reply": "2024-05-03T08:10:03.445484Z",
     "shell.execute_reply.started": "2024-05-03T08:10:03.379274Z"
    },
    "scrolled": true
   },
   "outputs": [
    {
     "data": {
      "image/png": "[encoded data removed]",
      "text/plain": [
       "<Figure size 800x800 with 2 Axes>"
      ]
     },
     "metadata": {},
     "output_type": "display_data"
    }
   ],
   "source": [
    "import seaborn as sns\n",
    "import matplotlib.pyplot as plt\n",
    "# class_names = ['airplane', 'automobile', 'bird', 'cat', 'deer', 'dog', 'frog', 'horse', 'ship', 'truck']\n",
    "cls_count1 = [1,0.83,0.78,0.94,0.74]\n",
    "cls_count = [[1,0.83,0.78,0.94,0.74],\n",
    "             [0.83,1,0.94,0.88,0.93],\n",
    "             [0.78,0.94,1,0.89,0.98],\n",
    "             [0.94,0.88,0.89,1,0.86],\n",
    "             [0.74,0.93,0.98,0.86,1]]\n",
    "plt.figure(figsize=(8,8))\n",
    "# sns.heatmap(cls_count, yticklabels=class_names, square=False,annot=True,fmt='d',linecolor='white',cmap='Blues',linewidths=1.5)\n",
    "sns.heatmap(cls_count,square=True,annot=True,linecolor='white',cmap='Blues',vmin=0.5)\n",
    "# plt.xlabel('client',fontsize=20)\n",
    "# plt.ylabel('class',fontsize=20)\n",
    "plt.show()"
   ]
  },
  {
   "cell_type": "code",
   "execution_count": 6,
   "id": "ab25149b-d33c-407b-ad88-c59fb93b38ab",
   "metadata": {
    "execution": {
     "iopub.execute_input": "2024-04-02T08:13:17.440119Z",
     "iopub.status.busy": "2024-04-02T08:13:17.439968Z",
     "iopub.status.idle": "2024-04-02T08:13:17.442931Z",
     "shell.execute_reply": "2024-04-02T08:13:17.442649Z",
     "shell.execute_reply.started": "2024-04-02T08:13:17.440107Z"
    }
   },
   "outputs": [
    {
     "name": "stdout",
     "output_type": "stream",
     "text": [
      "tensor([0.0985, 0.2354, 0.2318, 0.2026, 0.2318], dtype=torch.float64)\n"
     ]
    }
   ],
   "source": [
    "import seaborn as sns\n",
    "import numpy as np\n",
    "import matplotlib.pyplot as plt\n",
    "from matplotlib.colors import LogNorm  # 导入 LogNorm 类\n",
    "\n",
    "# 创建一个示例数据\n",
    "data = np.random.rand(5, 5)  # 创建一个 5x5 的随机数组\n",
    "\n",
    "for i in data:\n",
    "    weight = torch.softmax(torch.tensor(i), dim=0)\n",
    "print(weight)\n",
    "# 绘制热力图\n",
    "# sns.heatmap(data, annot=True, cmap='Blues_r', norm=LogNorm())  # 设置 norm 参数为 LogNorm 类\n",
    "# plt.show()"
   ]
  },
  {
   "cell_type": "code",
   "execution_count": 53,
   "id": "35a2f364-fcf7-472e-b098-3ccba80485ae",
   "metadata": {
    "execution": {
     "iopub.execute_input": "2024-04-02T07:40:42.679527Z",
     "iopub.status.busy": "2024-04-02T07:40:42.679218Z",
     "iopub.status.idle": "2024-04-02T07:40:42.681762Z",
     "shell.execute_reply": "2024-04-02T07:40:42.681461Z",
     "shell.execute_reply.started": "2024-04-02T07:40:42.679514Z"
    }
   },
   "outputs": [
    {
     "name": "stdout",
     "output_type": "stream",
     "text": [
      "tensor(0.2096, dtype=torch.float64)\n"
     ]
    }
   ],
   "source": [
    "a = weight[0].data\n",
    "print(a)"
   ]
  },
  {
   "cell_type": "markdown",
   "id": "3759555d-c7e7-43bd-8182-01a7d54ba90c",
   "metadata": {},
   "source": [
    "# Client Dataloader test"
   ]
  },
  {
   "cell_type": "code",
   "execution_count": 21,
   "id": "b3f45e6b-c3f3-4ab0-8eef-cb82d22708a0",
   "metadata": {
    "execution": {
     "iopub.execute_input": "2024-04-02T07:04:52.939558Z",
     "iopub.status.busy": "2024-04-02T07:04:52.939314Z",
     "iopub.status.idle": "2024-04-02T07:04:55.155901Z",
     "shell.execute_reply": "2024-04-02T07:04:55.155570Z",
     "shell.execute_reply.started": "2024-04-02T07:04:52.939545Z"
    }
   },
   "outputs": [],
   "source": [
    "train_loader_list = []\n",
    "test_loader_list = []\n",
    "for idx in range(client_num):\n",
    "    \n",
    "    dataidxs = net_dataidx_map[idx]\n",
    "    if net_dataidx_map_test is None:\n",
    "        dataidx_test = None \n",
    "    else:\n",
    "        dataidxs_test = net_dataidx_map_test[idx]\n",
    "\n",
    "    train_dl_local, test_dl_local, train_ds_local, test_ds_local = get_dataloader(dataset, \n",
    "                                                                   data_path, train_batch, test_batch, \n",
    "                                                                   dataidxs, dataidxs_test)\n",
    "    train_loader_list.append(train_dl_local)\n",
    "    test_loader_list.append(test_dl_local)\n"
   ]
  },
  {
   "cell_type": "markdown",
   "id": "d8ff07b3-e017-4ab1-838b-b45ca10524ca",
   "metadata": {},
   "source": [
    "# 圖像測試"
   ]
  },
  {
   "cell_type": "code",
   "execution_count": 112,
   "id": "5064f799-503b-49a0-a32c-1acbd82f9f51",
   "metadata": {
    "execution": {
     "iopub.execute_input": "2024-04-05T13:52:05.429887Z",
     "iopub.status.busy": "2024-04-05T13:52:05.429674Z",
     "iopub.status.idle": "2024-04-05T13:52:05.432875Z",
     "shell.execute_reply": "2024-04-05T13:52:05.432503Z",
     "shell.execute_reply.started": "2024-04-05T13:52:05.429870Z"
    }
   },
   "outputs": [],
   "source": [
    "import pickle\n",
    "def unpickle(file):\n",
    "    with open(file, 'rb') as fo:\n",
    "        dict = pickle.load(fo, encoding='latin1')\n",
    "    return dict\n",
    "    \n",
    "file = \"./data/cifar-100-python/meta\"\n",
    "dict = unpickle(file)"
   ]
  },
  {
   "cell_type": "code",
   "execution_count": 113,
   "id": "33bebf89-18ca-4b05-8045-6ae44b82fd24",
   "metadata": {
    "execution": {
     "iopub.execute_input": "2024-04-05T13:52:05.801713Z",
     "iopub.status.busy": "2024-04-05T13:52:05.801489Z",
     "iopub.status.idle": "2024-04-05T13:52:05.804504Z",
     "shell.execute_reply": "2024-04-05T13:52:05.804106Z",
     "shell.execute_reply.started": "2024-04-05T13:52:05.801695Z"
    }
   },
   "outputs": [],
   "source": [
    "label_name = {i : \"\" for i in range(100)}\n",
    "\n",
    "for id, name in enumerate(dict[\"fine_label_names\"]):\n",
    "    label_name[id] = name"
   ]
  },
  {
   "cell_type": "code",
   "execution_count": 117,
   "id": "4e52de2c-64ce-4424-8568-17426f78884d",
   "metadata": {
    "execution": {
     "iopub.execute_input": "2024-04-05T13:52:43.354459Z",
     "iopub.status.busy": "2024-04-05T13:52:43.354294Z",
     "iopub.status.idle": "2024-04-05T13:52:43.357732Z",
     "shell.execute_reply": "2024-04-05T13:52:43.357226Z",
     "shell.execute_reply.started": "2024-04-05T13:52:43.354447Z"
    }
   },
   "outputs": [],
   "source": [
    "import torchvision.transforms as transforms\n",
    "from PIL import Image\n",
    "import matplotlib.pyplot as plt\n",
    "\n",
    "\n",
    "X_train = train_ds.data\n",
    "y_train = train_ds.target\n",
    "\n",
    "# X_train_id = np.where(y_train == 1)[0]\n",
    "\n",
    "def show_img(value):\n",
    "    id = int(slider.value)\n",
    "    # id = X_train_id[id]\n",
    "    img1 = X_train[id]\n",
    "    tensor_to_pil = transforms.ToPILImage()\n",
    "    img1 = tensor_to_pil(img1)\n",
    "    fig, axes = plt.subplots(1, 1, figsize=(10, 4))\n",
    "    axes.imshow(img1)\n",
    "    plt.title(label_name[y_train[id]])\n",
    "    plt.show()"
   ]
  },
  {
   "cell_type": "code",
   "execution_count": 118,
   "id": "3a20153d-c5f8-4003-864a-49d93853414a",
   "metadata": {
    "execution": {
     "iopub.execute_input": "2024-04-05T13:52:44.302054Z",
     "iopub.status.busy": "2024-04-05T13:52:44.301812Z",
     "iopub.status.idle": "2024-04-05T13:52:44.307150Z",
     "shell.execute_reply": "2024-04-05T13:52:44.306773Z",
     "shell.execute_reply.started": "2024-04-05T13:52:44.302036Z"
    }
   },
   "outputs": [],
   "source": [
    "import ipywidgets as widgets\n",
    "import matplotlib.pyplot as plt\n",
    "from ipywidgets import interact\n",
    "from PIL import Image\n",
    "\n",
    "slider = widgets.FloatSlider(\n",
    "    value=0,\n",
    "    min=0,\n",
    "    max=10000,\n",
    "    step=1,\n",
    "    description='Image:'\n",
    ")"
   ]
  },
  {
   "cell_type": "code",
   "execution_count": 119,
   "id": "d5a8a420-d584-49e7-bf51-30da9bf7c4d5",
   "metadata": {
    "execution": {
     "iopub.execute_input": "2024-04-05T13:52:44.860299Z",
     "iopub.status.busy": "2024-04-05T13:52:44.859981Z",
     "iopub.status.idle": "2024-04-05T13:52:44.863457Z",
     "shell.execute_reply": "2024-04-05T13:52:44.863131Z",
     "shell.execute_reply.started": "2024-04-05T13:52:44.860281Z"
    }
   },
   "outputs": [
    {
     "data": {
      "application/vnd.jupyter.widget-view+json": {
       "model_id": "1474fb0258fc4ad0a43094c0e051da20",
       "version_major": 2,
       "version_minor": 0
      },
      "text/plain": [
       "FloatSlider(value=0.0, description='Image:', max=10000.0, step=1.0)"
      ]
     },
     "metadata": {},
     "output_type": "display_data"
    }
   ],
   "source": [
    "slider.observe(show_img, names='value')\n",
    "display(slider)"
   ]
  },
  {
   "cell_type": "markdown",
   "id": "f66c70ac-b2f8-4bb1-86cb-5f7732f19c5d",
   "metadata": {
    "jp-MarkdownHeadingCollapsed": true
   },
   "source": [
    "# Batch 訓練測試"
   ]
  },
  {
   "cell_type": "code",
   "execution_count": 22,
   "id": "d7b84bcf-70e2-4dcf-a41f-3ffc1ed125de",
   "metadata": {
    "execution": {
     "iopub.execute_input": "2024-04-02T07:04:58.417234Z",
     "iopub.status.busy": "2024-04-02T07:04:58.417076Z",
     "iopub.status.idle": "2024-04-02T07:04:58.419079Z",
     "shell.execute_reply": "2024-04-02T07:04:58.418852Z",
     "shell.execute_reply.started": "2024-04-02T07:04:58.417222Z"
    }
   },
   "outputs": [],
   "source": [
    "num_batch = 0\n",
    "for i in train_loader_list:\n",
    "    if num_batch < len(i):\n",
    "        num_batch = len(i)"
   ]
  },
  {
   "cell_type": "code",
   "execution_count": 26,
   "id": "57649d78-aaff-4cc1-be62-416c8548c0bb",
   "metadata": {
    "execution": {
     "iopub.execute_input": "2024-04-02T07:09:55.857002Z",
     "iopub.status.busy": "2024-04-02T07:09:55.856850Z",
     "iopub.status.idle": "2024-04-02T07:09:56.334010Z",
     "shell.execute_reply": "2024-04-02T07:09:56.333713Z",
     "shell.execute_reply.started": "2024-04-02T07:09:55.856991Z"
    },
    "scrolled": true
   },
   "outputs": [
    {
     "name": "stdout",
     "output_type": "stream",
     "text": [
      "tensor([[nan, nan, nan,  ..., nan, nan, nan],\n",
      "        [nan, nan, nan,  ..., nan, nan, nan],\n",
      "        [nan, nan, nan,  ..., nan, nan, nan],\n",
      "        ...,\n",
      "        [nan, nan, nan,  ..., nan, nan, nan],\n",
      "        [nan, nan, nan,  ..., nan, nan, nan],\n",
      "        [nan, nan, nan,  ..., nan, nan, nan]], device='cuda:0',\n",
      "       grad_fn=<AddmmBackward0>)\n",
      "tensor([[nan, nan, nan,  ..., nan, nan, nan],\n",
      "        [nan, nan, nan,  ..., nan, nan, nan],\n",
      "        [nan, nan, nan,  ..., nan, nan, nan],\n",
      "        ...,\n",
      "        [nan, nan, nan,  ..., nan, nan, nan],\n",
      "        [nan, nan, nan,  ..., nan, nan, nan],\n",
      "        [nan, nan, nan,  ..., nan, nan, nan]], device='cuda:0',\n",
      "       grad_fn=<AddmmBackward0>)\n",
      "tensor([[nan, nan, nan,  ..., nan, nan, nan],\n",
      "        [nan, nan, nan,  ..., nan, nan, nan],\n",
      "        [nan, nan, nan,  ..., nan, nan, nan],\n",
      "        ...,\n",
      "        [nan, nan, nan,  ..., nan, nan, nan],\n",
      "        [nan, nan, nan,  ..., nan, nan, nan],\n",
      "        [nan, nan, nan,  ..., nan, nan, nan]], device='cuda:0',\n",
      "       grad_fn=<AddmmBackward0>)\n",
      "tensor([[nan, nan, nan,  ..., nan, nan, nan],\n",
      "        [nan, nan, nan,  ..., nan, nan, nan],\n",
      "        [nan, nan, nan,  ..., nan, nan, nan],\n",
      "        ...,\n",
      "        [nan, nan, nan,  ..., nan, nan, nan],\n",
      "        [nan, nan, nan,  ..., nan, nan, nan],\n",
      "        [nan, nan, nan,  ..., nan, nan, nan]], device='cuda:0',\n",
      "       grad_fn=<AddmmBackward0>)\n",
      "tensor([[nan, nan, nan,  ..., nan, nan, nan],\n",
      "        [nan, nan, nan,  ..., nan, nan, nan],\n",
      "        [nan, nan, nan,  ..., nan, nan, nan],\n",
      "        ...,\n",
      "        [nan, nan, nan,  ..., nan, nan, nan],\n",
      "        [nan, nan, nan,  ..., nan, nan, nan],\n",
      "        [nan, nan, nan,  ..., nan, nan, nan]], device='cuda:0',\n",
      "       grad_fn=<AddmmBackward0>)\n"
     ]
    }
   ],
   "source": [
    "data_count = []\n",
    "num_batch = 300\n",
    "for client_id in range(client_num):\n",
    "    count = 0\n",
    "    \n",
    "    # p_bar = tqdm(range(num_batch))\n",
    "    batch = iter(train_loader_list[client_id])\n",
    "    for i in range(num_batch):\n",
    "        try:\n",
    "            img1, img2, target = next(batch)\n",
    "            \n",
    "        except StopIteration:\n",
    "            batch = iter(train_loader_list[client_id])\n",
    "            img1, img2 = next(batch)\n",
    "\n",
    "        img1, img2 = img1.cuda(), img2.cuda()\n",
    "        online_proj_one, online_proj_two, target_proj_one, target_proj_two = client_models[0](img1, img2)\n",
    "\n",
    "        print(online_proj_one)\n",
    "        break\n",
    "        count += img1.size(0)\n",
    "        # p_bar.update()\n",
    "    data_count.append(count)\n",
    "    # p_bar.close()\n"
   ]
  },
  {
   "cell_type": "code",
   "execution_count": null,
   "id": "d91927a7-1c22-4ae7-a973-aa8ee88ffeba",
   "metadata": {},
   "outputs": [],
   "source": []
  }
 ],
 "metadata": {
  "kernelspec": {
   "display_name": "Python [conda env:.conda-splitfedssl]",
   "language": "python",
   "name": "conda-env-.conda-splitfedssl-py"
  },
  "language_info": {
   "codemirror_mode": {
    "name": "ipython",
    "version": 3
   },
   "file_extension": ".py",
   "mimetype": "text/x-python",
   "name": "python",
   "nbconvert_exporter": "python",
   "pygments_lexer": "ipython3",
   "version": "3.7.16"
  }
 },
 "nbformat": 4,
 "nbformat_minor": 5
}
