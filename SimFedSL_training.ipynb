{
 "cells": [
  {
   "cell_type": "code",
   "execution_count": 1,
   "metadata": {
    "execution": {
     "iopub.execute_input": "2024-03-31T11:19:02.073053Z",
     "iopub.status.busy": "2024-03-31T11:19:02.072975Z",
     "iopub.status.idle": "2024-03-31T11:19:03.024986Z",
     "shell.execute_reply": "2024-03-31T11:19:03.024677Z",
     "shell.execute_reply.started": "2024-03-31T11:19:02.073044Z"
    },
    "id": "UBt1XYXhaqmG",
    "tags": []
   },
   "outputs": [],
   "source": [
    "import os\n",
    "os.environ[\"CUDA_VISIBLE_DEVICES\"] = \"0\"\n",
    "from functools import wraps\n",
    "import numpy as np\n",
    "import copy\n",
    "import random\n",
    "from torchvision import transforms, utils, datasets\n",
    "from utils.utils import *\n",
    "from utils.training import *\n",
    "# from utils.training_batch import *\n",
    "from utils.model import *\n",
    "from utils.BYOL_models import *\n",
    "from utils.similarity import *\n",
    "\n",
    "import seaborn as sns\n",
    "import matplotlib.pyplot as plt"
   ]
  },
  {
   "cell_type": "code",
   "execution_count": 2,
   "metadata": {
    "execution": {
     "iopub.execute_input": "2024-03-31T11:19:03.025735Z",
     "iopub.status.busy": "2024-03-31T11:19:03.025597Z",
     "iopub.status.idle": "2024-03-31T11:19:03.027453Z",
     "shell.execute_reply": "2024-03-31T11:19:03.027198Z",
     "shell.execute_reply.started": "2024-03-31T11:19:03.025724Z"
    },
    "id": "80RsLgxtasod",
    "tags": []
   },
   "outputs": [],
   "source": [
    "# set manual seed for reproducibility\n",
    "seed = 1234"
   ]
  },
  {
   "cell_type": "code",
   "execution_count": 3,
   "metadata": {
    "colab": {
     "base_uri": "https://localhost:8080/"
    },
    "execution": {
     "iopub.execute_input": "2024-03-31T11:19:03.027787Z",
     "iopub.status.busy": "2024-03-31T11:19:03.027711Z",
     "iopub.status.idle": "2024-03-31T11:19:03.039435Z",
     "shell.execute_reply": "2024-03-31T11:19:03.039223Z",
     "shell.execute_reply.started": "2024-03-31T11:19:03.027779Z"
    },
    "id": "iIARTSyVa0xH",
    "outputId": "7103c049-17fa-4339-a8a2-d2884cac6bf3",
    "tags": []
   },
   "outputs": [
    {
     "data": {
      "text/plain": [
       "<torch._C.Generator at 0x7f0a317feb50>"
      ]
     },
     "execution_count": 3,
     "metadata": {},
     "output_type": "execute_result"
    }
   ],
   "source": [
    "# general reproducibility\n",
    "random.seed(seed)\n",
    "np.random.seed(seed)\n",
    "torch.manual_seed(seed)"
   ]
  },
  {
   "cell_type": "code",
   "execution_count": 4,
   "metadata": {
    "execution": {
     "iopub.execute_input": "2024-03-31T11:19:03.039791Z",
     "iopub.status.busy": "2024-03-31T11:19:03.039712Z",
     "iopub.status.idle": "2024-03-31T11:19:03.041347Z",
     "shell.execute_reply": "2024-03-31T11:19:03.041150Z",
     "shell.execute_reply.started": "2024-03-31T11:19:03.039783Z"
    },
    "id": "Vv3ALBpva13d",
    "tags": []
   },
   "outputs": [],
   "source": [
    "# gpu training specific\n",
    "torch.backends.cudnn.deterministic = True\n",
    "torch.backends.cudnn.benchmark = False"
   ]
  },
  {
   "cell_type": "code",
   "execution_count": 5,
   "metadata": {
    "execution": {
     "iopub.execute_input": "2024-03-31T11:19:03.041651Z",
     "iopub.status.busy": "2024-03-31T11:19:03.041577Z",
     "iopub.status.idle": "2024-03-31T11:19:03.043321Z",
     "shell.execute_reply": "2024-03-31T11:19:03.043115Z",
     "shell.execute_reply.started": "2024-03-31T11:19:03.041644Z"
    }
   },
   "outputs": [],
   "source": [
    "# ('mnist', 'femnist', 'fmnist', 'cifar10', 'cifar100', 'svhn')\n",
    "data_path = \"./data\"\n",
    "dataset = \"cifar10\"\n",
    "# ('noniid-labeldir', 'noniid-label#2', 'noniid-label#3','iid', 'default') default only for femnist\n",
    "partition = \"noniid-label#2\"\n",
    "client_num = 5\n",
    "batch_size = 32\n",
    "test_batch = 250\n",
    "sim_weight = False"
   ]
  },
  {
   "cell_type": "code",
   "execution_count": 6,
   "metadata": {
    "execution": {
     "iopub.execute_input": "2024-03-31T11:19:03.043757Z",
     "iopub.status.busy": "2024-03-31T11:19:03.043655Z",
     "iopub.status.idle": "2024-03-31T11:19:03.046022Z",
     "shell.execute_reply": "2024-03-31T11:19:03.045760Z",
     "shell.execute_reply.started": "2024-03-31T11:19:03.043747Z"
    },
    "tags": []
   },
   "outputs": [],
   "source": [
    "# Hyperparameters_List (H) = [rounds, number_of_clients, number_of_training_rounds_local, local_batch_size, lr_client, aggregation_frequence]\n",
    "\n",
    "global_epochs = 1000\n",
    "# global_epochs = 3\n",
    "lr = 3e-4\n",
    "dirichlet_beta = 0.4\n",
    "norm = 'bn'\n",
    "# every (avg_freq) epochs doing one aggregation\n",
    "avg_freq = 10\n",
    "# avg_freq = \"exp\"\n",
    "\n",
    "# save_path = f\"./model/SplitFSSLMaxpool_resnet18/resnet18Maxpooling_cifar10_{batch_size}_{partition}_{client_num}\"\n",
    "# save_path = f\"./model/SplitFSSL_BYOL_Avg25times/resnet18Maxpooling_cifar10_{batch_size}_{avg_freq}_{partition}_{client_num}\"\n",
    "# save_path = f\"./model/SplitFSSL_BYOL32_DifAvgtimes_0229/resnet18Maxpooling_{dataset}_{batch_size}_{avg_freq}_{partition}_{client_num}\"\n",
    "save_path = f\"./model/SimFedSL_similarity/resnet18Maxpooling_sim_weight({sim_weight})_{dataset}_{batch_size}_{avg_freq}_{partition}_{client_num}\"\n",
    "H = [global_epochs, client_num, batch_size, lr, avg_freq]"
   ]
  },
  {
   "cell_type": "code",
   "execution_count": 7,
   "metadata": {
    "execution": {
     "iopub.execute_input": "2024-03-31T11:19:03.046976Z",
     "iopub.status.busy": "2024-03-31T11:19:03.046871Z",
     "iopub.status.idle": "2024-03-31T11:19:07.669491Z",
     "shell.execute_reply": "2024-03-31T11:19:07.669182Z",
     "shell.execute_reply.started": "2024-03-31T11:19:03.046966Z"
    },
    "tags": []
   },
   "outputs": [
    {
     "name": "stdout",
     "output_type": "stream",
     "text": [
      "Files already downloaded and verified\n",
      "Files already downloaded and verified\n",
      "partition: noniid-label#2\n",
      "Data statistics Train: {0: {8: 5000, 9: 5000}, 1: {2: 5000, 3: 5000}, 2: {4: 5000, 5: 5000}, 3: {6: 5000, 7: 5000}, 4: {0: 5000, 1: 5000}}\n",
      "Data statistics Test:\n",
      " {0: {8: 1000, 9: 1000}, 1: {2: 1000, 3: 1000}, 2: {4: 1000, 5: 1000}, 3: {6: 1000, 7: 1000}, 4: {0: 1000, 1: 1000}} \n",
      "\n",
      "Files already downloaded and verified\n",
      "Files already downloaded and verified\n",
      "Shared data has label: 0, 250 samples\n",
      "Shared data has label: 1, 250 samples\n",
      "Shared data has label: 2, 250 samples\n",
      "Shared data has label: 3, 250 samples\n",
      "Shared data has label: 4, 250 samples\n",
      "Shared data has label: 5, 250 samples\n",
      "Shared data has label: 6, 250 samples\n",
      "Shared data has label: 7, 250 samples\n",
      "Shared data has label: 8, 250 samples\n",
      "Shared data has label: 9, 250 samples\n"
     ]
    }
   ],
   "source": [
    "# partition\n",
    "net_dataidx_map, net_dataidx_map_test, traindata_cls_counts, testdata_cls_counts = partition_data(dataset, data_path, partition, client_num)\n",
    "# get shared data idx form test data\n",
    "shared_data_idx = shared_data(dataset, data_path, 10, 2500)\n",
    "# get dataloader\n",
    "train_loader_list = []\n",
    "test_loader_list = []\n",
    "for idx in range(client_num):\n",
    "    \n",
    "    dataidxs = net_dataidx_map[idx]\n",
    "    # if net_dataidx_map_test is None:\n",
    "    #     dataidx_test = None \n",
    "    # else:\n",
    "    #     dataidxs_test = net_dataidx_map_test[idx]\n",
    "\n",
    "    train_dl_local, shared_data_loader, train_ds_local, shared_data_ds_local = get_dataloader(dataset, \n",
    "                                                                   data_path, batch_size, test_batch, \n",
    "                                                                   dataidxs, shared_data_idx)\n",
    "    train_loader_list.append(train_dl_local)\n",
    "    # test_loader_list.append(test_dl_local)\n"
   ]
  },
  {
   "cell_type": "code",
   "execution_count": 8,
   "metadata": {
    "execution": {
     "iopub.execute_input": "2024-03-31T11:19:07.669952Z",
     "iopub.status.busy": "2024-03-31T11:19:07.669865Z",
     "iopub.status.idle": "2024-03-31T11:19:07.775444Z",
     "shell.execute_reply": "2024-03-31T11:19:07.775190Z",
     "shell.execute_reply.started": "2024-03-31T11:19:07.669941Z"
    }
   },
   "outputs": [
    {
     "data": {
      "image/png": "[encoded data removed]",
      "text/plain": [
       "<Figure size 600x600 with 2 Axes>"
      ]
     },
     "metadata": {},
     "output_type": "display_data"
    }
   ],
   "source": [
    "cls_count = np.zeros([10,client_num], dtype=int)\n",
    "for k in range(client_num):\n",
    "    for i in traindata_cls_counts[k]:\n",
    "        cls_count[i][k] = traindata_cls_counts[k][i]\n",
    "\n",
    "class_names = ['airplane', 'automobile', 'bird', 'cat', 'deer', 'dog', 'frog', 'horse', 'ship', 'truck']\n",
    "plt.figure(figsize=(6,6))\n",
    "sns.heatmap(cls_count, yticklabels=class_names, square=False,annot=True,fmt='d',linecolor='white',cmap='Blues',linewidths=1.5)\n",
    "plt.xlabel('client',fontsize=20)\n",
    "plt.ylabel('class',fontsize=20)\n",
    "plt.show()"
   ]
  },
  {
   "cell_type": "code",
   "execution_count": 9,
   "metadata": {
    "execution": {
     "iopub.execute_input": "2024-03-31T11:19:07.775881Z",
     "iopub.status.busy": "2024-03-31T11:19:07.775798Z",
     "iopub.status.idle": "2024-03-31T11:19:08.411847Z",
     "shell.execute_reply": "2024-03-31T11:19:08.411481Z",
     "shell.execute_reply.started": "2024-03-31T11:19:07.775873Z"
    },
    "id": "M8EAqvNK75NR",
    "tags": []
   },
   "outputs": [],
   "source": [
    "client_model = ResNet18()\n",
    "global_model = ResNet18()\n",
    "\n",
    "client_weights = [1/5 for i in range(client_num)]\n",
    "client_simweights = [[1 for i in range(client_num)] for i in range(client_num)]\n",
    "client_models = [copy.deepcopy(client_model).cuda() for idx in range(client_num)]\n",
    "client_tempmodels = [copy.deepcopy(client_model) for idx in range(client_num)]\n",
    "# server_models = [copy.deepcopy(server_model).cuda() for idx in range(client_num)]\n",
    "\n",
    "optimizer_server = torch.optim.Adam(global_model.parameters(), lr = H[3]) \n",
    "optimizer_clients = [torch.optim.Adam(client_models[i].parameters(), lr = H[3]) for i in range(len(client_models))]"
   ]
  },
  {
   "cell_type": "code",
   "execution_count": 10,
   "metadata": {
    "execution": {
     "iopub.execute_input": "2024-03-31T11:19:08.412359Z",
     "iopub.status.busy": "2024-03-31T11:19:08.412250Z",
     "iopub.status.idle": "2024-03-31T11:19:08.414337Z",
     "shell.execute_reply": "2024-03-31T11:19:08.414100Z",
     "shell.execute_reply.started": "2024-03-31T11:19:08.412349Z"
    }
   },
   "outputs": [],
   "source": [
    "# if using checkpoint to train\n",
    "epoch = 0\n",
    "# checkpath = save_path + \"/checkpoint.pth.tar\" \n",
    "# checkpoint = torch.load(checkpath)\n",
    "# epoch = checkpoint['glepoch']\n",
    "# print(epoch)\n",
    "# optimizer_server.load_state_dict(checkpoint['optimizer'][0])\n",
    "# for localmodel in client_models:\n",
    "#     localmodel.online_encoder.load_state_dict(checkpoint['state_dict'])\n",
    "# for clientidx in range(client_num):\n",
    "#     optimizer_clients[clientidx].load_state_dict(checkpoint['optimizer'][clientidx+1])"
   ]
  },
  {
   "cell_type": "code",
   "execution_count": 11,
   "metadata": {
    "execution": {
     "iopub.execute_input": "2024-03-31T11:19:08.414803Z",
     "iopub.status.busy": "2024-03-31T11:19:08.414687Z",
     "iopub.status.idle": "2024-03-31T11:19:08.424234Z",
     "shell.execute_reply": "2024-03-31T11:19:08.423988Z",
     "shell.execute_reply.started": "2024-03-31T11:19:08.414790Z"
    },
    "scrolled": true,
    "tags": []
   },
   "outputs": [
    {
     "data": {
      "text/plain": [
       "ResNet(\n",
       "  (conv1): Conv2d(3, 64, kernel_size=(3, 3), stride=(1, 1), padding=(1, 1), bias=False)\n",
       "  (bn1): BatchNorm2d(64, eps=1e-05, momentum=0.1, affine=True, track_running_stats=True)\n",
       "  (maxpool): MaxPool2d(kernel_size=3, stride=1, padding=1, dilation=1, ceil_mode=False)\n",
       "  (layer1): Sequential(\n",
       "    (0): BasicBlock(\n",
       "      (conv1): Conv2d(64, 64, kernel_size=(3, 3), stride=(1, 1), padding=(1, 1), bias=False)\n",
       "      (bn1): BatchNorm2d(64, eps=1e-05, momentum=0.1, affine=True, track_running_stats=True)\n",
       "      (conv2): Conv2d(64, 64, kernel_size=(3, 3), stride=(1, 1), padding=(1, 1), bias=False)\n",
       "      (bn2): BatchNorm2d(64, eps=1e-05, momentum=0.1, affine=True, track_running_stats=True)\n",
       "      (shortcut): Sequential()\n",
       "    )\n",
       "    (1): BasicBlock(\n",
       "      (conv1): Conv2d(64, 64, kernel_size=(3, 3), stride=(1, 1), padding=(1, 1), bias=False)\n",
       "      (bn1): BatchNorm2d(64, eps=1e-05, momentum=0.1, affine=True, track_running_stats=True)\n",
       "      (conv2): Conv2d(64, 64, kernel_size=(3, 3), stride=(1, 1), padding=(1, 1), bias=False)\n",
       "      (bn2): BatchNorm2d(64, eps=1e-05, momentum=0.1, affine=True, track_running_stats=True)\n",
       "      (shortcut): Sequential()\n",
       "    )\n",
       "  )\n",
       "  (layer2): Sequential(\n",
       "    (0): BasicBlock(\n",
       "      (conv1): Conv2d(64, 128, kernel_size=(3, 3), stride=(2, 2), padding=(1, 1), bias=False)\n",
       "      (bn1): BatchNorm2d(128, eps=1e-05, momentum=0.1, affine=True, track_running_stats=True)\n",
       "      (conv2): Conv2d(128, 128, kernel_size=(3, 3), stride=(1, 1), padding=(1, 1), bias=False)\n",
       "      (bn2): BatchNorm2d(128, eps=1e-05, momentum=0.1, affine=True, track_running_stats=True)\n",
       "      (shortcut): Sequential(\n",
       "        (0): Conv2d(64, 128, kernel_size=(1, 1), stride=(2, 2), bias=False)\n",
       "        (1): BatchNorm2d(128, eps=1e-05, momentum=0.1, affine=True, track_running_stats=True)\n",
       "      )\n",
       "    )\n",
       "    (1): BasicBlock(\n",
       "      (conv1): Conv2d(128, 128, kernel_size=(3, 3), stride=(1, 1), padding=(1, 1), bias=False)\n",
       "      (bn1): BatchNorm2d(128, eps=1e-05, momentum=0.1, affine=True, track_running_stats=True)\n",
       "      (conv2): Conv2d(128, 128, kernel_size=(3, 3), stride=(1, 1), padding=(1, 1), bias=False)\n",
       "      (bn2): BatchNorm2d(128, eps=1e-05, momentum=0.1, affine=True, track_running_stats=True)\n",
       "      (shortcut): Sequential()\n",
       "    )\n",
       "  )\n",
       "  (layer3): Sequential(\n",
       "    (0): BasicBlock(\n",
       "      (conv1): Conv2d(128, 256, kernel_size=(3, 3), stride=(2, 2), padding=(1, 1), bias=False)\n",
       "      (bn1): BatchNorm2d(256, eps=1e-05, momentum=0.1, affine=True, track_running_stats=True)\n",
       "      (conv2): Conv2d(256, 256, kernel_size=(3, 3), stride=(1, 1), padding=(1, 1), bias=False)\n",
       "      (bn2): BatchNorm2d(256, eps=1e-05, momentum=0.1, affine=True, track_running_stats=True)\n",
       "      (shortcut): Sequential(\n",
       "        (0): Conv2d(128, 256, kernel_size=(1, 1), stride=(2, 2), bias=False)\n",
       "        (1): BatchNorm2d(256, eps=1e-05, momentum=0.1, affine=True, track_running_stats=True)\n",
       "      )\n",
       "    )\n",
       "    (1): BasicBlock(\n",
       "      (conv1): Conv2d(256, 256, kernel_size=(3, 3), stride=(1, 1), padding=(1, 1), bias=False)\n",
       "      (bn1): BatchNorm2d(256, eps=1e-05, momentum=0.1, affine=True, track_running_stats=True)\n",
       "      (conv2): Conv2d(256, 256, kernel_size=(3, 3), stride=(1, 1), padding=(1, 1), bias=False)\n",
       "      (bn2): BatchNorm2d(256, eps=1e-05, momentum=0.1, affine=True, track_running_stats=True)\n",
       "      (shortcut): Sequential()\n",
       "    )\n",
       "  )\n",
       "  (layer4): Sequential(\n",
       "    (0): BasicBlock(\n",
       "      (conv1): Conv2d(256, 512, kernel_size=(3, 3), stride=(2, 2), padding=(1, 1), bias=False)\n",
       "      (bn1): BatchNorm2d(512, eps=1e-05, momentum=0.1, affine=True, track_running_stats=True)\n",
       "      (conv2): Conv2d(512, 512, kernel_size=(3, 3), stride=(1, 1), padding=(1, 1), bias=False)\n",
       "      (bn2): BatchNorm2d(512, eps=1e-05, momentum=0.1, affine=True, track_running_stats=True)\n",
       "      (shortcut): Sequential(\n",
       "        (0): Conv2d(256, 512, kernel_size=(1, 1), stride=(2, 2), bias=False)\n",
       "        (1): BatchNorm2d(512, eps=1e-05, momentum=0.1, affine=True, track_running_stats=True)\n",
       "      )\n",
       "    )\n",
       "    (1): BasicBlock(\n",
       "      (conv1): Conv2d(512, 512, kernel_size=(3, 3), stride=(1, 1), padding=(1, 1), bias=False)\n",
       "      (bn1): BatchNorm2d(512, eps=1e-05, momentum=0.1, affine=True, track_running_stats=True)\n",
       "      (conv2): Conv2d(512, 512, kernel_size=(3, 3), stride=(1, 1), padding=(1, 1), bias=False)\n",
       "      (bn2): BatchNorm2d(512, eps=1e-05, momentum=0.1, affine=True, track_running_stats=True)\n",
       "      (shortcut): Sequential()\n",
       "    )\n",
       "  )\n",
       "  (avgpool): AvgPool2d(kernel_size=(4, 4), stride=(4, 4), padding=0)\n",
       "  (fc): Linear(in_features=512, out_features=10, bias=True)\n",
       ")"
      ]
     },
     "execution_count": 11,
     "metadata": {},
     "output_type": "execute_result"
    }
   ],
   "source": [
    "client_model"
   ]
  },
  {
   "cell_type": "code",
   "execution_count": 12,
   "metadata": {
    "execution": {
     "iopub.execute_input": "2024-03-31T11:19:08.424680Z",
     "iopub.status.busy": "2024-03-31T11:19:08.424579Z",
     "iopub.status.idle": "2024-03-31T11:19:08.436011Z",
     "shell.execute_reply": "2024-03-31T11:19:08.435771Z",
     "shell.execute_reply.started": "2024-03-31T11:19:08.424671Z"
    }
   },
   "outputs": [],
   "source": [
    "def training(client_models, server_model, optimizer_server, optimizer_clients, rounds, batch_size, avg_freq):\n",
    "   \n",
    "    # training loss\n",
    "    train_loss = []\n",
    "    test_loss = []\n",
    "    test_accuracy = []\n",
    "    best_accuracy = 0\n",
    "    avg_times = 0\n",
    "    # measure time\n",
    "    start = time.time()\n",
    "    \n",
    "    \n",
    "    writer = SummaryWriter(f'logs/SimFedSL_similarity/resnet18Maxpooling_cifar10_{batch_size}_{avg_freq}_{partition}_{client_num}')\n",
    "    # writer = SummaryWriter(f'logs/SplitFSSL_BYOL_Avg25times/resnet18Maxpooling_cifar10_{batch_size}_{avg_freq}_{partition}_{client_num}')\n",
    "    global_step = 0\n",
    "    for curr_round in range(epoch, rounds):\n",
    "        metrics = defaultdict(list)\n",
    "        print(f\"Global Round:\", curr_round)\n",
    "        w, local_loss = [], []\n",
    "        \n",
    "        num_batch = 0\n",
    "        for i in train_loader_list:\n",
    "            if num_batch < len(i):\n",
    "                num_batch = len(i)\n",
    "                \n",
    "        train_iter = []\n",
    "        for i in train_loader_list:\n",
    "            train_iter.append(iter(i))\n",
    "            \n",
    "        batch_time = AverageMeter()\n",
    "        data_time = AverageMeter()\n",
    "        p_bar = tqdm(range(num_batch))\n",
    "\n",
    "        # 聚合頻率參數成指數成長\n",
    "        # alpha = expavg_times(curr_round)\n",
    "        # 聚合頻率參數線性數成長\n",
    "        # alpha = linear_growth(curr_round)\n",
    "        # 聚合頻率參數成固定參數\n",
    "        alpha = avg_freq\n",
    "        \n",
    "        for batch in range(num_batch):\n",
    "            # print(\"0>\", time.time() - start)\n",
    "            optimizer_zero_grads(optimizer_server, optimizer_clients)\n",
    "            # client forward\n",
    "            # select 5 client to join training\n",
    "            s_clients = []\n",
    "            s_clients = range(client_num)\n",
    "            # s_clients = random.sample(range(client_num), 6)\n",
    "            # print(\"1>\", time.time() - start)\n",
    "            for i, client_id in enumerate(s_clients):\n",
    "                # print(\"Client: \",i)\n",
    "                # Compute a local update\n",
    "                # print(i, \"0>\", time.time() - start)\n",
    "                img1, img2, labels = next_data_batch(train_iter[client_id], train_loader_list[client_id])\n",
    "                \n",
    "                img1 = img1.cuda()\n",
    "                img2 = img2.cuda()\n",
    "                labels = labels.cuda()\n",
    "                data_time.update(time.time() - start)\n",
    "                # print(i, \"1>\", time.time() - start)\n",
    "                # pass to client model\n",
    "                # print(\"pass to client model\")\n",
    "                client_models[client_id].train()\n",
    "                # print(i, \"2>\", time.time() - start)\n",
    "                out = client_models[client_id](img1)\n",
    "                # print(i, \"3>\", time.time() - start)\n",
    "                loss = F.cross_entropy(out, labels)\n",
    "                local_loss.append((loss.item()))\n",
    "                \n",
    "                loss.backward()\n",
    "                optimizer_clients[client_id].step()\n",
    "           \n",
    "            del img1, img2\n",
    "            writer.add_scalar(\"Loss/train_step\", loss, global_step)\n",
    "            metrics[\"Loss/train\"].append(loss.item())\n",
    "            global_step += 1\n",
    "            \n",
    "            batch_time.update(time.time() - start)\n",
    "            start = time.time()\n",
    "            #=======================================set p_bar description=======================================================\n",
    "            p_bar.set_description(\"Train Epoch: {epoch}/{epochs:4}. Iter: {batch:4}/{iter:4}. Data: {data:.3f}s. alpha: {ep_alpha}. Batch: {bt:.3f}s. Loss: {loss:.4f}.\".format(\n",
    "                    epoch=curr_round,\n",
    "                    epochs=rounds,\n",
    "                    batch=batch + 1,\n",
    "                    iter=num_batch,\n",
    "                    data=data_time.avg,\n",
    "                    ep_alpha = alpha,\n",
    "                    bt=batch_time.avg,\n",
    "                    loss=loss.item()))\n",
    "            p_bar.update()\n",
    "            #=======================================set p_bar description=======================================================\n",
    "            # in 32 batch size will have 250 batches, if aggregate per 10 batches will have 25 aggerations in one epoch\n",
    "            # in 64 batch size will have 125 batches, if aggregate per 5 batches will have 25 aggerations in one epoch\n",
    "            if batch == num_batch - 1 or ((batch+1) % alpha == 0):\n",
    "                \n",
    "                # calculate similarity matrix\n",
    "                if avg_times % 10 == 0:\n",
    "                    clients_similarity, mat_sim, A = similarity_mat(save_path, curr_round, avg_times, s_clients, client_models, shared_data_loader, \n",
    "                                                                nclasses=10, nsamples=2500)\n",
    "                    for i in range(client_num):\n",
    "                        for k, w in enumerate(clients_similarity[i]):\n",
    "                            client_simweights[i][k] = w / np.sum(clients_similarity[i])\n",
    "                    \n",
    "                \n",
    "                # print(\"aggregate batch\", batch)\n",
    "                avg_times += 1\n",
    "                with torch.no_grad():\n",
    "                    # aggregate client models\n",
    "                    for key in global_model.state_dict().keys():\n",
    "                        # num_batches_tracked is a non trainable LongTensor and\n",
    "                        # num_batches_tracked are the same for all clients for the given datasets\n",
    "                        if \"running\" in key or \"num_batches\" in key:\n",
    "                            continue\n",
    "                        # elif 'target' in key:\n",
    "                        #     continue\n",
    "                        elif sim_weight:\n",
    "                            temp = torch.zeros_like(global_model.state_dict()[key]).to('cuda')\n",
    "                            for client_idx in s_clients:\n",
    "                                for i in s_clients:\n",
    "                                    temp += client_simweights[client_idx][i] * client_models[client_idx].state_dict()[key]                        \n",
    "                                client_tempmodels[client_idx].state_dict()[key].data.copy_(temp)\n",
    "                            for client_idx in s_clients:\n",
    "                                client_models[client_idx].state_dict()[key].data.copy_(client_tempmodels[client_idx].state_dict()[key])\n",
    "                            \n",
    "                        \n",
    "                        else:\n",
    "                            temp = torch.zeros_like(global_model.state_dict()[key]).to('cuda')\n",
    "                            for client_idx in s_clients:\n",
    "                                temp += client_weights[client_idx] * client_models[client_idx].state_dict()[key]                        \n",
    "                            global_model.state_dict()[key].data.copy_(temp)\n",
    "                            for client_idx in range(len(client_models)):\n",
    "                                # temp = 0.8 * client_model.state_dict()[key].to('cuda') + 0.2 * client_models[client_idx].state_dict()[key]\n",
    "                                # client_models[client_idx].state_dict()[key].data.copy_(temp)\n",
    "                                client_models[client_idx].state_dict()[key].data.copy_(global_model.state_dict()[key])\n",
    "        \n",
    "        \n",
    "        p_bar.close()\n",
    "        # scheduler_server.step()\n",
    "        for k, v in metrics.items():\n",
    "            writer.add_scalar(k, np.array(v).mean(), curr_round)\n",
    "\n",
    "\n",
    "        # loss\n",
    "        loss_avg = sum(local_loss) / len(local_loss)\n",
    "        train_loss.append(loss_avg)\n",
    "        if curr_round % 5 == 0:\n",
    "            optimizer_dict = []\n",
    "            optimizer_dict.append(optimizer_server.state_dict())\n",
    "            for client_idx in range(client_num):\n",
    "                optimizer_dict.append(optimizer_clients[client_idx].state_dict())\n",
    "            if sim_weight:\n",
    "                state_dict = []\n",
    "                for cid in range(client_num):\n",
    "                    state_dict.append(client_models[cid].cpu().state_dict())\n",
    "                    client_models[cid].to('cuda')\n",
    "            else:\n",
    "                state_dict = global_model.cpu().state_dict()\n",
    "            save_checkpoint({\n",
    "                'glepoch': curr_round+1,\n",
    "                'state_dict': state_dict,\n",
    "                'optimizer': optimizer_dict,\n",
    "            }, save_path)\n",
    "        if curr_round % 100 == 0:\n",
    "            if sim_weight:\n",
    "                if not os.path.exists(save_path + f\"/epoch_{curr_round}\"):\n",
    "                    os.makedirs(save_path + f\"/epoch_{curr_round}\")\n",
    "                for cid in range(client_num):\n",
    "                    torch.save(client_models[cid].cpu().state_dict(), save_path + f\"/epoch_{curr_round}/client_{cid}.pt\")\n",
    "                    client_models[cid].to('cuda')      \n",
    "            else:\n",
    "                torch.save(global_model.cpu().state_dict(), save_path + f\"_{curr_round}_epoch.pt\")\n",
    "        \n",
    "        \n",
    "        print(f\"Global round: {curr_round} | Average loss: {loss_avg}\")\n",
    "        # print('best_accuracy:', best_accuracy, '---Round:', curr_round, '---lr', lr, '----localEpocs--', E)\n",
    "\n",
    "    end = time.time()\n",
    "   \n",
    "    print(\"Training Done!\")\n",
    "    print(\"Total time taken to Train: {}\".format(end - start))\n",
    "    print(f\"Total average times : {avg_times}\")\n",
    "\n",
    "    return client_model, train_loss"
   ]
  },
  {
   "cell_type": "code",
   "execution_count": 13,
   "metadata": {
    "colab": {
     "base_uri": "https://localhost:8080/"
    },
    "execution": {
     "iopub.execute_input": "2024-03-31T11:19:08.436336Z",
     "iopub.status.busy": "2024-03-31T11:19:08.436256Z",
     "iopub.status.idle": "2024-03-31T11:19:08.438110Z",
     "shell.execute_reply": "2024-03-31T11:19:08.437868Z",
     "shell.execute_reply.started": "2024-03-31T11:19:08.436326Z"
    },
    "id": "fNqdWcj6d-75",
    "outputId": "27e28498-a3e7-47ef-977b-0f935619d113",
    "tags": []
   },
   "outputs": [
    {
     "name": "stdout",
     "output_type": "stream",
     "text": [
      "./model/SimFedSL_similarity/resnet18Maxpooling_sim_weight(False)_cifar10_32_10_noniid-label#2_5\n"
     ]
    }
   ],
   "source": [
    "# plot_str = partition + '_' + norm + '_' + 'comm_rounds_' + str(global_epochs) + '_numclients_' + str(client_num) + '_clientbs_' + str(batch_size) + '_clientLR_' + str(lr)\n",
    "print(save_path)"
   ]
  },
  {
   "cell_type": "code",
   "execution_count": 14,
   "metadata": {
    "colab": {
     "base_uri": "https://localhost:8080/"
    },
    "execution": {
     "iopub.execute_input": "2024-03-31T11:19:08.438483Z",
     "iopub.status.busy": "2024-03-31T11:19:08.438390Z",
     "iopub.status.idle": "2024-03-31T11:19:10.812385Z",
     "shell.execute_reply": "2024-03-31T11:19:10.812059Z",
     "shell.execute_reply.started": "2024-03-31T11:19:08.438474Z"
    },
    "id": "g3tMYpDoerta",
    "outputId": "45a7d097-04fc-4a86-e139-8dc7ab3faeb4",
    "scrolled": true,
    "tags": []
   },
   "outputs": [
    {
     "name": "stdout",
     "output_type": "stream",
     "text": [
      "Global Round: 0\n"
     ]
    },
    {
     "name": "stderr",
     "output_type": "stream",
     "text": [
      "Train Epoch: 0/1000. Iter:   10/ 312. Data: 0.127s. alpha: 10. Batch: 0.225s. Loss: 0.7660.:   3%| | 10/312 [00:02<00:54,  5."
     ]
    },
    {
     "ename": "AttributeError",
     "evalue": "'ResNet' object has no attribute 'online_encoder'",
     "output_type": "error",
     "traceback": [
      "\u001b[0;31m---------------------------------------------------------------------------\u001b[0m",
      "\u001b[0;31mAttributeError\u001b[0m                            Traceback (most recent call last)",
      "\u001b[0;32m/tmp/ipykernel_2803139/3207063268.py\u001b[0m in \u001b[0;36m<module>\u001b[0;34m\u001b[0m\n\u001b[0;32m----> 1\u001b[0;31m \u001b[0mclient_models\u001b[0m\u001b[0;34m,\u001b[0m \u001b[0mtrain_loss\u001b[0m \u001b[0;34m=\u001b[0m \u001b[0mtraining\u001b[0m\u001b[0;34m(\u001b[0m\u001b[0mclient_models\u001b[0m\u001b[0;34m,\u001b[0m \u001b[0mglobal_model\u001b[0m\u001b[0;34m,\u001b[0m \u001b[0moptimizer_server\u001b[0m\u001b[0;34m,\u001b[0m \u001b[0moptimizer_clients\u001b[0m\u001b[0;34m,\u001b[0m \u001b[0mH\u001b[0m\u001b[0;34m[\u001b[0m\u001b[0;36m0\u001b[0m\u001b[0;34m]\u001b[0m\u001b[0;34m,\u001b[0m \u001b[0mH\u001b[0m\u001b[0;34m[\u001b[0m\u001b[0;36m2\u001b[0m\u001b[0;34m]\u001b[0m\u001b[0;34m,\u001b[0m \u001b[0mH\u001b[0m\u001b[0;34m[\u001b[0m\u001b[0;36m4\u001b[0m\u001b[0;34m]\u001b[0m\u001b[0;34m)\u001b[0m\u001b[0;34m\u001b[0m\u001b[0;34m\u001b[0m\u001b[0m\n\u001b[0m",
      "\u001b[0;32m/tmp/ipykernel_2803139/2148098564.py\u001b[0m in \u001b[0;36mtraining\u001b[0;34m(client_models, server_model, optimizer_server, optimizer_clients, rounds, batch_size, avg_freq)\u001b[0m\n\u001b[1;32m     97\u001b[0m                 \u001b[0;32mif\u001b[0m \u001b[0mavg_times\u001b[0m \u001b[0;34m%\u001b[0m \u001b[0;36m10\u001b[0m \u001b[0;34m==\u001b[0m \u001b[0;36m0\u001b[0m\u001b[0;34m:\u001b[0m\u001b[0;34m\u001b[0m\u001b[0;34m\u001b[0m\u001b[0m\n\u001b[1;32m     98\u001b[0m                     clients_similarity, mat_sim, A = similarity_mat(save_path, curr_round, avg_times, s_clients, client_models, shared_data_loader, \n\u001b[0;32m---> 99\u001b[0;31m                                                                 nclasses=10, nsamples=2500)\n\u001b[0m\u001b[1;32m    100\u001b[0m                     \u001b[0;32mfor\u001b[0m \u001b[0mi\u001b[0m \u001b[0;32min\u001b[0m \u001b[0mrange\u001b[0m\u001b[0;34m(\u001b[0m\u001b[0mclient_num\u001b[0m\u001b[0;34m)\u001b[0m\u001b[0;34m:\u001b[0m\u001b[0;34m\u001b[0m\u001b[0;34m\u001b[0m\u001b[0m\n\u001b[1;32m    101\u001b[0m                         \u001b[0;32mfor\u001b[0m \u001b[0mk\u001b[0m\u001b[0;34m,\u001b[0m \u001b[0mw\u001b[0m \u001b[0;32min\u001b[0m \u001b[0menumerate\u001b[0m\u001b[0;34m(\u001b[0m\u001b[0mclients_similarity\u001b[0m\u001b[0;34m[\u001b[0m\u001b[0mi\u001b[0m\u001b[0;34m]\u001b[0m\u001b[0;34m)\u001b[0m\u001b[0;34m:\u001b[0m\u001b[0;34m\u001b[0m\u001b[0;34m\u001b[0m\u001b[0m\n",
      "\u001b[0;32m~/SplitfedSSL_otherdataset/utils/similarity.py\u001b[0m in \u001b[0;36msimilarity_mat\u001b[0;34m(save_path, epoch, matidx, clients_idxs, clients, shared_data_loader, nclasses, nsamples)\u001b[0m\n\u001b[1;32m     34\u001b[0m \u001b[0;34m\u001b[0m\u001b[0m\n\u001b[1;32m     35\u001b[0m                 \u001b[0;31m# net = copy.deepcopy(clients[idx]) for supervised\u001b[0m\u001b[0;34m\u001b[0m\u001b[0;34m\u001b[0m\u001b[0;34m\u001b[0m\u001b[0m\n\u001b[0;32m---> 36\u001b[0;31m                 \u001b[0mnet\u001b[0m \u001b[0;34m=\u001b[0m \u001b[0mcopy\u001b[0m\u001b[0;34m.\u001b[0m\u001b[0mdeepcopy\u001b[0m\u001b[0;34m(\u001b[0m\u001b[0mnn\u001b[0m\u001b[0;34m.\u001b[0m\u001b[0mSequential\u001b[0m\u001b[0;34m(\u001b[0m\u001b[0;34m*\u001b[0m\u001b[0mlist\u001b[0m\u001b[0;34m(\u001b[0m\u001b[0mclients\u001b[0m\u001b[0;34m[\u001b[0m\u001b[0midx\u001b[0m\u001b[0;34m]\u001b[0m\u001b[0;34m.\u001b[0m\u001b[0monline_encoder\u001b[0m\u001b[0;34m.\u001b[0m\u001b[0mchildren\u001b[0m\u001b[0;34m(\u001b[0m\u001b[0;34m)\u001b[0m\u001b[0;34m)\u001b[0m\u001b[0;34m[\u001b[0m\u001b[0;34m:\u001b[0m\u001b[0;34m-\u001b[0m\u001b[0;36m1\u001b[0m\u001b[0;34m]\u001b[0m\u001b[0;34m)\u001b[0m\u001b[0;34m)\u001b[0m\u001b[0;34m\u001b[0m\u001b[0;34m\u001b[0m\u001b[0m\n\u001b[0m\u001b[1;32m     37\u001b[0m                 \u001b[0mnet\u001b[0m\u001b[0;34m.\u001b[0m\u001b[0mcuda\u001b[0m\u001b[0;34m(\u001b[0m\u001b[0;34m)\u001b[0m\u001b[0;34m\u001b[0m\u001b[0;34m\u001b[0m\u001b[0m\n\u001b[1;32m     38\u001b[0m                 \u001b[0mnet\u001b[0m\u001b[0;34m.\u001b[0m\u001b[0meval\u001b[0m\u001b[0;34m(\u001b[0m\u001b[0;34m)\u001b[0m\u001b[0;34m\u001b[0m\u001b[0;34m\u001b[0m\u001b[0m\n",
      "\u001b[0;32m~/.conda/envs/splitfedssl/lib/python3.7/site-packages/torch/nn/modules/module.py\u001b[0m in \u001b[0;36m__getattr__\u001b[0;34m(self, name)\u001b[0m\n\u001b[1;32m   1268\u001b[0m                 \u001b[0;32mreturn\u001b[0m \u001b[0mmodules\u001b[0m\u001b[0;34m[\u001b[0m\u001b[0mname\u001b[0m\u001b[0;34m]\u001b[0m\u001b[0;34m\u001b[0m\u001b[0;34m\u001b[0m\u001b[0m\n\u001b[1;32m   1269\u001b[0m         raise AttributeError(\"'{}' object has no attribute '{}'\".format(\n\u001b[0;32m-> 1270\u001b[0;31m             type(self).__name__, name))\n\u001b[0m\u001b[1;32m   1271\u001b[0m \u001b[0;34m\u001b[0m\u001b[0m\n\u001b[1;32m   1272\u001b[0m     \u001b[0;32mdef\u001b[0m \u001b[0m__setattr__\u001b[0m\u001b[0;34m(\u001b[0m\u001b[0mself\u001b[0m\u001b[0;34m,\u001b[0m \u001b[0mname\u001b[0m\u001b[0;34m:\u001b[0m \u001b[0mstr\u001b[0m\u001b[0;34m,\u001b[0m \u001b[0mvalue\u001b[0m\u001b[0;34m:\u001b[0m \u001b[0mUnion\u001b[0m\u001b[0;34m[\u001b[0m\u001b[0mTensor\u001b[0m\u001b[0;34m,\u001b[0m \u001b[0;34m'Module'\u001b[0m\u001b[0;34m]\u001b[0m\u001b[0;34m)\u001b[0m \u001b[0;34m->\u001b[0m \u001b[0;32mNone\u001b[0m\u001b[0;34m:\u001b[0m\u001b[0;34m\u001b[0m\u001b[0;34m\u001b[0m\u001b[0m\n",
      "\u001b[0;31mAttributeError\u001b[0m: 'ResNet' object has no attribute 'online_encoder'"
     ]
    }
   ],
   "source": [
    "client_models, train_loss = training(client_models, global_model, optimizer_server, optimizer_clients, H[0], H[2], H[4])"
   ]
  },
  {
   "cell_type": "code",
   "execution_count": null,
   "metadata": {
    "execution": {
     "iopub.status.busy": "2024-03-31T11:19:10.812631Z",
     "iopub.status.idle": "2024-03-31T11:19:10.812731Z",
     "shell.execute_reply": "2024-03-31T11:19:10.812686Z",
     "shell.execute_reply.started": "2024-03-31T11:19:10.812681Z"
    },
    "id": "h5St42vvK2Jj",
    "tags": []
   },
   "outputs": [],
   "source": [
    "torch.save(client_model.online_encoder.cpu().state_dict(), save_path + \"_final.pt\")"
   ]
  },
  {
   "cell_type": "code",
   "execution_count": null,
   "metadata": {
    "execution": {
     "iopub.status.busy": "2024-03-31T11:19:10.812934Z",
     "iopub.status.idle": "2024-03-31T11:19:10.813025Z",
     "shell.execute_reply": "2024-03-31T11:19:10.812982Z",
     "shell.execute_reply.started": "2024-03-31T11:19:10.812978Z"
    }
   },
   "outputs": [],
   "source": [
    "import matplotlib.pyplot as plt\n",
    "\n",
    "plt.plot(train_loss)\n",
    "plt.xlabel('epochs')\n",
    "plt.ylabel('Loss')\n",
    "plt.title('Training Loss Curve')\n",
    "plt.show()"
   ]
  },
  {
   "cell_type": "code",
   "execution_count": null,
   "metadata": {
    "execution": {
     "iopub.status.busy": "2024-03-31T11:19:10.813251Z",
     "iopub.status.idle": "2024-03-31T11:19:10.813340Z",
     "shell.execute_reply": "2024-03-31T11:19:10.813301Z",
     "shell.execute_reply.started": "2024-03-31T11:19:10.813296Z"
    }
   },
   "outputs": [],
   "source": [
    "# %load_ext tensorboard\n",
    "\n",
    "# %tensorboard --logdir=logs//SplitFSSL_BYOL32_DifAvgtimes --bind_all --port=7057"
   ]
  },
  {
   "cell_type": "code",
   "execution_count": null,
   "metadata": {},
   "outputs": [],
   "source": []
  }
 ],
 "metadata": {
  "accelerator": "GPU",
  "colab": {
   "machine_shape": "hm",
   "provenance": []
  },
  "kernelspec": {
   "display_name": "Python [conda env:.conda-splitfedssl]",
   "language": "python",
   "name": "conda-env-.conda-splitfedssl-py"
  },
  "language_info": {
   "codemirror_mode": {
    "name": "ipython",
    "version": 3
   },
   "file_extension": ".py",
   "mimetype": "text/x-python",
   "name": "python",
   "nbconvert_exporter": "python",
   "pygments_lexer": "ipython3",
   "version": "3.7.16"
  }
 },
 "nbformat": 4,
 "nbformat_minor": 4
}
